{
 "cells": [
  {
   "cell_type": "markdown",
   "id": "385316a7",
   "metadata": {},
   "source": [
    "# Importing Libraries"
   ]
  },
  {
   "cell_type": "code",
   "execution_count": 1,
   "id": "7bdea5d4",
   "metadata": {},
   "outputs": [],
   "source": [
    "import pandas as pd\n",
    "import numpy as np\n",
    "import matplotlib.pyplot as plt\n",
    "import seaborn as sns"
   ]
  },
  {
   "cell_type": "markdown",
   "id": "4c60e27e",
   "metadata": {},
   "source": [
    "**Reading the Data**"
   ]
  },
  {
   "cell_type": "code",
   "execution_count": 2,
   "id": "3ee0aeef",
   "metadata": {},
   "outputs": [],
   "source": [
    "train = pd.read_csv('train_users_2.csv', \n",
    "                    parse_dates=['date_account_created', 'timestamp_first_active', 'date_first_booking'])\n",
    "test = pd.read_csv('test_users.csv',\n",
    "                  parse_dates=['date_account_created', 'timestamp_first_active'])"
   ]
  },
  {
   "cell_type": "code",
   "execution_count": 3,
   "id": "2ed8d6a9",
   "metadata": {},
   "outputs": [],
   "source": [
    "countries = pd.read_csv('countries.csv')\n",
    "sessions = pd.read_csv('sessions.csv')\n",
    "age_bracket = pd.read_csv('age_gender_bkts.csv')\n",
    "ss = pd.read_csv('sample_submission_NDF.csv')"
   ]
  },
  {
   "cell_type": "markdown",
   "id": "919a83d6",
   "metadata": {},
   "source": [
    "# EDA"
   ]
  },
  {
   "cell_type": "code",
   "execution_count": 4,
   "id": "7c9a929d",
   "metadata": {},
   "outputs": [
    {
     "data": {
      "text/html": [
       "<div>\n",
       "<style scoped>\n",
       "    .dataframe tbody tr th:only-of-type {\n",
       "        vertical-align: middle;\n",
       "    }\n",
       "\n",
       "    .dataframe tbody tr th {\n",
       "        vertical-align: top;\n",
       "    }\n",
       "\n",
       "    .dataframe thead th {\n",
       "        text-align: right;\n",
       "    }\n",
       "</style>\n",
       "<table border=\"1\" class=\"dataframe\">\n",
       "  <thead>\n",
       "    <tr style=\"text-align: right;\">\n",
       "      <th></th>\n",
       "      <th>id</th>\n",
       "      <th>date_account_created</th>\n",
       "      <th>timestamp_first_active</th>\n",
       "      <th>date_first_booking</th>\n",
       "      <th>gender</th>\n",
       "      <th>age</th>\n",
       "      <th>signup_method</th>\n",
       "      <th>signup_flow</th>\n",
       "      <th>language</th>\n",
       "      <th>affiliate_channel</th>\n",
       "      <th>affiliate_provider</th>\n",
       "      <th>first_affiliate_tracked</th>\n",
       "      <th>signup_app</th>\n",
       "      <th>first_device_type</th>\n",
       "      <th>first_browser</th>\n",
       "      <th>country_destination</th>\n",
       "    </tr>\n",
       "  </thead>\n",
       "  <tbody>\n",
       "    <tr>\n",
       "      <th>0</th>\n",
       "      <td>gxn3p5htnn</td>\n",
       "      <td>2010-06-28</td>\n",
       "      <td>2009-03-19 04:32:55</td>\n",
       "      <td>NaT</td>\n",
       "      <td>-unknown-</td>\n",
       "      <td>NaN</td>\n",
       "      <td>facebook</td>\n",
       "      <td>0</td>\n",
       "      <td>en</td>\n",
       "      <td>direct</td>\n",
       "      <td>direct</td>\n",
       "      <td>untracked</td>\n",
       "      <td>Web</td>\n",
       "      <td>Mac Desktop</td>\n",
       "      <td>Chrome</td>\n",
       "      <td>NDF</td>\n",
       "    </tr>\n",
       "    <tr>\n",
       "      <th>1</th>\n",
       "      <td>820tgsjxq7</td>\n",
       "      <td>2011-05-25</td>\n",
       "      <td>2009-05-23 17:48:09</td>\n",
       "      <td>NaT</td>\n",
       "      <td>MALE</td>\n",
       "      <td>38.0</td>\n",
       "      <td>facebook</td>\n",
       "      <td>0</td>\n",
       "      <td>en</td>\n",
       "      <td>seo</td>\n",
       "      <td>google</td>\n",
       "      <td>untracked</td>\n",
       "      <td>Web</td>\n",
       "      <td>Mac Desktop</td>\n",
       "      <td>Chrome</td>\n",
       "      <td>NDF</td>\n",
       "    </tr>\n",
       "    <tr>\n",
       "      <th>2</th>\n",
       "      <td>4ft3gnwmtx</td>\n",
       "      <td>2010-09-28</td>\n",
       "      <td>2009-06-09 23:12:47</td>\n",
       "      <td>2010-08-02</td>\n",
       "      <td>FEMALE</td>\n",
       "      <td>56.0</td>\n",
       "      <td>basic</td>\n",
       "      <td>3</td>\n",
       "      <td>en</td>\n",
       "      <td>direct</td>\n",
       "      <td>direct</td>\n",
       "      <td>untracked</td>\n",
       "      <td>Web</td>\n",
       "      <td>Windows Desktop</td>\n",
       "      <td>IE</td>\n",
       "      <td>US</td>\n",
       "    </tr>\n",
       "    <tr>\n",
       "      <th>3</th>\n",
       "      <td>bjjt8pjhuk</td>\n",
       "      <td>2011-12-05</td>\n",
       "      <td>2009-10-31 06:01:29</td>\n",
       "      <td>2012-09-08</td>\n",
       "      <td>FEMALE</td>\n",
       "      <td>42.0</td>\n",
       "      <td>facebook</td>\n",
       "      <td>0</td>\n",
       "      <td>en</td>\n",
       "      <td>direct</td>\n",
       "      <td>direct</td>\n",
       "      <td>untracked</td>\n",
       "      <td>Web</td>\n",
       "      <td>Mac Desktop</td>\n",
       "      <td>Firefox</td>\n",
       "      <td>other</td>\n",
       "    </tr>\n",
       "    <tr>\n",
       "      <th>4</th>\n",
       "      <td>87mebub9p4</td>\n",
       "      <td>2010-09-14</td>\n",
       "      <td>2009-12-08 06:11:05</td>\n",
       "      <td>2010-02-18</td>\n",
       "      <td>-unknown-</td>\n",
       "      <td>41.0</td>\n",
       "      <td>basic</td>\n",
       "      <td>0</td>\n",
       "      <td>en</td>\n",
       "      <td>direct</td>\n",
       "      <td>direct</td>\n",
       "      <td>untracked</td>\n",
       "      <td>Web</td>\n",
       "      <td>Mac Desktop</td>\n",
       "      <td>Chrome</td>\n",
       "      <td>US</td>\n",
       "    </tr>\n",
       "  </tbody>\n",
       "</table>\n",
       "</div>"
      ],
      "text/plain": [
       "           id date_account_created timestamp_first_active date_first_booking  \\\n",
       "0  gxn3p5htnn           2010-06-28    2009-03-19 04:32:55                NaT   \n",
       "1  820tgsjxq7           2011-05-25    2009-05-23 17:48:09                NaT   \n",
       "2  4ft3gnwmtx           2010-09-28    2009-06-09 23:12:47         2010-08-02   \n",
       "3  bjjt8pjhuk           2011-12-05    2009-10-31 06:01:29         2012-09-08   \n",
       "4  87mebub9p4           2010-09-14    2009-12-08 06:11:05         2010-02-18   \n",
       "\n",
       "      gender   age signup_method  signup_flow language affiliate_channel  \\\n",
       "0  -unknown-   NaN      facebook            0       en            direct   \n",
       "1       MALE  38.0      facebook            0       en               seo   \n",
       "2     FEMALE  56.0         basic            3       en            direct   \n",
       "3     FEMALE  42.0      facebook            0       en            direct   \n",
       "4  -unknown-  41.0         basic            0       en            direct   \n",
       "\n",
       "  affiliate_provider first_affiliate_tracked signup_app first_device_type  \\\n",
       "0             direct               untracked        Web       Mac Desktop   \n",
       "1             google               untracked        Web       Mac Desktop   \n",
       "2             direct               untracked        Web   Windows Desktop   \n",
       "3             direct               untracked        Web       Mac Desktop   \n",
       "4             direct               untracked        Web       Mac Desktop   \n",
       "\n",
       "  first_browser country_destination  \n",
       "0        Chrome                 NDF  \n",
       "1        Chrome                 NDF  \n",
       "2            IE                  US  \n",
       "3       Firefox               other  \n",
       "4        Chrome                  US  "
      ]
     },
     "execution_count": 4,
     "metadata": {},
     "output_type": "execute_result"
    }
   ],
   "source": [
    "train.head()"
   ]
  },
  {
   "cell_type": "code",
   "execution_count": 5,
   "id": "efd7d26c",
   "metadata": {},
   "outputs": [
    {
     "data": {
      "text/html": [
       "<div>\n",
       "<style scoped>\n",
       "    .dataframe tbody tr th:only-of-type {\n",
       "        vertical-align: middle;\n",
       "    }\n",
       "\n",
       "    .dataframe tbody tr th {\n",
       "        vertical-align: top;\n",
       "    }\n",
       "\n",
       "    .dataframe thead th {\n",
       "        text-align: right;\n",
       "    }\n",
       "</style>\n",
       "<table border=\"1\" class=\"dataframe\">\n",
       "  <thead>\n",
       "    <tr style=\"text-align: right;\">\n",
       "      <th></th>\n",
       "      <th>id</th>\n",
       "      <th>date_account_created</th>\n",
       "      <th>timestamp_first_active</th>\n",
       "      <th>date_first_booking</th>\n",
       "      <th>gender</th>\n",
       "      <th>age</th>\n",
       "      <th>signup_method</th>\n",
       "      <th>signup_flow</th>\n",
       "      <th>language</th>\n",
       "      <th>affiliate_channel</th>\n",
       "      <th>affiliate_provider</th>\n",
       "      <th>first_affiliate_tracked</th>\n",
       "      <th>signup_app</th>\n",
       "      <th>first_device_type</th>\n",
       "      <th>first_browser</th>\n",
       "    </tr>\n",
       "  </thead>\n",
       "  <tbody>\n",
       "    <tr>\n",
       "      <th>0</th>\n",
       "      <td>5uwns89zht</td>\n",
       "      <td>2014-07-01</td>\n",
       "      <td>2014-07-01 00:00:06</td>\n",
       "      <td>NaN</td>\n",
       "      <td>FEMALE</td>\n",
       "      <td>35.0</td>\n",
       "      <td>facebook</td>\n",
       "      <td>0</td>\n",
       "      <td>en</td>\n",
       "      <td>direct</td>\n",
       "      <td>direct</td>\n",
       "      <td>untracked</td>\n",
       "      <td>Moweb</td>\n",
       "      <td>iPhone</td>\n",
       "      <td>Mobile Safari</td>\n",
       "    </tr>\n",
       "    <tr>\n",
       "      <th>1</th>\n",
       "      <td>jtl0dijy2j</td>\n",
       "      <td>2014-07-01</td>\n",
       "      <td>2014-07-01 00:00:51</td>\n",
       "      <td>NaN</td>\n",
       "      <td>-unknown-</td>\n",
       "      <td>NaN</td>\n",
       "      <td>basic</td>\n",
       "      <td>0</td>\n",
       "      <td>en</td>\n",
       "      <td>direct</td>\n",
       "      <td>direct</td>\n",
       "      <td>untracked</td>\n",
       "      <td>Moweb</td>\n",
       "      <td>iPhone</td>\n",
       "      <td>Mobile Safari</td>\n",
       "    </tr>\n",
       "    <tr>\n",
       "      <th>2</th>\n",
       "      <td>xx0ulgorjt</td>\n",
       "      <td>2014-07-01</td>\n",
       "      <td>2014-07-01 00:01:48</td>\n",
       "      <td>NaN</td>\n",
       "      <td>-unknown-</td>\n",
       "      <td>NaN</td>\n",
       "      <td>basic</td>\n",
       "      <td>0</td>\n",
       "      <td>en</td>\n",
       "      <td>direct</td>\n",
       "      <td>direct</td>\n",
       "      <td>linked</td>\n",
       "      <td>Web</td>\n",
       "      <td>Windows Desktop</td>\n",
       "      <td>Chrome</td>\n",
       "    </tr>\n",
       "    <tr>\n",
       "      <th>3</th>\n",
       "      <td>6c6puo6ix0</td>\n",
       "      <td>2014-07-01</td>\n",
       "      <td>2014-07-01 00:02:15</td>\n",
       "      <td>NaN</td>\n",
       "      <td>-unknown-</td>\n",
       "      <td>NaN</td>\n",
       "      <td>basic</td>\n",
       "      <td>0</td>\n",
       "      <td>en</td>\n",
       "      <td>direct</td>\n",
       "      <td>direct</td>\n",
       "      <td>linked</td>\n",
       "      <td>Web</td>\n",
       "      <td>Windows Desktop</td>\n",
       "      <td>IE</td>\n",
       "    </tr>\n",
       "    <tr>\n",
       "      <th>4</th>\n",
       "      <td>czqhjk3yfe</td>\n",
       "      <td>2014-07-01</td>\n",
       "      <td>2014-07-01 00:03:05</td>\n",
       "      <td>NaN</td>\n",
       "      <td>-unknown-</td>\n",
       "      <td>NaN</td>\n",
       "      <td>basic</td>\n",
       "      <td>0</td>\n",
       "      <td>en</td>\n",
       "      <td>direct</td>\n",
       "      <td>direct</td>\n",
       "      <td>untracked</td>\n",
       "      <td>Web</td>\n",
       "      <td>Mac Desktop</td>\n",
       "      <td>Safari</td>\n",
       "    </tr>\n",
       "  </tbody>\n",
       "</table>\n",
       "</div>"
      ],
      "text/plain": [
       "           id date_account_created timestamp_first_active  date_first_booking  \\\n",
       "0  5uwns89zht           2014-07-01    2014-07-01 00:00:06                 NaN   \n",
       "1  jtl0dijy2j           2014-07-01    2014-07-01 00:00:51                 NaN   \n",
       "2  xx0ulgorjt           2014-07-01    2014-07-01 00:01:48                 NaN   \n",
       "3  6c6puo6ix0           2014-07-01    2014-07-01 00:02:15                 NaN   \n",
       "4  czqhjk3yfe           2014-07-01    2014-07-01 00:03:05                 NaN   \n",
       "\n",
       "      gender   age signup_method  signup_flow language affiliate_channel  \\\n",
       "0     FEMALE  35.0      facebook            0       en            direct   \n",
       "1  -unknown-   NaN         basic            0       en            direct   \n",
       "2  -unknown-   NaN         basic            0       en            direct   \n",
       "3  -unknown-   NaN         basic            0       en            direct   \n",
       "4  -unknown-   NaN         basic            0       en            direct   \n",
       "\n",
       "  affiliate_provider first_affiliate_tracked signup_app first_device_type  \\\n",
       "0             direct               untracked      Moweb            iPhone   \n",
       "1             direct               untracked      Moweb            iPhone   \n",
       "2             direct                  linked        Web   Windows Desktop   \n",
       "3             direct                  linked        Web   Windows Desktop   \n",
       "4             direct               untracked        Web       Mac Desktop   \n",
       "\n",
       "   first_browser  \n",
       "0  Mobile Safari  \n",
       "1  Mobile Safari  \n",
       "2         Chrome  \n",
       "3             IE  \n",
       "4         Safari  "
      ]
     },
     "execution_count": 5,
     "metadata": {},
     "output_type": "execute_result"
    }
   ],
   "source": [
    "test.head()"
   ]
  },
  {
   "cell_type": "code",
   "execution_count": 6,
   "id": "b6a4f29a",
   "metadata": {},
   "outputs": [
    {
     "data": {
      "text/html": [
       "<div>\n",
       "<style scoped>\n",
       "    .dataframe tbody tr th:only-of-type {\n",
       "        vertical-align: middle;\n",
       "    }\n",
       "\n",
       "    .dataframe tbody tr th {\n",
       "        vertical-align: top;\n",
       "    }\n",
       "\n",
       "    .dataframe thead th {\n",
       "        text-align: right;\n",
       "    }\n",
       "</style>\n",
       "<table border=\"1\" class=\"dataframe\">\n",
       "  <thead>\n",
       "    <tr style=\"text-align: right;\">\n",
       "      <th></th>\n",
       "      <th>country_destination</th>\n",
       "      <th>lat_destination</th>\n",
       "      <th>lng_destination</th>\n",
       "      <th>distance_km</th>\n",
       "      <th>destination_km2</th>\n",
       "      <th>destination_language</th>\n",
       "      <th>language_levenshtein_distance</th>\n",
       "    </tr>\n",
       "  </thead>\n",
       "  <tbody>\n",
       "    <tr>\n",
       "      <th>0</th>\n",
       "      <td>AU</td>\n",
       "      <td>-26.853388</td>\n",
       "      <td>133.275160</td>\n",
       "      <td>15297.7440</td>\n",
       "      <td>7741220.0</td>\n",
       "      <td>eng</td>\n",
       "      <td>0.00</td>\n",
       "    </tr>\n",
       "    <tr>\n",
       "      <th>1</th>\n",
       "      <td>CA</td>\n",
       "      <td>62.393303</td>\n",
       "      <td>-96.818146</td>\n",
       "      <td>2828.1333</td>\n",
       "      <td>9984670.0</td>\n",
       "      <td>eng</td>\n",
       "      <td>0.00</td>\n",
       "    </tr>\n",
       "    <tr>\n",
       "      <th>2</th>\n",
       "      <td>DE</td>\n",
       "      <td>51.165707</td>\n",
       "      <td>10.452764</td>\n",
       "      <td>7879.5680</td>\n",
       "      <td>357022.0</td>\n",
       "      <td>deu</td>\n",
       "      <td>72.61</td>\n",
       "    </tr>\n",
       "    <tr>\n",
       "      <th>3</th>\n",
       "      <td>ES</td>\n",
       "      <td>39.896027</td>\n",
       "      <td>-2.487694</td>\n",
       "      <td>7730.7240</td>\n",
       "      <td>505370.0</td>\n",
       "      <td>spa</td>\n",
       "      <td>92.25</td>\n",
       "    </tr>\n",
       "    <tr>\n",
       "      <th>4</th>\n",
       "      <td>FR</td>\n",
       "      <td>46.232193</td>\n",
       "      <td>2.209667</td>\n",
       "      <td>7682.9450</td>\n",
       "      <td>643801.0</td>\n",
       "      <td>fra</td>\n",
       "      <td>92.06</td>\n",
       "    </tr>\n",
       "  </tbody>\n",
       "</table>\n",
       "</div>"
      ],
      "text/plain": [
       "  country_destination  lat_destination  lng_destination  distance_km  \\\n",
       "0                  AU       -26.853388       133.275160   15297.7440   \n",
       "1                  CA        62.393303       -96.818146    2828.1333   \n",
       "2                  DE        51.165707        10.452764    7879.5680   \n",
       "3                  ES        39.896027        -2.487694    7730.7240   \n",
       "4                  FR        46.232193         2.209667    7682.9450   \n",
       "\n",
       "   destination_km2 destination_language   language_levenshtein_distance  \n",
       "0        7741220.0                   eng                           0.00  \n",
       "1        9984670.0                   eng                           0.00  \n",
       "2         357022.0                   deu                          72.61  \n",
       "3         505370.0                   spa                          92.25  \n",
       "4         643801.0                   fra                          92.06  "
      ]
     },
     "execution_count": 6,
     "metadata": {},
     "output_type": "execute_result"
    }
   ],
   "source": [
    "countries.head()"
   ]
  },
  {
   "cell_type": "code",
   "execution_count": 7,
   "id": "f5ca7506",
   "metadata": {},
   "outputs": [
    {
     "data": {
      "text/html": [
       "<div>\n",
       "<style scoped>\n",
       "    .dataframe tbody tr th:only-of-type {\n",
       "        vertical-align: middle;\n",
       "    }\n",
       "\n",
       "    .dataframe tbody tr th {\n",
       "        vertical-align: top;\n",
       "    }\n",
       "\n",
       "    .dataframe thead th {\n",
       "        text-align: right;\n",
       "    }\n",
       "</style>\n",
       "<table border=\"1\" class=\"dataframe\">\n",
       "  <thead>\n",
       "    <tr style=\"text-align: right;\">\n",
       "      <th></th>\n",
       "      <th>user_id</th>\n",
       "      <th>action</th>\n",
       "      <th>action_type</th>\n",
       "      <th>action_detail</th>\n",
       "      <th>device_type</th>\n",
       "      <th>secs_elapsed</th>\n",
       "    </tr>\n",
       "  </thead>\n",
       "  <tbody>\n",
       "    <tr>\n",
       "      <th>0</th>\n",
       "      <td>d1mm9tcy42</td>\n",
       "      <td>lookup</td>\n",
       "      <td>NaN</td>\n",
       "      <td>NaN</td>\n",
       "      <td>Windows Desktop</td>\n",
       "      <td>319.0</td>\n",
       "    </tr>\n",
       "    <tr>\n",
       "      <th>1</th>\n",
       "      <td>d1mm9tcy42</td>\n",
       "      <td>search_results</td>\n",
       "      <td>click</td>\n",
       "      <td>view_search_results</td>\n",
       "      <td>Windows Desktop</td>\n",
       "      <td>67753.0</td>\n",
       "    </tr>\n",
       "    <tr>\n",
       "      <th>2</th>\n",
       "      <td>d1mm9tcy42</td>\n",
       "      <td>lookup</td>\n",
       "      <td>NaN</td>\n",
       "      <td>NaN</td>\n",
       "      <td>Windows Desktop</td>\n",
       "      <td>301.0</td>\n",
       "    </tr>\n",
       "    <tr>\n",
       "      <th>3</th>\n",
       "      <td>d1mm9tcy42</td>\n",
       "      <td>search_results</td>\n",
       "      <td>click</td>\n",
       "      <td>view_search_results</td>\n",
       "      <td>Windows Desktop</td>\n",
       "      <td>22141.0</td>\n",
       "    </tr>\n",
       "    <tr>\n",
       "      <th>4</th>\n",
       "      <td>d1mm9tcy42</td>\n",
       "      <td>lookup</td>\n",
       "      <td>NaN</td>\n",
       "      <td>NaN</td>\n",
       "      <td>Windows Desktop</td>\n",
       "      <td>435.0</td>\n",
       "    </tr>\n",
       "  </tbody>\n",
       "</table>\n",
       "</div>"
      ],
      "text/plain": [
       "      user_id          action action_type        action_detail  \\\n",
       "0  d1mm9tcy42          lookup         NaN                  NaN   \n",
       "1  d1mm9tcy42  search_results       click  view_search_results   \n",
       "2  d1mm9tcy42          lookup         NaN                  NaN   \n",
       "3  d1mm9tcy42  search_results       click  view_search_results   \n",
       "4  d1mm9tcy42          lookup         NaN                  NaN   \n",
       "\n",
       "       device_type  secs_elapsed  \n",
       "0  Windows Desktop         319.0  \n",
       "1  Windows Desktop       67753.0  \n",
       "2  Windows Desktop         301.0  \n",
       "3  Windows Desktop       22141.0  \n",
       "4  Windows Desktop         435.0  "
      ]
     },
     "execution_count": 7,
     "metadata": {},
     "output_type": "execute_result"
    }
   ],
   "source": [
    "sessions.head()"
   ]
  },
  {
   "cell_type": "code",
   "execution_count": 8,
   "id": "46e7c01f",
   "metadata": {},
   "outputs": [
    {
     "data": {
      "text/html": [
       "<div>\n",
       "<style scoped>\n",
       "    .dataframe tbody tr th:only-of-type {\n",
       "        vertical-align: middle;\n",
       "    }\n",
       "\n",
       "    .dataframe tbody tr th {\n",
       "        vertical-align: top;\n",
       "    }\n",
       "\n",
       "    .dataframe thead th {\n",
       "        text-align: right;\n",
       "    }\n",
       "</style>\n",
       "<table border=\"1\" class=\"dataframe\">\n",
       "  <thead>\n",
       "    <tr style=\"text-align: right;\">\n",
       "      <th></th>\n",
       "      <th>age_bucket</th>\n",
       "      <th>country_destination</th>\n",
       "      <th>gender</th>\n",
       "      <th>population_in_thousands</th>\n",
       "      <th>year</th>\n",
       "    </tr>\n",
       "  </thead>\n",
       "  <tbody>\n",
       "    <tr>\n",
       "      <th>0</th>\n",
       "      <td>100+</td>\n",
       "      <td>AU</td>\n",
       "      <td>male</td>\n",
       "      <td>1.0</td>\n",
       "      <td>2015.0</td>\n",
       "    </tr>\n",
       "    <tr>\n",
       "      <th>1</th>\n",
       "      <td>95-99</td>\n",
       "      <td>AU</td>\n",
       "      <td>male</td>\n",
       "      <td>9.0</td>\n",
       "      <td>2015.0</td>\n",
       "    </tr>\n",
       "    <tr>\n",
       "      <th>2</th>\n",
       "      <td>90-94</td>\n",
       "      <td>AU</td>\n",
       "      <td>male</td>\n",
       "      <td>47.0</td>\n",
       "      <td>2015.0</td>\n",
       "    </tr>\n",
       "    <tr>\n",
       "      <th>3</th>\n",
       "      <td>85-89</td>\n",
       "      <td>AU</td>\n",
       "      <td>male</td>\n",
       "      <td>118.0</td>\n",
       "      <td>2015.0</td>\n",
       "    </tr>\n",
       "    <tr>\n",
       "      <th>4</th>\n",
       "      <td>80-84</td>\n",
       "      <td>AU</td>\n",
       "      <td>male</td>\n",
       "      <td>199.0</td>\n",
       "      <td>2015.0</td>\n",
       "    </tr>\n",
       "  </tbody>\n",
       "</table>\n",
       "</div>"
      ],
      "text/plain": [
       "  age_bucket country_destination gender  population_in_thousands    year\n",
       "0       100+                  AU   male                      1.0  2015.0\n",
       "1      95-99                  AU   male                      9.0  2015.0\n",
       "2      90-94                  AU   male                     47.0  2015.0\n",
       "3      85-89                  AU   male                    118.0  2015.0\n",
       "4      80-84                  AU   male                    199.0  2015.0"
      ]
     },
     "execution_count": 8,
     "metadata": {},
     "output_type": "execute_result"
    }
   ],
   "source": [
    "age_bracket.head()"
   ]
  },
  {
   "cell_type": "code",
   "execution_count": 9,
   "id": "f277ddf0",
   "metadata": {},
   "outputs": [
    {
     "name": "stdout",
     "output_type": "stream",
     "text": [
      "<class 'pandas.core.frame.DataFrame'>\n",
      "RangeIndex: 213451 entries, 0 to 213450\n",
      "Data columns (total 16 columns):\n",
      " #   Column                   Non-Null Count   Dtype         \n",
      "---  ------                   --------------   -----         \n",
      " 0   id                       213451 non-null  object        \n",
      " 1   date_account_created     213451 non-null  datetime64[ns]\n",
      " 2   timestamp_first_active   213451 non-null  datetime64[ns]\n",
      " 3   date_first_booking       88908 non-null   datetime64[ns]\n",
      " 4   gender                   213451 non-null  object        \n",
      " 5   age                      125461 non-null  float64       \n",
      " 6   signup_method            213451 non-null  object        \n",
      " 7   signup_flow              213451 non-null  int64         \n",
      " 8   language                 213451 non-null  object        \n",
      " 9   affiliate_channel        213451 non-null  object        \n",
      " 10  affiliate_provider       213451 non-null  object        \n",
      " 11  first_affiliate_tracked  207386 non-null  object        \n",
      " 12  signup_app               213451 non-null  object        \n",
      " 13  first_device_type        213451 non-null  object        \n",
      " 14  first_browser            213451 non-null  object        \n",
      " 15  country_destination      213451 non-null  object        \n",
      "dtypes: datetime64[ns](3), float64(1), int64(1), object(11)\n",
      "memory usage: 26.1+ MB\n"
     ]
    }
   ],
   "source": [
    "train.info()"
   ]
  },
  {
   "cell_type": "code",
   "execution_count": 10,
   "id": "8324542c",
   "metadata": {},
   "outputs": [
    {
     "data": {
      "text/html": [
       "<div>\n",
       "<style scoped>\n",
       "    .dataframe tbody tr th:only-of-type {\n",
       "        vertical-align: middle;\n",
       "    }\n",
       "\n",
       "    .dataframe tbody tr th {\n",
       "        vertical-align: top;\n",
       "    }\n",
       "\n",
       "    .dataframe thead th {\n",
       "        text-align: right;\n",
       "    }\n",
       "</style>\n",
       "<table border=\"1\" class=\"dataframe\">\n",
       "  <thead>\n",
       "    <tr style=\"text-align: right;\">\n",
       "      <th></th>\n",
       "      <th>age</th>\n",
       "      <th>signup_flow</th>\n",
       "    </tr>\n",
       "  </thead>\n",
       "  <tbody>\n",
       "    <tr>\n",
       "      <th>count</th>\n",
       "      <td>125461.000000</td>\n",
       "      <td>213451.000000</td>\n",
       "    </tr>\n",
       "    <tr>\n",
       "      <th>mean</th>\n",
       "      <td>49.668335</td>\n",
       "      <td>3.267387</td>\n",
       "    </tr>\n",
       "    <tr>\n",
       "      <th>std</th>\n",
       "      <td>155.666612</td>\n",
       "      <td>7.637707</td>\n",
       "    </tr>\n",
       "    <tr>\n",
       "      <th>min</th>\n",
       "      <td>1.000000</td>\n",
       "      <td>0.000000</td>\n",
       "    </tr>\n",
       "    <tr>\n",
       "      <th>25%</th>\n",
       "      <td>28.000000</td>\n",
       "      <td>0.000000</td>\n",
       "    </tr>\n",
       "    <tr>\n",
       "      <th>50%</th>\n",
       "      <td>34.000000</td>\n",
       "      <td>0.000000</td>\n",
       "    </tr>\n",
       "    <tr>\n",
       "      <th>75%</th>\n",
       "      <td>43.000000</td>\n",
       "      <td>0.000000</td>\n",
       "    </tr>\n",
       "    <tr>\n",
       "      <th>max</th>\n",
       "      <td>2014.000000</td>\n",
       "      <td>25.000000</td>\n",
       "    </tr>\n",
       "  </tbody>\n",
       "</table>\n",
       "</div>"
      ],
      "text/plain": [
       "                 age    signup_flow\n",
       "count  125461.000000  213451.000000\n",
       "mean       49.668335       3.267387\n",
       "std       155.666612       7.637707\n",
       "min         1.000000       0.000000\n",
       "25%        28.000000       0.000000\n",
       "50%        34.000000       0.000000\n",
       "75%        43.000000       0.000000\n",
       "max      2014.000000      25.000000"
      ]
     },
     "execution_count": 10,
     "metadata": {},
     "output_type": "execute_result"
    }
   ],
   "source": [
    "train.describe()"
   ]
  },
  {
   "cell_type": "code",
   "execution_count": 11,
   "id": "40c45194",
   "metadata": {},
   "outputs": [
    {
     "data": {
      "text/plain": [
       "date_first_booking         0.583473\n",
       "age                        0.412226\n",
       "first_affiliate_tracked    0.028414\n",
       "id                         0.000000\n",
       "date_account_created       0.000000\n",
       "timestamp_first_active     0.000000\n",
       "gender                     0.000000\n",
       "signup_method              0.000000\n",
       "signup_flow                0.000000\n",
       "language                   0.000000\n",
       "affiliate_channel          0.000000\n",
       "affiliate_provider         0.000000\n",
       "signup_app                 0.000000\n",
       "first_device_type          0.000000\n",
       "first_browser              0.000000\n",
       "country_destination        0.000000\n",
       "dtype: float64"
      ]
     },
     "execution_count": 11,
     "metadata": {},
     "output_type": "execute_result"
    }
   ],
   "source": [
    "# Percentage of null values\n",
    "train.isna().mean().sort_values(ascending=False)"
   ]
  },
  {
   "cell_type": "code",
   "execution_count": 12,
   "id": "8e08c0b6",
   "metadata": {},
   "outputs": [],
   "source": [
    "# Splitting the columns\n",
    "cat_cols = ['gender', 'signup_method', 'language', 'affiliate_channel', 'affiliate_provider', 'first_affiliate_tracked',\n",
    "           'signup_app', 'first_browser']\n",
    "date_cols = ['date_account_created', 'timestamp_first_active', 'date_first_booking']\n",
    "num_cols = ['age', 'signup_flow']"
   ]
  },
  {
   "cell_type": "markdown",
   "id": "5f9b2fdc",
   "metadata": {},
   "source": [
    "# Visualizations"
   ]
  },
  {
   "cell_type": "code",
   "execution_count": 13,
   "id": "42b4912d",
   "metadata": {},
   "outputs": [
    {
     "name": "stdout",
     "output_type": "stream",
     "text": [
      "gender\n"
     ]
    },
    {
     "data": {
      "image/png": "[encoded data removed]",
      "text/plain": [
       "<Figure size 720x576 with 1 Axes>"
      ]
     },
     "metadata": {
      "needs_background": "light"
     },
     "output_type": "display_data"
    },
    {
     "name": "stdout",
     "output_type": "stream",
     "text": [
      "signup_method\n"
     ]
    },
    {
     "data": {
      "image/png": "[encoded data removed]",
      "text/plain": [
       "<Figure size 720x576 with 1 Axes>"
      ]
     },
     "metadata": {
      "needs_background": "light"
     },
     "output_type": "display_data"
    },
    {
     "name": "stdout",
     "output_type": "stream",
     "text": [
      "language\n"
     ]
    },
    {
     "data": {
      "image/png": "[encoded data removed]",
      "text/plain": [
       "<Figure size 720x576 with 1 Axes>"
      ]
     },
     "metadata": {
      "needs_background": "light"
     },
     "output_type": "display_data"
    },
    {
     "name": "stdout",
     "output_type": "stream",
     "text": [
      "affiliate_channel\n"
     ]
    },
    {
     "data": {
      "image/png": "[encoded data removed]",
      "text/plain": [
       "<Figure size 720x576 with 1 Axes>"
      ]
     },
     "metadata": {
      "needs_background": "light"
     },
     "output_type": "display_data"
    },
    {
     "name": "stdout",
     "output_type": "stream",
     "text": [
      "affiliate_provider\n"
     ]
    },
    {
     "data": {
      "image/png": "[encoded data removed]",
      "text/plain": [
       "<Figure size 720x576 with 1 Axes>"
      ]
     },
     "metadata": {
      "needs_background": "light"
     },
     "output_type": "display_data"
    },
    {
     "name": "stdout",
     "output_type": "stream",
     "text": [
      "first_affiliate_tracked\n"
     ]
    },
    {
     "data": {
      "image/png": "[encoded data removed]",
      "text/plain": [
       "<Figure size 720x576 with 1 Axes>"
      ]
     },
     "metadata": {
      "needs_background": "light"
     },
     "output_type": "display_data"
    },
    {
     "name": "stdout",
     "output_type": "stream",
     "text": [
      "signup_app\n"
     ]
    },
    {
     "data": {
      "image/png": "[encoded data removed]",
      "text/plain": [
       "<Figure size 720x576 with 1 Axes>"
      ]
     },
     "metadata": {
      "needs_background": "light"
     },
     "output_type": "display_data"
    },
    {
     "name": "stdout",
     "output_type": "stream",
     "text": [
      "first_browser\n"
     ]
    },
    {
     "data": {
      "image/png": "[encoded data removed]",
      "text/plain": [
       "<Figure size 720x576 with 1 Axes>"
      ]
     },
     "metadata": {
      "needs_background": "light"
     },
     "output_type": "display_data"
    }
   ],
   "source": [
    "# Plotting categorical features\n",
    "for cat in cat_cols:\n",
    "    print(cat)\n",
    "    plt.figure(figsize=(10,8))\n",
    "    sns.countplot(x=cat, data=train)\n",
    "    plt.xticks(rotation=90)\n",
    "    plt.show()"
   ]
  },
  {
   "cell_type": "code",
   "execution_count": 14,
   "id": "42a84e43",
   "metadata": {},
   "outputs": [
    {
     "data": {
      "image/png": "[encoded data removed]",
      "text/plain": [
       "<Figure size 432x288 with 1 Axes>"
      ]
     },
     "metadata": {
      "needs_background": "light"
     },
     "output_type": "display_data"
    },
    {
     "data": {
      "image/png": "[encoded data removed]",
      "text/plain": [
       "<Figure size 432x288 with 1 Axes>"
      ]
     },
     "metadata": {
      "needs_background": "light"
     },
     "output_type": "display_data"
    }
   ],
   "source": [
    "# Plotting numerical columns\n",
    "for num in num_cols:\n",
    "    sns.boxplot(x=num, data=train)\n",
    "    plt.show()"
   ]
  },
  {
   "cell_type": "code",
   "execution_count": 15,
   "id": "4600a23a",
   "metadata": {},
   "outputs": [
    {
     "data": {
      "text/plain": [
       "<seaborn.axisgrid.FacetGrid at 0x1f88044a0a0>"
      ]
     },
     "execution_count": 15,
     "metadata": {},
     "output_type": "execute_result"
    },
    {
     "data": {
      "image/png": "[encoded data removed]",
      "text/plain": [
       "<Figure size 360x360 with 1 Axes>"
      ]
     },
     "metadata": {
      "needs_background": "light"
     },
     "output_type": "display_data"
    }
   ],
   "source": [
    "# checking the distribution of signup-flow\n",
    "sns.displot(train['signup_flow'])"
   ]
  },
  {
   "cell_type": "code",
   "execution_count": 16,
   "id": "16355ea1",
   "metadata": {},
   "outputs": [
    {
     "data": {
      "text/plain": [
       "<seaborn.axisgrid.FacetGrid at 0x1f880443d90>"
      ]
     },
     "execution_count": 16,
     "metadata": {},
     "output_type": "execute_result"
    },
    {
     "data": {
      "image/png": "[encoded data removed]",
      "text/plain": [
       "<Figure size 360x360 with 1 Axes>"
      ]
     },
     "metadata": {
      "needs_background": "light"
     },
     "output_type": "display_data"
    }
   ],
   "source": [
    "# checking the distribution of age\n",
    "sns.displot(train['age'], bins=30)"
   ]
  },
  {
   "cell_type": "markdown",
   "id": "0c110699",
   "metadata": {},
   "source": [
    "Age column has outliers\n",
    "\n",
    "Checking the percentage of outliers of Age"
   ]
  },
  {
   "cell_type": "code",
   "execution_count": 17,
   "id": "919cc6ee",
   "metadata": {},
   "outputs": [
    {
     "name": "stdout",
     "output_type": "stream",
     "text": [
      "The percentage of age outliers is 2.6207%\n"
     ]
    }
   ],
   "source": [
    "# defining the quartiles\n",
    "q1 = 28\n",
    "q3 = 43\n",
    "\n",
    "iqr = 43 - 28 # interquartile range = 15\n",
    "\n",
    "low_range = q1 - 1.5*iqr\n",
    "high_range = q3 + 1.5*iqr\n",
    "\n",
    "# checking the number of observations and percentage of outliers\n",
    "no_outliers = train[(train['age']<low_range) | (train['age']>high_range)].shape[0]\n",
    "perc_outliers = no_outliers/train.shape[0] * 100\n",
    "\n",
    "print(f'The percentage of age outliers is {round(perc_outliers, 4)}%')"
   ]
  },
  {
   "cell_type": "markdown",
   "id": "f591e0c3",
   "metadata": {},
   "source": [
    "**Filling the null, outliers of age with the median**"
   ]
  },
  {
   "cell_type": "code",
   "execution_count": 18,
   "id": "f0dba183",
   "metadata": {},
   "outputs": [],
   "source": [
    "train['age']=np.where((train['age'].isnull())|(train[\"age\"] > 120) |(train[\"age\"] < 10 ), \n",
    "                      train['age'].median(), train['age'])"
   ]
  },
  {
   "cell_type": "code",
   "execution_count": 19,
   "id": "56aeeb76",
   "metadata": {},
   "outputs": [
    {
     "data": {
      "text/plain": [
       "<seaborn.axisgrid.FacetGrid at 0x1f8802bcb80>"
      ]
     },
     "execution_count": 19,
     "metadata": {},
     "output_type": "execute_result"
    },
    {
     "data": {
      "image/png": "[encoded data removed]",
      "text/plain": [
       "<Figure size 360x360 with 1 Axes>"
      ]
     },
     "metadata": {
      "needs_background": "light"
     },
     "output_type": "display_data"
    }
   ],
   "source": [
    "sns.displot(train['age'], bins=30)"
   ]
  },
  {
   "cell_type": "markdown",
   "id": "b04a6851",
   "metadata": {},
   "source": [
    "**Using foward fill in the 'first_affiliate_tracked' column'**"
   ]
  },
  {
   "cell_type": "code",
   "execution_count": 20,
   "id": "0d888b40",
   "metadata": {},
   "outputs": [
    {
     "data": {
      "text/plain": [
       "0"
      ]
     },
     "execution_count": 20,
     "metadata": {},
     "output_type": "execute_result"
    }
   ],
   "source": [
    "train['first_affiliate_tracked'] = train['first_affiliate_tracked'].ffill()\n",
    "\n",
    "# confirming the null values\n",
    "train['first_affiliate_tracked'].isna().sum()"
   ]
  },
  {
   "cell_type": "markdown",
   "id": "9bd9c6b5",
   "metadata": {},
   "source": [
    "**Extracting date features from the date columns**"
   ]
  },
  {
   "cell_type": "code",
   "execution_count": 21,
   "id": "98f21852",
   "metadata": {},
   "outputs": [],
   "source": [
    "for date in date_cols:\n",
    "    for date_feature in ['month', 'weekday']:\n",
    "        train[date_feature + date] = getattr(train[date].dt, date_feature)"
   ]
  },
  {
   "cell_type": "code",
   "execution_count": 22,
   "id": "e3b37b8e",
   "metadata": {},
   "outputs": [
    {
     "data": {
      "text/html": [
       "<div>\n",
       "<style scoped>\n",
       "    .dataframe tbody tr th:only-of-type {\n",
       "        vertical-align: middle;\n",
       "    }\n",
       "\n",
       "    .dataframe tbody tr th {\n",
       "        vertical-align: top;\n",
       "    }\n",
       "\n",
       "    .dataframe thead th {\n",
       "        text-align: right;\n",
       "    }\n",
       "</style>\n",
       "<table border=\"1\" class=\"dataframe\">\n",
       "  <thead>\n",
       "    <tr style=\"text-align: right;\">\n",
       "      <th></th>\n",
       "      <th>id</th>\n",
       "      <th>date_account_created</th>\n",
       "      <th>timestamp_first_active</th>\n",
       "      <th>date_first_booking</th>\n",
       "      <th>gender</th>\n",
       "      <th>age</th>\n",
       "      <th>signup_method</th>\n",
       "      <th>signup_flow</th>\n",
       "      <th>language</th>\n",
       "      <th>affiliate_channel</th>\n",
       "      <th>...</th>\n",
       "      <th>signup_app</th>\n",
       "      <th>first_device_type</th>\n",
       "      <th>first_browser</th>\n",
       "      <th>country_destination</th>\n",
       "      <th>monthdate_account_created</th>\n",
       "      <th>weekdaydate_account_created</th>\n",
       "      <th>monthtimestamp_first_active</th>\n",
       "      <th>weekdaytimestamp_first_active</th>\n",
       "      <th>monthdate_first_booking</th>\n",
       "      <th>weekdaydate_first_booking</th>\n",
       "    </tr>\n",
       "  </thead>\n",
       "  <tbody>\n",
       "    <tr>\n",
       "      <th>0</th>\n",
       "      <td>gxn3p5htnn</td>\n",
       "      <td>2010-06-28</td>\n",
       "      <td>2009-03-19 04:32:55</td>\n",
       "      <td>NaT</td>\n",
       "      <td>-unknown-</td>\n",
       "      <td>34.0</td>\n",
       "      <td>facebook</td>\n",
       "      <td>0</td>\n",
       "      <td>en</td>\n",
       "      <td>direct</td>\n",
       "      <td>...</td>\n",
       "      <td>Web</td>\n",
       "      <td>Mac Desktop</td>\n",
       "      <td>Chrome</td>\n",
       "      <td>NDF</td>\n",
       "      <td>6</td>\n",
       "      <td>0</td>\n",
       "      <td>3</td>\n",
       "      <td>3</td>\n",
       "      <td>NaN</td>\n",
       "      <td>NaN</td>\n",
       "    </tr>\n",
       "    <tr>\n",
       "      <th>1</th>\n",
       "      <td>820tgsjxq7</td>\n",
       "      <td>2011-05-25</td>\n",
       "      <td>2009-05-23 17:48:09</td>\n",
       "      <td>NaT</td>\n",
       "      <td>MALE</td>\n",
       "      <td>38.0</td>\n",
       "      <td>facebook</td>\n",
       "      <td>0</td>\n",
       "      <td>en</td>\n",
       "      <td>seo</td>\n",
       "      <td>...</td>\n",
       "      <td>Web</td>\n",
       "      <td>Mac Desktop</td>\n",
       "      <td>Chrome</td>\n",
       "      <td>NDF</td>\n",
       "      <td>5</td>\n",
       "      <td>2</td>\n",
       "      <td>5</td>\n",
       "      <td>5</td>\n",
       "      <td>NaN</td>\n",
       "      <td>NaN</td>\n",
       "    </tr>\n",
       "    <tr>\n",
       "      <th>2</th>\n",
       "      <td>4ft3gnwmtx</td>\n",
       "      <td>2010-09-28</td>\n",
       "      <td>2009-06-09 23:12:47</td>\n",
       "      <td>2010-08-02</td>\n",
       "      <td>FEMALE</td>\n",
       "      <td>56.0</td>\n",
       "      <td>basic</td>\n",
       "      <td>3</td>\n",
       "      <td>en</td>\n",
       "      <td>direct</td>\n",
       "      <td>...</td>\n",
       "      <td>Web</td>\n",
       "      <td>Windows Desktop</td>\n",
       "      <td>IE</td>\n",
       "      <td>US</td>\n",
       "      <td>9</td>\n",
       "      <td>1</td>\n",
       "      <td>6</td>\n",
       "      <td>1</td>\n",
       "      <td>8.0</td>\n",
       "      <td>0.0</td>\n",
       "    </tr>\n",
       "    <tr>\n",
       "      <th>3</th>\n",
       "      <td>bjjt8pjhuk</td>\n",
       "      <td>2011-12-05</td>\n",
       "      <td>2009-10-31 06:01:29</td>\n",
       "      <td>2012-09-08</td>\n",
       "      <td>FEMALE</td>\n",
       "      <td>42.0</td>\n",
       "      <td>facebook</td>\n",
       "      <td>0</td>\n",
       "      <td>en</td>\n",
       "      <td>direct</td>\n",
       "      <td>...</td>\n",
       "      <td>Web</td>\n",
       "      <td>Mac Desktop</td>\n",
       "      <td>Firefox</td>\n",
       "      <td>other</td>\n",
       "      <td>12</td>\n",
       "      <td>0</td>\n",
       "      <td>10</td>\n",
       "      <td>5</td>\n",
       "      <td>9.0</td>\n",
       "      <td>5.0</td>\n",
       "    </tr>\n",
       "    <tr>\n",
       "      <th>4</th>\n",
       "      <td>87mebub9p4</td>\n",
       "      <td>2010-09-14</td>\n",
       "      <td>2009-12-08 06:11:05</td>\n",
       "      <td>2010-02-18</td>\n",
       "      <td>-unknown-</td>\n",
       "      <td>41.0</td>\n",
       "      <td>basic</td>\n",
       "      <td>0</td>\n",
       "      <td>en</td>\n",
       "      <td>direct</td>\n",
       "      <td>...</td>\n",
       "      <td>Web</td>\n",
       "      <td>Mac Desktop</td>\n",
       "      <td>Chrome</td>\n",
       "      <td>US</td>\n",
       "      <td>9</td>\n",
       "      <td>1</td>\n",
       "      <td>12</td>\n",
       "      <td>1</td>\n",
       "      <td>2.0</td>\n",
       "      <td>3.0</td>\n",
       "    </tr>\n",
       "  </tbody>\n",
       "</table>\n",
       "<p>5 rows × 22 columns</p>\n",
       "</div>"
      ],
      "text/plain": [
       "           id date_account_created timestamp_first_active date_first_booking  \\\n",
       "0  gxn3p5htnn           2010-06-28    2009-03-19 04:32:55                NaT   \n",
       "1  820tgsjxq7           2011-05-25    2009-05-23 17:48:09                NaT   \n",
       "2  4ft3gnwmtx           2010-09-28    2009-06-09 23:12:47         2010-08-02   \n",
       "3  bjjt8pjhuk           2011-12-05    2009-10-31 06:01:29         2012-09-08   \n",
       "4  87mebub9p4           2010-09-14    2009-12-08 06:11:05         2010-02-18   \n",
       "\n",
       "      gender   age signup_method  signup_flow language affiliate_channel  ...  \\\n",
       "0  -unknown-  34.0      facebook            0       en            direct  ...   \n",
       "1       MALE  38.0      facebook            0       en               seo  ...   \n",
       "2     FEMALE  56.0         basic            3       en            direct  ...   \n",
       "3     FEMALE  42.0      facebook            0       en            direct  ...   \n",
       "4  -unknown-  41.0         basic            0       en            direct  ...   \n",
       "\n",
       "  signup_app first_device_type first_browser country_destination  \\\n",
       "0        Web       Mac Desktop        Chrome                 NDF   \n",
       "1        Web       Mac Desktop        Chrome                 NDF   \n",
       "2        Web   Windows Desktop            IE                  US   \n",
       "3        Web       Mac Desktop       Firefox               other   \n",
       "4        Web       Mac Desktop        Chrome                  US   \n",
       "\n",
       "  monthdate_account_created weekdaydate_account_created  \\\n",
       "0                         6                           0   \n",
       "1                         5                           2   \n",
       "2                         9                           1   \n",
       "3                        12                           0   \n",
       "4                         9                           1   \n",
       "\n",
       "   monthtimestamp_first_active  weekdaytimestamp_first_active  \\\n",
       "0                            3                              3   \n",
       "1                            5                              5   \n",
       "2                            6                              1   \n",
       "3                           10                              5   \n",
       "4                           12                              1   \n",
       "\n",
       "   monthdate_first_booking  weekdaydate_first_booking  \n",
       "0                      NaN                        NaN  \n",
       "1                      NaN                        NaN  \n",
       "2                      8.0                        0.0  \n",
       "3                      9.0                        5.0  \n",
       "4                      2.0                        3.0  \n",
       "\n",
       "[5 rows x 22 columns]"
      ]
     },
     "execution_count": 22,
     "metadata": {},
     "output_type": "execute_result"
    }
   ],
   "source": [
    "train.head()"
   ]
  },
  {
   "cell_type": "code",
   "execution_count": 23,
   "id": "4bb35a41",
   "metadata": {},
   "outputs": [],
   "source": [
    "# Transforming the weekday_account_created column into their respective days\n",
    "day_map = {0: 'Mon', 1: 'Tue', 2: 'Wed', 3: 'Thur', 4: 'Fri', 5: 'Sat', 6: 'Sun'}\n",
    "\n",
    "train['weekdaydate_account_created'] = train['weekdaydate_account_created'].map(day_map)\n",
    "train['weekdaydate_first_booking'] = train['weekdaydate_first_booking'].map(day_map)\n",
    "train['weekdaytimestamp_first_active'] = train['weekdaytimestamp_first_active'].map(day_map)"
   ]
  },
  {
   "cell_type": "code",
   "execution_count": 24,
   "id": "d6c0949a",
   "metadata": {},
   "outputs": [
    {
     "data": {
      "text/html": [
       "<div>\n",
       "<style scoped>\n",
       "    .dataframe tbody tr th:only-of-type {\n",
       "        vertical-align: middle;\n",
       "    }\n",
       "\n",
       "    .dataframe tbody tr th {\n",
       "        vertical-align: top;\n",
       "    }\n",
       "\n",
       "    .dataframe thead th {\n",
       "        text-align: right;\n",
       "    }\n",
       "</style>\n",
       "<table border=\"1\" class=\"dataframe\">\n",
       "  <thead>\n",
       "    <tr style=\"text-align: right;\">\n",
       "      <th></th>\n",
       "      <th>weekdaydate_account_created</th>\n",
       "      <th>weekdaydate_first_booking</th>\n",
       "    </tr>\n",
       "  </thead>\n",
       "  <tbody>\n",
       "    <tr>\n",
       "      <th>0</th>\n",
       "      <td>Mon</td>\n",
       "      <td>NaN</td>\n",
       "    </tr>\n",
       "    <tr>\n",
       "      <th>1</th>\n",
       "      <td>Wed</td>\n",
       "      <td>NaN</td>\n",
       "    </tr>\n",
       "    <tr>\n",
       "      <th>2</th>\n",
       "      <td>Tue</td>\n",
       "      <td>Mon</td>\n",
       "    </tr>\n",
       "    <tr>\n",
       "      <th>3</th>\n",
       "      <td>Mon</td>\n",
       "      <td>Sat</td>\n",
       "    </tr>\n",
       "    <tr>\n",
       "      <th>4</th>\n",
       "      <td>Tue</td>\n",
       "      <td>Thur</td>\n",
       "    </tr>\n",
       "  </tbody>\n",
       "</table>\n",
       "</div>"
      ],
      "text/plain": [
       "  weekdaydate_account_created weekdaydate_first_booking\n",
       "0                         Mon                       NaN\n",
       "1                         Wed                       NaN\n",
       "2                         Tue                       Mon\n",
       "3                         Mon                       Sat\n",
       "4                         Tue                      Thur"
      ]
     },
     "execution_count": 24,
     "metadata": {},
     "output_type": "execute_result"
    }
   ],
   "source": [
    "train[['weekdaydate_account_created', 'weekdaydate_first_booking']].head()"
   ]
  },
  {
   "cell_type": "markdown",
   "id": "94560381",
   "metadata": {},
   "source": [
    "**Exploring the data for people who made a booking**"
   ]
  },
  {
   "cell_type": "code",
   "execution_count": 25,
   "id": "13bf8c98",
   "metadata": {},
   "outputs": [
    {
     "data": {
      "text/plain": [
       "<AxesSubplot:xlabel='weekdaydate_first_booking', ylabel='count'>"
      ]
     },
     "execution_count": 25,
     "metadata": {},
     "output_type": "execute_result"
    },
    {
     "data": {
      "image/png": "[encoded data removed]",
      "text/plain": [
       "<Figure size 432x288 with 1 Axes>"
      ]
     },
     "metadata": {
      "needs_background": "light"
     },
     "output_type": "display_data"
    }
   ],
   "source": [
    "sns.countplot(x='weekdaydate_first_booking', data=train)"
   ]
  },
  {
   "cell_type": "code",
   "execution_count": 26,
   "id": "1a3c7dd1",
   "metadata": {},
   "outputs": [
    {
     "data": {
      "text/plain": [
       "<AxesSubplot:xlabel='monthdate_first_booking', ylabel='count'>"
      ]
     },
     "execution_count": 26,
     "metadata": {},
     "output_type": "execute_result"
    },
    {
     "data": {
      "image/png": "[encoded data removed]",
      "text/plain": [
       "<Figure size 432x288 with 1 Axes>"
      ]
     },
     "metadata": {
      "needs_background": "light"
     },
     "output_type": "display_data"
    }
   ],
   "source": [
    "sns.countplot(x='monthdate_first_booking', data=train)"
   ]
  },
  {
   "cell_type": "markdown",
   "id": "6d16c276",
   "metadata": {},
   "source": [
    "**Creating a feature specifing if a user made a booking**"
   ]
  },
  {
   "cell_type": "code",
   "execution_count": 27,
   "id": "6934f662",
   "metadata": {},
   "outputs": [],
   "source": [
    "def booking(destination):\n",
    "    \n",
    "    if destination == 'NDF':\n",
    "        return False\n",
    "    else:\n",
    "        return True"
   ]
  },
  {
   "cell_type": "code",
   "execution_count": 28,
   "id": "918ddfd7",
   "metadata": {},
   "outputs": [],
   "source": [
    "train['Booking'] = train['country_destination'].apply(booking)"
   ]
  },
  {
   "cell_type": "code",
   "execution_count": 29,
   "id": "0d06ed61",
   "metadata": {},
   "outputs": [
    {
     "data": {
      "text/plain": [
       "False    124543\n",
       "True      88908\n",
       "Name: Booking, dtype: int64"
      ]
     },
     "execution_count": 29,
     "metadata": {},
     "output_type": "execute_result"
    }
   ],
   "source": [
    "train['Booking'].value_counts()"
   ]
  },
  {
   "cell_type": "code",
   "execution_count": 30,
   "id": "1fb4f1c6",
   "metadata": {},
   "outputs": [
    {
     "data": {
      "text/plain": [
       "<AxesSubplot:xlabel='Booking', ylabel='age'>"
      ]
     },
     "execution_count": 30,
     "metadata": {},
     "output_type": "execute_result"
    },
    {
     "data": {
      "image/png": "[encoded data removed]",
      "text/plain": [
       "<Figure size 432x288 with 1 Axes>"
      ]
     },
     "metadata": {
      "needs_background": "light"
     },
     "output_type": "display_data"
    }
   ],
   "source": [
    "sns.boxplot(x='Booking', y='age', data=train)"
   ]
  },
  {
   "cell_type": "code",
   "execution_count": 31,
   "id": "1bd754e0",
   "metadata": {},
   "outputs": [
    {
     "data": {
      "text/html": [
       "<div>\n",
       "<style scoped>\n",
       "    .dataframe tbody tr th:only-of-type {\n",
       "        vertical-align: middle;\n",
       "    }\n",
       "\n",
       "    .dataframe tbody tr th {\n",
       "        vertical-align: top;\n",
       "    }\n",
       "\n",
       "    .dataframe thead th {\n",
       "        text-align: right;\n",
       "    }\n",
       "</style>\n",
       "<table border=\"1\" class=\"dataframe\">\n",
       "  <thead>\n",
       "    <tr style=\"text-align: right;\">\n",
       "      <th></th>\n",
       "      <th>count</th>\n",
       "      <th>mean</th>\n",
       "      <th>std</th>\n",
       "      <th>min</th>\n",
       "      <th>25%</th>\n",
       "      <th>50%</th>\n",
       "      <th>75%</th>\n",
       "      <th>max</th>\n",
       "    </tr>\n",
       "    <tr>\n",
       "      <th>Booking</th>\n",
       "      <th></th>\n",
       "      <th></th>\n",
       "      <th></th>\n",
       "      <th></th>\n",
       "      <th></th>\n",
       "      <th></th>\n",
       "      <th></th>\n",
       "      <th></th>\n",
       "    </tr>\n",
       "  </thead>\n",
       "  <tbody>\n",
       "    <tr>\n",
       "      <th>False</th>\n",
       "      <td>124543.0</td>\n",
       "      <td>35.729507</td>\n",
       "      <td>9.719446</td>\n",
       "      <td>15.0</td>\n",
       "      <td>34.0</td>\n",
       "      <td>34.0</td>\n",
       "      <td>34.0</td>\n",
       "      <td>115.0</td>\n",
       "    </tr>\n",
       "    <tr>\n",
       "      <th>True</th>\n",
       "      <td>88908.0</td>\n",
       "      <td>36.380877</td>\n",
       "      <td>12.106560</td>\n",
       "      <td>15.0</td>\n",
       "      <td>30.0</td>\n",
       "      <td>34.0</td>\n",
       "      <td>38.0</td>\n",
       "      <td>115.0</td>\n",
       "    </tr>\n",
       "  </tbody>\n",
       "</table>\n",
       "</div>"
      ],
      "text/plain": [
       "            count       mean        std   min   25%   50%   75%    max\n",
       "Booking                                                               \n",
       "False    124543.0  35.729507   9.719446  15.0  34.0  34.0  34.0  115.0\n",
       "True      88908.0  36.380877  12.106560  15.0  30.0  34.0  38.0  115.0"
      ]
     },
     "execution_count": 31,
     "metadata": {},
     "output_type": "execute_result"
    }
   ],
   "source": [
    "train.groupby('Booking')['age'].describe()"
   ]
  },
  {
   "cell_type": "code",
   "execution_count": 32,
   "id": "f35e9358",
   "metadata": {},
   "outputs": [
    {
     "data": {
      "text/html": [
       "<div>\n",
       "<style scoped>\n",
       "    .dataframe tbody tr th:only-of-type {\n",
       "        vertical-align: middle;\n",
       "    }\n",
       "\n",
       "    .dataframe tbody tr th {\n",
       "        vertical-align: top;\n",
       "    }\n",
       "\n",
       "    .dataframe thead th {\n",
       "        text-align: right;\n",
       "    }\n",
       "</style>\n",
       "<table border=\"1\" class=\"dataframe\">\n",
       "  <thead>\n",
       "    <tr style=\"text-align: right;\">\n",
       "      <th></th>\n",
       "      <th>count</th>\n",
       "      <th>mean</th>\n",
       "      <th>std</th>\n",
       "      <th>min</th>\n",
       "      <th>25%</th>\n",
       "      <th>50%</th>\n",
       "      <th>75%</th>\n",
       "      <th>max</th>\n",
       "    </tr>\n",
       "    <tr>\n",
       "      <th>country_destination</th>\n",
       "      <th></th>\n",
       "      <th></th>\n",
       "      <th></th>\n",
       "      <th></th>\n",
       "      <th></th>\n",
       "      <th></th>\n",
       "      <th></th>\n",
       "      <th></th>\n",
       "    </tr>\n",
       "  </thead>\n",
       "  <tbody>\n",
       "    <tr>\n",
       "      <th>AU</th>\n",
       "      <td>539.0</td>\n",
       "      <td>37.450835</td>\n",
       "      <td>12.540896</td>\n",
       "      <td>18.0</td>\n",
       "      <td>30.0</td>\n",
       "      <td>34.0</td>\n",
       "      <td>40.0</td>\n",
       "      <td>110.0</td>\n",
       "    </tr>\n",
       "    <tr>\n",
       "      <th>CA</th>\n",
       "      <td>1428.0</td>\n",
       "      <td>36.986695</td>\n",
       "      <td>12.076338</td>\n",
       "      <td>18.0</td>\n",
       "      <td>31.0</td>\n",
       "      <td>34.0</td>\n",
       "      <td>39.0</td>\n",
       "      <td>105.0</td>\n",
       "    </tr>\n",
       "    <tr>\n",
       "      <th>DE</th>\n",
       "      <td>1061.0</td>\n",
       "      <td>36.640905</td>\n",
       "      <td>12.412037</td>\n",
       "      <td>18.0</td>\n",
       "      <td>30.0</td>\n",
       "      <td>34.0</td>\n",
       "      <td>40.0</td>\n",
       "      <td>105.0</td>\n",
       "    </tr>\n",
       "    <tr>\n",
       "      <th>ES</th>\n",
       "      <td>2249.0</td>\n",
       "      <td>35.373055</td>\n",
       "      <td>11.788317</td>\n",
       "      <td>18.0</td>\n",
       "      <td>29.0</td>\n",
       "      <td>34.0</td>\n",
       "      <td>37.0</td>\n",
       "      <td>105.0</td>\n",
       "    </tr>\n",
       "    <tr>\n",
       "      <th>FR</th>\n",
       "      <td>5023.0</td>\n",
       "      <td>36.969739</td>\n",
       "      <td>11.988042</td>\n",
       "      <td>18.0</td>\n",
       "      <td>31.0</td>\n",
       "      <td>34.0</td>\n",
       "      <td>39.0</td>\n",
       "      <td>110.0</td>\n",
       "    </tr>\n",
       "    <tr>\n",
       "      <th>GB</th>\n",
       "      <td>2324.0</td>\n",
       "      <td>37.831325</td>\n",
       "      <td>13.327070</td>\n",
       "      <td>17.0</td>\n",
       "      <td>31.0</td>\n",
       "      <td>34.0</td>\n",
       "      <td>41.0</td>\n",
       "      <td>110.0</td>\n",
       "    </tr>\n",
       "    <tr>\n",
       "      <th>IT</th>\n",
       "      <td>2835.0</td>\n",
       "      <td>36.895591</td>\n",
       "      <td>12.890904</td>\n",
       "      <td>18.0</td>\n",
       "      <td>31.0</td>\n",
       "      <td>34.0</td>\n",
       "      <td>38.0</td>\n",
       "      <td>110.0</td>\n",
       "    </tr>\n",
       "    <tr>\n",
       "      <th>NDF</th>\n",
       "      <td>124543.0</td>\n",
       "      <td>35.729507</td>\n",
       "      <td>9.719446</td>\n",
       "      <td>15.0</td>\n",
       "      <td>34.0</td>\n",
       "      <td>34.0</td>\n",
       "      <td>34.0</td>\n",
       "      <td>115.0</td>\n",
       "    </tr>\n",
       "    <tr>\n",
       "      <th>NL</th>\n",
       "      <td>762.0</td>\n",
       "      <td>36.139108</td>\n",
       "      <td>12.580738</td>\n",
       "      <td>18.0</td>\n",
       "      <td>29.0</td>\n",
       "      <td>34.0</td>\n",
       "      <td>38.0</td>\n",
       "      <td>105.0</td>\n",
       "    </tr>\n",
       "    <tr>\n",
       "      <th>PT</th>\n",
       "      <td>217.0</td>\n",
       "      <td>35.612903</td>\n",
       "      <td>11.041061</td>\n",
       "      <td>19.0</td>\n",
       "      <td>30.0</td>\n",
       "      <td>34.0</td>\n",
       "      <td>36.0</td>\n",
       "      <td>105.0</td>\n",
       "    </tr>\n",
       "    <tr>\n",
       "      <th>US</th>\n",
       "      <td>62376.0</td>\n",
       "      <td>36.250705</td>\n",
       "      <td>11.989870</td>\n",
       "      <td>15.0</td>\n",
       "      <td>30.0</td>\n",
       "      <td>34.0</td>\n",
       "      <td>38.0</td>\n",
       "      <td>115.0</td>\n",
       "    </tr>\n",
       "    <tr>\n",
       "      <th>other</th>\n",
       "      <td>10094.0</td>\n",
       "      <td>36.502873</td>\n",
       "      <td>12.317972</td>\n",
       "      <td>18.0</td>\n",
       "      <td>30.0</td>\n",
       "      <td>34.0</td>\n",
       "      <td>38.0</td>\n",
       "      <td>110.0</td>\n",
       "    </tr>\n",
       "  </tbody>\n",
       "</table>\n",
       "</div>"
      ],
      "text/plain": [
       "                        count       mean        std   min   25%   50%   75%  \\\n",
       "country_destination                                                           \n",
       "AU                      539.0  37.450835  12.540896  18.0  30.0  34.0  40.0   \n",
       "CA                     1428.0  36.986695  12.076338  18.0  31.0  34.0  39.0   \n",
       "DE                     1061.0  36.640905  12.412037  18.0  30.0  34.0  40.0   \n",
       "ES                     2249.0  35.373055  11.788317  18.0  29.0  34.0  37.0   \n",
       "FR                     5023.0  36.969739  11.988042  18.0  31.0  34.0  39.0   \n",
       "GB                     2324.0  37.831325  13.327070  17.0  31.0  34.0  41.0   \n",
       "IT                     2835.0  36.895591  12.890904  18.0  31.0  34.0  38.0   \n",
       "NDF                  124543.0  35.729507   9.719446  15.0  34.0  34.0  34.0   \n",
       "NL                      762.0  36.139108  12.580738  18.0  29.0  34.0  38.0   \n",
       "PT                      217.0  35.612903  11.041061  19.0  30.0  34.0  36.0   \n",
       "US                    62376.0  36.250705  11.989870  15.0  30.0  34.0  38.0   \n",
       "other                 10094.0  36.502873  12.317972  18.0  30.0  34.0  38.0   \n",
       "\n",
       "                       max  \n",
       "country_destination         \n",
       "AU                   110.0  \n",
       "CA                   105.0  \n",
       "DE                   105.0  \n",
       "ES                   105.0  \n",
       "FR                   110.0  \n",
       "GB                   110.0  \n",
       "IT                   110.0  \n",
       "NDF                  115.0  \n",
       "NL                   105.0  \n",
       "PT                   105.0  \n",
       "US                   115.0  \n",
       "other                110.0  "
      ]
     },
     "execution_count": 32,
     "metadata": {},
     "output_type": "execute_result"
    }
   ],
   "source": [
    "train.groupby('country_destination')['age'].describe()"
   ]
  },
  {
   "cell_type": "code",
   "execution_count": 33,
   "id": "a9d346a0",
   "metadata": {},
   "outputs": [
    {
     "name": "stdout",
     "output_type": "stream",
     "text": [
      "gender\n"
     ]
    },
    {
     "data": {
      "image/png": "[encoded data removed]",
      "text/plain": [
       "<Figure size 720x576 with 1 Axes>"
      ]
     },
     "metadata": {
      "needs_background": "light"
     },
     "output_type": "display_data"
    },
    {
     "name": "stdout",
     "output_type": "stream",
     "text": [
      "signup_method\n"
     ]
    },
    {
     "data": {
      "image/png": "[encoded data removed]",
      "text/plain": [
       "<Figure size 720x576 with 1 Axes>"
      ]
     },
     "metadata": {
      "needs_background": "light"
     },
     "output_type": "display_data"
    },
    {
     "name": "stdout",
     "output_type": "stream",
     "text": [
      "language\n"
     ]
    },
    {
     "data": {
      "image/png": "[encoded data removed]",
      "text/plain": [
       "<Figure size 720x576 with 1 Axes>"
      ]
     },
     "metadata": {
      "needs_background": "light"
     },
     "output_type": "display_data"
    },
    {
     "name": "stdout",
     "output_type": "stream",
     "text": [
      "affiliate_channel\n"
     ]
    },
    {
     "data": {
      "image/png": "[encoded data removed]",
      "text/plain": [
       "<Figure size 720x576 with 1 Axes>"
      ]
     },
     "metadata": {
      "needs_background": "light"
     },
     "output_type": "display_data"
    },
    {
     "name": "stdout",
     "output_type": "stream",
     "text": [
      "affiliate_provider\n"
     ]
    },
    {
     "data": {
      "image/png": "[encoded data removed]",
      "text/plain": [
       "<Figure size 720x576 with 1 Axes>"
      ]
     },
     "metadata": {
      "needs_background": "light"
     },
     "output_type": "display_data"
    },
    {
     "name": "stdout",
     "output_type": "stream",
     "text": [
      "first_affiliate_tracked\n"
     ]
    },
    {
     "data": {
      "image/png": "[encoded data removed]",
      "text/plain": [
       "<Figure size 720x576 with 1 Axes>"
      ]
     },
     "metadata": {
      "needs_background": "light"
     },
     "output_type": "display_data"
    },
    {
     "name": "stdout",
     "output_type": "stream",
     "text": [
      "signup_app\n"
     ]
    },
    {
     "data": {
      "image/png": "[encoded data removed]",
      "text/plain": [
       "<Figure size 720x576 with 1 Axes>"
      ]
     },
     "metadata": {
      "needs_background": "light"
     },
     "output_type": "display_data"
    },
    {
     "name": "stdout",
     "output_type": "stream",
     "text": [
      "first_browser\n"
     ]
    },
    {
     "data": {
      "image/png": "[encoded data removed]",
      "text/plain": [
       "<Figure size 720x576 with 1 Axes>"
      ]
     },
     "metadata": {
      "needs_background": "light"
     },
     "output_type": "display_data"
    }
   ],
   "source": [
    "for cat in cat_cols:\n",
    "    print(cat)\n",
    "    plt.figure(figsize=(10,8))\n",
    "    sns.countplot(x=cat, data=train, hue='Booking')\n",
    "    plt.xticks(rotation=90)\n",
    "    plt.show()"
   ]
  },
  {
   "cell_type": "code",
   "execution_count": 34,
   "id": "0cf82280",
   "metadata": {},
   "outputs": [
    {
     "data": {
      "text/plain": [
       "id                               213451\n",
       "date_account_created               1634\n",
       "timestamp_first_active           213451\n",
       "date_first_booking                 1976\n",
       "gender                                4\n",
       "age                                 100\n",
       "signup_method                         3\n",
       "signup_flow                          17\n",
       "language                             25\n",
       "affiliate_channel                     8\n",
       "affiliate_provider                   18\n",
       "first_affiliate_tracked               7\n",
       "signup_app                            4\n",
       "first_device_type                     9\n",
       "first_browser                        52\n",
       "country_destination                  12\n",
       "monthdate_account_created            12\n",
       "weekdaydate_account_created           7\n",
       "monthtimestamp_first_active          12\n",
       "weekdaytimestamp_first_active         7\n",
       "monthdate_first_booking              12\n",
       "weekdaydate_first_booking             7\n",
       "Booking                               2\n",
       "dtype: int64"
      ]
     },
     "execution_count": 34,
     "metadata": {},
     "output_type": "execute_result"
    }
   ],
   "source": [
    "train.nunique()"
   ]
  },
  {
   "cell_type": "markdown",
   "id": "a2d00b15",
   "metadata": {},
   "source": [
    "**Grouping the columns that have high number of classes**"
   ]
  },
  {
   "cell_type": "markdown",
   "id": "a98e4a6d",
   "metadata": {},
   "source": [
    "Starting with the language"
   ]
  },
  {
   "cell_type": "code",
   "execution_count": 35,
   "id": "8575bf7e",
   "metadata": {},
   "outputs": [
    {
     "data": {
      "text/plain": [
       "en    206314\n",
       "zh      1632\n",
       "fr      1172\n",
       "es       915\n",
       "ko       747\n",
       "de       732\n",
       "it       514\n",
       "ru       389\n",
       "pt       240\n",
       "ja       225\n",
       "sv       122\n",
       "nl        97\n",
       "tr        64\n",
       "da        58\n",
       "pl        54\n",
       "cs        32\n",
       "no        30\n",
       "el        24\n",
       "th        24\n",
       "id        22\n",
       "hu        18\n",
       "fi        14\n",
       "ca         5\n",
       "is         5\n",
       "hr         2\n",
       "Name: language, dtype: int64"
      ]
     },
     "execution_count": 35,
     "metadata": {},
     "output_type": "execute_result"
    }
   ],
   "source": [
    "train['language'].value_counts()"
   ]
  },
  {
   "cell_type": "code",
   "execution_count": 36,
   "id": "8add90f7",
   "metadata": {},
   "outputs": [
    {
     "data": {
      "text/plain": [
       "['en', 'zh', 'fr', 'es', 'ko', 'de', 'it', 'ru', 'pt', 'ja', 'sv']"
      ]
     },
     "execution_count": 36,
     "metadata": {},
     "output_type": "execute_result"
    }
   ],
   "source": [
    "language = list(train['language'].value_counts().index[:11])\n",
    "language"
   ]
  },
  {
   "cell_type": "markdown",
   "id": "06b23888",
   "metadata": {},
   "source": [
    "Putting all other languages in their own category 'other'"
   ]
  },
  {
   "cell_type": "code",
   "execution_count": 37,
   "id": "5876c5cc",
   "metadata": {},
   "outputs": [
    {
     "data": {
      "text/plain": [
       "en       206314\n",
       "zh         1632\n",
       "fr         1172\n",
       "es          915\n",
       "ko          747\n",
       "de          732\n",
       "it          514\n",
       "other       449\n",
       "ru          389\n",
       "pt          240\n",
       "ja          225\n",
       "sv          122\n",
       "Name: new_language, dtype: int64"
      ]
     },
     "execution_count": 37,
     "metadata": {},
     "output_type": "execute_result"
    }
   ],
   "source": [
    "train['new_language'] = train['language'].apply(lambda x: x if x in language else 'other')\n",
    "\n",
    "train['new_language'].value_counts()"
   ]
  },
  {
   "cell_type": "markdown",
   "id": "6e0a52ad",
   "metadata": {},
   "source": [
    "Affiliate Provider"
   ]
  },
  {
   "cell_type": "code",
   "execution_count": 38,
   "id": "0418fc76",
   "metadata": {},
   "outputs": [
    {
     "data": {
      "text/plain": [
       "direct                 64.382926\n",
       "google                 24.217736\n",
       "other                   5.879101\n",
       "craigslist              1.626134\n",
       "bing                    1.090648\n",
       "facebook                1.064881\n",
       "vast                    0.388380\n",
       "padmapper               0.359802\n",
       "facebook-open-graph     0.255328\n",
       "yahoo                   0.232372\n",
       "gsp                     0.212227\n",
       "meetup                  0.162567\n",
       "email-marketing         0.077770\n",
       "naver                   0.024362\n",
       "baidu                   0.013586\n",
       "yandex                  0.007964\n",
       "wayn                    0.003748\n",
       "daum                    0.000468\n",
       "Name: affiliate_provider, dtype: float64"
      ]
     },
     "execution_count": 38,
     "metadata": {},
     "output_type": "execute_result"
    }
   ],
   "source": [
    "# checking the percentage of each class in the affiliate_provider\n",
    "(train['affiliate_provider'].value_counts() / train.shape[0]) * 100"
   ]
  },
  {
   "cell_type": "markdown",
   "id": "365c2128",
   "metadata": {},
   "source": [
    "Classes in affiliate_provider that have lower than 1% will be put in their 'other' category"
   ]
  },
  {
   "cell_type": "code",
   "execution_count": 39,
   "id": "5da76b84",
   "metadata": {},
   "outputs": [
    {
     "data": {
      "text/plain": [
       "['direct', 'google', 'other', 'craigslist', 'bing', 'facebook']"
      ]
     },
     "execution_count": 39,
     "metadata": {},
     "output_type": "execute_result"
    }
   ],
   "source": [
    "aff_provider = list(train['affiliate_provider'].value_counts()[:6].index)\n",
    "aff_provider"
   ]
  },
  {
   "cell_type": "code",
   "execution_count": 40,
   "id": "129c7808",
   "metadata": {},
   "outputs": [
    {
     "data": {
      "text/plain": [
       "direct        137426\n",
       "google         51693\n",
       "other          16260\n",
       "craigslist      3471\n",
       "bing            2328\n",
       "facebook        2273\n",
       "Name: new_affiliate_provider, dtype: int64"
      ]
     },
     "execution_count": 40,
     "metadata": {},
     "output_type": "execute_result"
    }
   ],
   "source": [
    "train['new_affiliate_provider'] = train['affiliate_provider'].apply(lambda x: x if x in aff_provider else 'other')\n",
    "train['new_affiliate_provider'].value_counts()"
   ]
  },
  {
   "cell_type": "markdown",
   "id": "6a5f6517",
   "metadata": {},
   "source": [
    "First Browser"
   ]
  },
  {
   "cell_type": "code",
   "execution_count": 41,
   "id": "2d246cf9",
   "metadata": {},
   "outputs": [
    {
     "data": {
      "text/plain": [
       "Chrome                  29.910846\n",
       "Safari                  21.161297\n",
       "Firefox                 15.767085\n",
       "-unknown-               12.773892\n",
       "IE                       9.870181\n",
       "Mobile Safari            9.029707\n",
       "Chrome Mobile            0.594984\n",
       "Android Browser          0.398686\n",
       "AOL Explorer             0.114780\n",
       "Opera                    0.088076\n",
       "Silk                     0.058093\n",
       "Chromium                 0.034200\n",
       "BlackBerry Browser       0.024830\n",
       "Maxthon                  0.021551\n",
       "IE Mobile                0.016866\n",
       "Apple Mail               0.016866\n",
       "Sogou Explorer           0.015460\n",
       "Mobile Firefox           0.014055\n",
       "SiteKiosk                0.011244\n",
       "RockMelt                 0.011244\n",
       "Iron                     0.007964\n",
       "IceWeasel                0.006090\n",
       "Pale Moon                0.005622\n",
       "SeaMonkey                0.005153\n",
       "CometBird                0.005153\n",
       "Yandex.Browser           0.005153\n",
       "Camino                   0.004216\n",
       "TenFourFox               0.003748\n",
       "CoolNovo                 0.002811\n",
       "wOSBrowser               0.002811\n",
       "Avant Browser            0.001874\n",
       "Opera Mini               0.001874\n",
       "Mozilla                  0.001405\n",
       "TheWorld Browser         0.000937\n",
       "Flock                    0.000937\n",
       "Comodo Dragon            0.000937\n",
       "OmniWeb                  0.000937\n",
       "SlimBrowser              0.000937\n",
       "Crazy Browser            0.000937\n",
       "Opera Mobile             0.000937\n",
       "Epic                     0.000468\n",
       "Stainless                0.000468\n",
       "Googlebot                0.000468\n",
       "Outlook 2007             0.000468\n",
       "Arora                    0.000468\n",
       "NetNewsWire              0.000468\n",
       "PS Vita browser          0.000468\n",
       "Google Earth             0.000468\n",
       "Conkeror                 0.000468\n",
       "Kindle Browser           0.000468\n",
       "Palm Pre web browser     0.000468\n",
       "IceDragon                0.000468\n",
       "Name: first_browser, dtype: float64"
      ]
     },
     "execution_count": 41,
     "metadata": {},
     "output_type": "execute_result"
    }
   ],
   "source": [
    "# checking the percentage each browser has on the total dataframe\n",
    "train['first_browser'].value_counts() / train.shape[0] * 100"
   ]
  },
  {
   "cell_type": "markdown",
   "id": "f1d135ee",
   "metadata": {},
   "source": [
    "Browsers that have less than 1% will be put in their own category"
   ]
  },
  {
   "cell_type": "code",
   "execution_count": 42,
   "id": "73346507",
   "metadata": {},
   "outputs": [
    {
     "data": {
      "text/plain": [
       "['Chrome', 'Safari', 'Firefox', '-unknown-', 'IE', 'Mobile Safari']"
      ]
     },
     "execution_count": 42,
     "metadata": {},
     "output_type": "execute_result"
    }
   ],
   "source": [
    "browser = list(train['first_browser'].value_counts()[:6].index)\n",
    "browser"
   ]
  },
  {
   "cell_type": "code",
   "execution_count": 43,
   "id": "8122e21e",
   "metadata": {},
   "outputs": [
    {
     "data": {
      "text/plain": [
       "Chrome           63845\n",
       "Safari           45169\n",
       "Firefox          33655\n",
       "-unknown-        27266\n",
       "IE               21068\n",
       "Mobile Safari    19274\n",
       "other             3174\n",
       "Name: new_first_browser, dtype: int64"
      ]
     },
     "execution_count": 43,
     "metadata": {},
     "output_type": "execute_result"
    }
   ],
   "source": [
    "train['new_first_browser'] = train['first_browser'].apply(lambda x: x if x in browser else 'other')\n",
    "train['new_first_browser'].value_counts()"
   ]
  },
  {
   "cell_type": "markdown",
   "id": "2c6125c0",
   "metadata": {},
   "source": [
    "**Dropping the date_first_booking column**"
   ]
  },
  {
   "cell_type": "code",
   "execution_count": 44,
   "id": "380e5966",
   "metadata": {},
   "outputs": [],
   "source": [
    "train = train.drop('date_first_booking', axis=1)"
   ]
  },
  {
   "cell_type": "markdown",
   "id": "d7829f8b",
   "metadata": {},
   "source": [
    "**Grabbing the relevant columns**"
   ]
  },
  {
   "cell_type": "code",
   "execution_count": 45,
   "id": "5768d70b",
   "metadata": {},
   "outputs": [
    {
     "data": {
      "text/plain": [
       "Index(['id', 'date_account_created', 'timestamp_first_active', 'gender', 'age',\n",
       "       'signup_method', 'signup_flow', 'language', 'affiliate_channel',\n",
       "       'affiliate_provider', 'first_affiliate_tracked', 'signup_app',\n",
       "       'first_device_type', 'first_browser', 'country_destination',\n",
       "       'monthdate_account_created', 'weekdaydate_account_created',\n",
       "       'monthtimestamp_first_active', 'weekdaytimestamp_first_active',\n",
       "       'monthdate_first_booking', 'weekdaydate_first_booking', 'Booking',\n",
       "       'new_language', 'new_affiliate_provider', 'new_first_browser'],\n",
       "      dtype='object')"
      ]
     },
     "execution_count": 45,
     "metadata": {},
     "output_type": "execute_result"
    }
   ],
   "source": [
    "train.columns"
   ]
  },
  {
   "cell_type": "code",
   "execution_count": 46,
   "id": "787cb8e4",
   "metadata": {},
   "outputs": [
    {
     "data": {
      "text/html": [
       "<div>\n",
       "<style scoped>\n",
       "    .dataframe tbody tr th:only-of-type {\n",
       "        vertical-align: middle;\n",
       "    }\n",
       "\n",
       "    .dataframe tbody tr th {\n",
       "        vertical-align: top;\n",
       "    }\n",
       "\n",
       "    .dataframe thead th {\n",
       "        text-align: right;\n",
       "    }\n",
       "</style>\n",
       "<table border=\"1\" class=\"dataframe\">\n",
       "  <thead>\n",
       "    <tr style=\"text-align: right;\">\n",
       "      <th></th>\n",
       "      <th>gender</th>\n",
       "      <th>age</th>\n",
       "      <th>signup_method</th>\n",
       "      <th>signup_flow</th>\n",
       "      <th>new_language</th>\n",
       "      <th>affiliate_channel</th>\n",
       "      <th>new_affiliate_provider</th>\n",
       "      <th>first_affiliate_tracked</th>\n",
       "      <th>signup_app</th>\n",
       "      <th>first_device_type</th>\n",
       "      <th>new_first_browser</th>\n",
       "      <th>country_destination</th>\n",
       "      <th>monthdate_account_created</th>\n",
       "      <th>weekdaydate_account_created</th>\n",
       "      <th>monthtimestamp_first_active</th>\n",
       "      <th>weekdaytimestamp_first_active</th>\n",
       "    </tr>\n",
       "  </thead>\n",
       "  <tbody>\n",
       "    <tr>\n",
       "      <th>0</th>\n",
       "      <td>-unknown-</td>\n",
       "      <td>34.0</td>\n",
       "      <td>facebook</td>\n",
       "      <td>0</td>\n",
       "      <td>en</td>\n",
       "      <td>direct</td>\n",
       "      <td>direct</td>\n",
       "      <td>untracked</td>\n",
       "      <td>Web</td>\n",
       "      <td>Mac Desktop</td>\n",
       "      <td>Chrome</td>\n",
       "      <td>NDF</td>\n",
       "      <td>6</td>\n",
       "      <td>Mon</td>\n",
       "      <td>3</td>\n",
       "      <td>Thur</td>\n",
       "    </tr>\n",
       "    <tr>\n",
       "      <th>1</th>\n",
       "      <td>MALE</td>\n",
       "      <td>38.0</td>\n",
       "      <td>facebook</td>\n",
       "      <td>0</td>\n",
       "      <td>en</td>\n",
       "      <td>seo</td>\n",
       "      <td>google</td>\n",
       "      <td>untracked</td>\n",
       "      <td>Web</td>\n",
       "      <td>Mac Desktop</td>\n",
       "      <td>Chrome</td>\n",
       "      <td>NDF</td>\n",
       "      <td>5</td>\n",
       "      <td>Wed</td>\n",
       "      <td>5</td>\n",
       "      <td>Sat</td>\n",
       "    </tr>\n",
       "    <tr>\n",
       "      <th>2</th>\n",
       "      <td>FEMALE</td>\n",
       "      <td>56.0</td>\n",
       "      <td>basic</td>\n",
       "      <td>3</td>\n",
       "      <td>en</td>\n",
       "      <td>direct</td>\n",
       "      <td>direct</td>\n",
       "      <td>untracked</td>\n",
       "      <td>Web</td>\n",
       "      <td>Windows Desktop</td>\n",
       "      <td>IE</td>\n",
       "      <td>US</td>\n",
       "      <td>9</td>\n",
       "      <td>Tue</td>\n",
       "      <td>6</td>\n",
       "      <td>Tue</td>\n",
       "    </tr>\n",
       "    <tr>\n",
       "      <th>3</th>\n",
       "      <td>FEMALE</td>\n",
       "      <td>42.0</td>\n",
       "      <td>facebook</td>\n",
       "      <td>0</td>\n",
       "      <td>en</td>\n",
       "      <td>direct</td>\n",
       "      <td>direct</td>\n",
       "      <td>untracked</td>\n",
       "      <td>Web</td>\n",
       "      <td>Mac Desktop</td>\n",
       "      <td>Firefox</td>\n",
       "      <td>other</td>\n",
       "      <td>12</td>\n",
       "      <td>Mon</td>\n",
       "      <td>10</td>\n",
       "      <td>Sat</td>\n",
       "    </tr>\n",
       "    <tr>\n",
       "      <th>4</th>\n",
       "      <td>-unknown-</td>\n",
       "      <td>41.0</td>\n",
       "      <td>basic</td>\n",
       "      <td>0</td>\n",
       "      <td>en</td>\n",
       "      <td>direct</td>\n",
       "      <td>direct</td>\n",
       "      <td>untracked</td>\n",
       "      <td>Web</td>\n",
       "      <td>Mac Desktop</td>\n",
       "      <td>Chrome</td>\n",
       "      <td>US</td>\n",
       "      <td>9</td>\n",
       "      <td>Tue</td>\n",
       "      <td>12</td>\n",
       "      <td>Tue</td>\n",
       "    </tr>\n",
       "  </tbody>\n",
       "</table>\n",
       "</div>"
      ],
      "text/plain": [
       "      gender   age signup_method  signup_flow new_language affiliate_channel  \\\n",
       "0  -unknown-  34.0      facebook            0           en            direct   \n",
       "1       MALE  38.0      facebook            0           en               seo   \n",
       "2     FEMALE  56.0         basic            3           en            direct   \n",
       "3     FEMALE  42.0      facebook            0           en            direct   \n",
       "4  -unknown-  41.0         basic            0           en            direct   \n",
       "\n",
       "  new_affiliate_provider first_affiliate_tracked signup_app first_device_type  \\\n",
       "0                 direct               untracked        Web       Mac Desktop   \n",
       "1                 google               untracked        Web       Mac Desktop   \n",
       "2                 direct               untracked        Web   Windows Desktop   \n",
       "3                 direct               untracked        Web       Mac Desktop   \n",
       "4                 direct               untracked        Web       Mac Desktop   \n",
       "\n",
       "  new_first_browser country_destination  monthdate_account_created  \\\n",
       "0            Chrome                 NDF                          6   \n",
       "1            Chrome                 NDF                          5   \n",
       "2                IE                  US                          9   \n",
       "3           Firefox               other                         12   \n",
       "4            Chrome                  US                          9   \n",
       "\n",
       "  weekdaydate_account_created  monthtimestamp_first_active  \\\n",
       "0                         Mon                            3   \n",
       "1                         Wed                            5   \n",
       "2                         Tue                            6   \n",
       "3                         Mon                           10   \n",
       "4                         Tue                           12   \n",
       "\n",
       "  weekdaytimestamp_first_active  \n",
       "0                          Thur  \n",
       "1                           Sat  \n",
       "2                           Tue  \n",
       "3                           Sat  \n",
       "4                           Tue  "
      ]
     },
     "execution_count": 46,
     "metadata": {},
     "output_type": "execute_result"
    }
   ],
   "source": [
    "model_data = train[['gender', 'age', 'signup_method', 'signup_flow','new_language', \n",
    "                    'affiliate_channel', 'new_affiliate_provider','first_affiliate_tracked', \n",
    "                    'signup_app', 'first_device_type','new_first_browser','country_destination',\n",
    "                    'monthdate_account_created', 'weekdaydate_account_created',\n",
    "                    'monthtimestamp_first_active', 'weekdaytimestamp_first_active']].copy(deep=True)\n",
    "\n",
    "model_data.head()"
   ]
  },
  {
   "cell_type": "markdown",
   "id": "24df51e5",
   "metadata": {},
   "source": [
    "Changing the months columns to their respective str names"
   ]
  },
  {
   "cell_type": "code",
   "execution_count": 47,
   "id": "1e3dc7fe",
   "metadata": {},
   "outputs": [],
   "source": [
    "import calendar"
   ]
  },
  {
   "cell_type": "code",
   "execution_count": 48,
   "id": "adfe9a9c",
   "metadata": {},
   "outputs": [],
   "source": [
    "for month in ['monthdate_account_created', 'monthtimestamp_first_active']:\n",
    "    model_data[month] = model_data[month].apply(lambda x: calendar.month_abbr[x])"
   ]
  },
  {
   "cell_type": "code",
   "execution_count": 49,
   "id": "508d9365",
   "metadata": {},
   "outputs": [
    {
     "data": {
      "text/html": [
       "<div>\n",
       "<style scoped>\n",
       "    .dataframe tbody tr th:only-of-type {\n",
       "        vertical-align: middle;\n",
       "    }\n",
       "\n",
       "    .dataframe tbody tr th {\n",
       "        vertical-align: top;\n",
       "    }\n",
       "\n",
       "    .dataframe thead th {\n",
       "        text-align: right;\n",
       "    }\n",
       "</style>\n",
       "<table border=\"1\" class=\"dataframe\">\n",
       "  <thead>\n",
       "    <tr style=\"text-align: right;\">\n",
       "      <th></th>\n",
       "      <th>gender</th>\n",
       "      <th>age</th>\n",
       "      <th>signup_method</th>\n",
       "      <th>signup_flow</th>\n",
       "      <th>new_language</th>\n",
       "      <th>affiliate_channel</th>\n",
       "      <th>new_affiliate_provider</th>\n",
       "      <th>first_affiliate_tracked</th>\n",
       "      <th>signup_app</th>\n",
       "      <th>first_device_type</th>\n",
       "      <th>new_first_browser</th>\n",
       "      <th>country_destination</th>\n",
       "      <th>monthdate_account_created</th>\n",
       "      <th>weekdaydate_account_created</th>\n",
       "      <th>monthtimestamp_first_active</th>\n",
       "      <th>weekdaytimestamp_first_active</th>\n",
       "    </tr>\n",
       "  </thead>\n",
       "  <tbody>\n",
       "    <tr>\n",
       "      <th>0</th>\n",
       "      <td>-unknown-</td>\n",
       "      <td>34.0</td>\n",
       "      <td>facebook</td>\n",
       "      <td>0</td>\n",
       "      <td>en</td>\n",
       "      <td>direct</td>\n",
       "      <td>direct</td>\n",
       "      <td>untracked</td>\n",
       "      <td>Web</td>\n",
       "      <td>Mac Desktop</td>\n",
       "      <td>Chrome</td>\n",
       "      <td>NDF</td>\n",
       "      <td>Jun</td>\n",
       "      <td>Mon</td>\n",
       "      <td>Mar</td>\n",
       "      <td>Thur</td>\n",
       "    </tr>\n",
       "    <tr>\n",
       "      <th>1</th>\n",
       "      <td>MALE</td>\n",
       "      <td>38.0</td>\n",
       "      <td>facebook</td>\n",
       "      <td>0</td>\n",
       "      <td>en</td>\n",
       "      <td>seo</td>\n",
       "      <td>google</td>\n",
       "      <td>untracked</td>\n",
       "      <td>Web</td>\n",
       "      <td>Mac Desktop</td>\n",
       "      <td>Chrome</td>\n",
       "      <td>NDF</td>\n",
       "      <td>May</td>\n",
       "      <td>Wed</td>\n",
       "      <td>May</td>\n",
       "      <td>Sat</td>\n",
       "    </tr>\n",
       "    <tr>\n",
       "      <th>2</th>\n",
       "      <td>FEMALE</td>\n",
       "      <td>56.0</td>\n",
       "      <td>basic</td>\n",
       "      <td>3</td>\n",
       "      <td>en</td>\n",
       "      <td>direct</td>\n",
       "      <td>direct</td>\n",
       "      <td>untracked</td>\n",
       "      <td>Web</td>\n",
       "      <td>Windows Desktop</td>\n",
       "      <td>IE</td>\n",
       "      <td>US</td>\n",
       "      <td>Sep</td>\n",
       "      <td>Tue</td>\n",
       "      <td>Jun</td>\n",
       "      <td>Tue</td>\n",
       "    </tr>\n",
       "    <tr>\n",
       "      <th>3</th>\n",
       "      <td>FEMALE</td>\n",
       "      <td>42.0</td>\n",
       "      <td>facebook</td>\n",
       "      <td>0</td>\n",
       "      <td>en</td>\n",
       "      <td>direct</td>\n",
       "      <td>direct</td>\n",
       "      <td>untracked</td>\n",
       "      <td>Web</td>\n",
       "      <td>Mac Desktop</td>\n",
       "      <td>Firefox</td>\n",
       "      <td>other</td>\n",
       "      <td>Dec</td>\n",
       "      <td>Mon</td>\n",
       "      <td>Oct</td>\n",
       "      <td>Sat</td>\n",
       "    </tr>\n",
       "    <tr>\n",
       "      <th>4</th>\n",
       "      <td>-unknown-</td>\n",
       "      <td>41.0</td>\n",
       "      <td>basic</td>\n",
       "      <td>0</td>\n",
       "      <td>en</td>\n",
       "      <td>direct</td>\n",
       "      <td>direct</td>\n",
       "      <td>untracked</td>\n",
       "      <td>Web</td>\n",
       "      <td>Mac Desktop</td>\n",
       "      <td>Chrome</td>\n",
       "      <td>US</td>\n",
       "      <td>Sep</td>\n",
       "      <td>Tue</td>\n",
       "      <td>Dec</td>\n",
       "      <td>Tue</td>\n",
       "    </tr>\n",
       "  </tbody>\n",
       "</table>\n",
       "</div>"
      ],
      "text/plain": [
       "      gender   age signup_method  signup_flow new_language affiliate_channel  \\\n",
       "0  -unknown-  34.0      facebook            0           en            direct   \n",
       "1       MALE  38.0      facebook            0           en               seo   \n",
       "2     FEMALE  56.0         basic            3           en            direct   \n",
       "3     FEMALE  42.0      facebook            0           en            direct   \n",
       "4  -unknown-  41.0         basic            0           en            direct   \n",
       "\n",
       "  new_affiliate_provider first_affiliate_tracked signup_app first_device_type  \\\n",
       "0                 direct               untracked        Web       Mac Desktop   \n",
       "1                 google               untracked        Web       Mac Desktop   \n",
       "2                 direct               untracked        Web   Windows Desktop   \n",
       "3                 direct               untracked        Web       Mac Desktop   \n",
       "4                 direct               untracked        Web       Mac Desktop   \n",
       "\n",
       "  new_first_browser country_destination monthdate_account_created  \\\n",
       "0            Chrome                 NDF                       Jun   \n",
       "1            Chrome                 NDF                       May   \n",
       "2                IE                  US                       Sep   \n",
       "3           Firefox               other                       Dec   \n",
       "4            Chrome                  US                       Sep   \n",
       "\n",
       "  weekdaydate_account_created monthtimestamp_first_active  \\\n",
       "0                         Mon                         Mar   \n",
       "1                         Wed                         May   \n",
       "2                         Tue                         Jun   \n",
       "3                         Mon                         Oct   \n",
       "4                         Tue                         Dec   \n",
       "\n",
       "  weekdaytimestamp_first_active  \n",
       "0                          Thur  \n",
       "1                           Sat  \n",
       "2                           Tue  \n",
       "3                           Sat  \n",
       "4                           Tue  "
      ]
     },
     "execution_count": 49,
     "metadata": {},
     "output_type": "execute_result"
    }
   ],
   "source": [
    "model_data.head()"
   ]
  },
  {
   "cell_type": "code",
   "execution_count": 50,
   "id": "7ac1b47f",
   "metadata": {},
   "outputs": [],
   "source": [
    "model_data['weekdaytimestamp_first_active'] = model_data['weekdaytimestamp_first_active'].map(day_map)"
   ]
  },
  {
   "cell_type": "markdown",
   "id": "ecc96629",
   "metadata": {},
   "source": [
    "**One Hot Encoding**"
   ]
  },
  {
   "cell_type": "code",
   "execution_count": 51,
   "id": "a9c85115",
   "metadata": {},
   "outputs": [],
   "source": [
    "X = model_data.drop('country_destination', axis=1)\n",
    "y = model_data['country_destination']"
   ]
  },
  {
   "cell_type": "code",
   "execution_count": 52,
   "id": "07fad02a",
   "metadata": {},
   "outputs": [
    {
     "data": {
      "text/html": [
       "<div>\n",
       "<style scoped>\n",
       "    .dataframe tbody tr th:only-of-type {\n",
       "        vertical-align: middle;\n",
       "    }\n",
       "\n",
       "    .dataframe tbody tr th {\n",
       "        vertical-align: top;\n",
       "    }\n",
       "\n",
       "    .dataframe thead th {\n",
       "        text-align: right;\n",
       "    }\n",
       "</style>\n",
       "<table border=\"1\" class=\"dataframe\">\n",
       "  <thead>\n",
       "    <tr style=\"text-align: right;\">\n",
       "      <th></th>\n",
       "      <th>age</th>\n",
       "      <th>signup_flow</th>\n",
       "      <th>gender_FEMALE</th>\n",
       "      <th>gender_MALE</th>\n",
       "      <th>gender_OTHER</th>\n",
       "      <th>signup_method_facebook</th>\n",
       "      <th>signup_method_google</th>\n",
       "      <th>new_language_en</th>\n",
       "      <th>new_language_es</th>\n",
       "      <th>new_language_fr</th>\n",
       "      <th>...</th>\n",
       "      <th>monthtimestamp_first_active_Dec</th>\n",
       "      <th>monthtimestamp_first_active_Feb</th>\n",
       "      <th>monthtimestamp_first_active_Jan</th>\n",
       "      <th>monthtimestamp_first_active_Jul</th>\n",
       "      <th>monthtimestamp_first_active_Jun</th>\n",
       "      <th>monthtimestamp_first_active_Mar</th>\n",
       "      <th>monthtimestamp_first_active_May</th>\n",
       "      <th>monthtimestamp_first_active_Nov</th>\n",
       "      <th>monthtimestamp_first_active_Oct</th>\n",
       "      <th>monthtimestamp_first_active_Sep</th>\n",
       "    </tr>\n",
       "  </thead>\n",
       "  <tbody>\n",
       "    <tr>\n",
       "      <th>0</th>\n",
       "      <td>34.0</td>\n",
       "      <td>0</td>\n",
       "      <td>0</td>\n",
       "      <td>0</td>\n",
       "      <td>0</td>\n",
       "      <td>1</td>\n",
       "      <td>0</td>\n",
       "      <td>1</td>\n",
       "      <td>0</td>\n",
       "      <td>0</td>\n",
       "      <td>...</td>\n",
       "      <td>0</td>\n",
       "      <td>0</td>\n",
       "      <td>0</td>\n",
       "      <td>0</td>\n",
       "      <td>0</td>\n",
       "      <td>1</td>\n",
       "      <td>0</td>\n",
       "      <td>0</td>\n",
       "      <td>0</td>\n",
       "      <td>0</td>\n",
       "    </tr>\n",
       "    <tr>\n",
       "      <th>1</th>\n",
       "      <td>38.0</td>\n",
       "      <td>0</td>\n",
       "      <td>0</td>\n",
       "      <td>1</td>\n",
       "      <td>0</td>\n",
       "      <td>1</td>\n",
       "      <td>0</td>\n",
       "      <td>1</td>\n",
       "      <td>0</td>\n",
       "      <td>0</td>\n",
       "      <td>...</td>\n",
       "      <td>0</td>\n",
       "      <td>0</td>\n",
       "      <td>0</td>\n",
       "      <td>0</td>\n",
       "      <td>0</td>\n",
       "      <td>0</td>\n",
       "      <td>1</td>\n",
       "      <td>0</td>\n",
       "      <td>0</td>\n",
       "      <td>0</td>\n",
       "    </tr>\n",
       "    <tr>\n",
       "      <th>2</th>\n",
       "      <td>56.0</td>\n",
       "      <td>3</td>\n",
       "      <td>1</td>\n",
       "      <td>0</td>\n",
       "      <td>0</td>\n",
       "      <td>0</td>\n",
       "      <td>0</td>\n",
       "      <td>1</td>\n",
       "      <td>0</td>\n",
       "      <td>0</td>\n",
       "      <td>...</td>\n",
       "      <td>0</td>\n",
       "      <td>0</td>\n",
       "      <td>0</td>\n",
       "      <td>0</td>\n",
       "      <td>1</td>\n",
       "      <td>0</td>\n",
       "      <td>0</td>\n",
       "      <td>0</td>\n",
       "      <td>0</td>\n",
       "      <td>0</td>\n",
       "    </tr>\n",
       "    <tr>\n",
       "      <th>3</th>\n",
       "      <td>42.0</td>\n",
       "      <td>0</td>\n",
       "      <td>1</td>\n",
       "      <td>0</td>\n",
       "      <td>0</td>\n",
       "      <td>1</td>\n",
       "      <td>0</td>\n",
       "      <td>1</td>\n",
       "      <td>0</td>\n",
       "      <td>0</td>\n",
       "      <td>...</td>\n",
       "      <td>0</td>\n",
       "      <td>0</td>\n",
       "      <td>0</td>\n",
       "      <td>0</td>\n",
       "      <td>0</td>\n",
       "      <td>0</td>\n",
       "      <td>0</td>\n",
       "      <td>0</td>\n",
       "      <td>1</td>\n",
       "      <td>0</td>\n",
       "    </tr>\n",
       "    <tr>\n",
       "      <th>4</th>\n",
       "      <td>41.0</td>\n",
       "      <td>0</td>\n",
       "      <td>0</td>\n",
       "      <td>0</td>\n",
       "      <td>0</td>\n",
       "      <td>0</td>\n",
       "      <td>0</td>\n",
       "      <td>1</td>\n",
       "      <td>0</td>\n",
       "      <td>0</td>\n",
       "      <td>...</td>\n",
       "      <td>1</td>\n",
       "      <td>0</td>\n",
       "      <td>0</td>\n",
       "      <td>0</td>\n",
       "      <td>0</td>\n",
       "      <td>0</td>\n",
       "      <td>0</td>\n",
       "      <td>0</td>\n",
       "      <td>0</td>\n",
       "      <td>0</td>\n",
       "    </tr>\n",
       "  </tbody>\n",
       "</table>\n",
       "<p>5 rows × 81 columns</p>\n",
       "</div>"
      ],
      "text/plain": [
       "    age  signup_flow  gender_FEMALE  gender_MALE  gender_OTHER  \\\n",
       "0  34.0            0              0            0             0   \n",
       "1  38.0            0              0            1             0   \n",
       "2  56.0            3              1            0             0   \n",
       "3  42.0            0              1            0             0   \n",
       "4  41.0            0              0            0             0   \n",
       "\n",
       "   signup_method_facebook  signup_method_google  new_language_en  \\\n",
       "0                       1                     0                1   \n",
       "1                       1                     0                1   \n",
       "2                       0                     0                1   \n",
       "3                       1                     0                1   \n",
       "4                       0                     0                1   \n",
       "\n",
       "   new_language_es  new_language_fr  ...  monthtimestamp_first_active_Dec  \\\n",
       "0                0                0  ...                                0   \n",
       "1                0                0  ...                                0   \n",
       "2                0                0  ...                                0   \n",
       "3                0                0  ...                                0   \n",
       "4                0                0  ...                                1   \n",
       "\n",
       "   monthtimestamp_first_active_Feb  monthtimestamp_first_active_Jan  \\\n",
       "0                                0                                0   \n",
       "1                                0                                0   \n",
       "2                                0                                0   \n",
       "3                                0                                0   \n",
       "4                                0                                0   \n",
       "\n",
       "   monthtimestamp_first_active_Jul  monthtimestamp_first_active_Jun  \\\n",
       "0                                0                                0   \n",
       "1                                0                                0   \n",
       "2                                0                                1   \n",
       "3                                0                                0   \n",
       "4                                0                                0   \n",
       "\n",
       "   monthtimestamp_first_active_Mar  monthtimestamp_first_active_May  \\\n",
       "0                                1                                0   \n",
       "1                                0                                1   \n",
       "2                                0                                0   \n",
       "3                                0                                0   \n",
       "4                                0                                0   \n",
       "\n",
       "   monthtimestamp_first_active_Nov  monthtimestamp_first_active_Oct  \\\n",
       "0                                0                                0   \n",
       "1                                0                                0   \n",
       "2                                0                                0   \n",
       "3                                0                                1   \n",
       "4                                0                                0   \n",
       "\n",
       "   monthtimestamp_first_active_Sep  \n",
       "0                                0  \n",
       "1                                0  \n",
       "2                                0  \n",
       "3                                0  \n",
       "4                                0  \n",
       "\n",
       "[5 rows x 81 columns]"
      ]
     },
     "execution_count": 52,
     "metadata": {},
     "output_type": "execute_result"
    }
   ],
   "source": [
    "X = pd.get_dummies(X, drop_first=True)\n",
    "\n",
    "X.head()"
   ]
  },
  {
   "cell_type": "code",
   "execution_count": 53,
   "id": "34985a28",
   "metadata": {},
   "outputs": [],
   "source": [
    "# Encoding the target column\n",
    "target_map = {'NDF': 0, 'US': 1, 'other': 2, 'FR': 3, 'IT': 4, \n",
    "            'GB': 5, 'ES': 6, 'CA': 7, 'DE': 8, 'NL': 9, 'AU': 10, 'PT': 11}\n",
    "\n",
    "y = y.map(target_map)"
   ]
  },
  {
   "cell_type": "markdown",
   "id": "8909b6e8",
   "metadata": {},
   "source": [
    "# MACHINE LEARNING"
   ]
  },
  {
   "cell_type": "code",
   "execution_count": 54,
   "id": "2ff97585",
   "metadata": {},
   "outputs": [],
   "source": [
    "from sklearn.model_selection import train_test_split"
   ]
  },
  {
   "cell_type": "code",
   "execution_count": 62,
   "id": "3aae897f",
   "metadata": {},
   "outputs": [],
   "source": [
    "from sklearn.preprocessing import LabelBinarizer,LabelEncoder"
   ]
  },
  {
   "cell_type": "code",
   "execution_count": 57,
   "id": "24216f1f",
   "metadata": {},
   "outputs": [],
   "source": [
    "from sklearn.metrics import classification_report, ndcg_score, make_scorer"
   ]
  },
  {
   "cell_type": "code",
   "execution_count": 56,
   "id": "edc8529c",
   "metadata": {},
   "outputs": [],
   "source": [
    "X_train, X_test, y_train, y_test = train_test_split(X, y, test_size=0.3,stratify=y, random_state=101)"
   ]
  },
  {
   "cell_type": "code",
   "execution_count": 63,
   "id": "b1807478",
   "metadata": {},
   "outputs": [],
   "source": [
    "def dcg_score(y_true, y_score, k=5):\n",
    "    \n",
    "    \"\"\"Discounted cumulative gain (DCG) at rank K.\n",
    "\n",
    "    Parameters\n",
    "    ----------\n",
    "    y_true : array, shape = [n_samples]\n",
    "        Ground truth (true relevance labels).\n",
    "    y_score : array, shape = [n_samples, n_classes]\n",
    "        Predicted scores.\n",
    "    k : int\n",
    "        Rank.\n",
    "\n",
    "    Returns\n",
    "    -------\n",
    "    score : float\n",
    "    \"\"\"\n",
    "    \n",
    "    order = np.argsort(y_score)[::-1]\n",
    "    y_true = np.take(y_true, order[:k])\n",
    "\n",
    "    gain = 2 ** y_true - 1\n",
    "\n",
    "    discounts = np.log2(np.arange(len(y_true)) + 2)\n",
    "    return np.sum(gain / discounts)\n",
    "\n",
    "\n",
    "def ndcg_score(ground_truth, predictions, k=5):\n",
    "    \n",
    "    \"\"\"Normalized discounted cumulative gain (NDCG) at rank K.\n",
    "\n",
    "    Normalized Discounted Cumulative Gain (NDCG) measures the performance of a\n",
    "    recommendation system based on the graded relevance of the recommended\n",
    "    entities. It varies from 0.0 to 1.0, with 1.0 representing the ideal\n",
    "    ranking of the entities.\n",
    "\n",
    "    Parameters\n",
    "    ----------\n",
    "    ground_truth : array, shape = [n_samples]\n",
    "        Ground truth (true labels represended as integers).\n",
    "    predictions : array, shape = [n_samples, n_classes]\n",
    "        Predicted probabilities.\n",
    "    k : int\n",
    "        Rank.\n",
    "\n",
    "    Returns\n",
    "    -------\n",
    "    score : float\n",
    "\n",
    "    Example\n",
    "    -------\n",
    "    >>> ground_truth = [1, 0, 2]\n",
    "    >>> predictions = [[0.15, 0.55, 0.2], [0.7, 0.2, 0.1], [0.06, 0.04, 0.9]]\n",
    "    >>> score = ndcg_score(ground_truth, predictions, k=2)\n",
    "    1.0\n",
    "    >>> predictions = [[0.9, 0.5, 0.8], [0.7, 0.2, 0.1], [0.06, 0.04, 0.9]]\n",
    "    >>> score = ndcg_score(ground_truth, predictions, k=2)\n",
    "    0.6666666666\n",
    "    \"\"\"\n",
    "    \n",
    "    lb = LabelBinarizer()\n",
    "    lb.fit(range(predictions.shape[1] + 1))\n",
    "    T = lb.transform(ground_truth)\n",
    "\n",
    "    scores = []\n",
    "\n",
    "    # Iterate over each y_true and compute the DCG score\n",
    "    for y_true, y_score in zip(T, predictions):\n",
    "        actual = dcg_score(y_true, y_score, k)\n",
    "        best = dcg_score(y_true, y_true, k)\n",
    "        score = float(actual) / float(best)\n",
    "        scores.append(score)\n",
    "\n",
    "    return np.mean(scores)\n",
    "\n",
    "\n",
    "# NDCG Scorer function\n",
    "ndcg_scorer = make_scorer(ndcg_score, needs_proba=True, k=5)"
   ]
  },
  {
   "cell_type": "markdown",
   "id": "601e9935",
   "metadata": {},
   "source": [
    "**Starting with Random Forest model**"
   ]
  },
  {
   "cell_type": "code",
   "execution_count": 59,
   "id": "faa1a59f",
   "metadata": {},
   "outputs": [],
   "source": [
    "from sklearn.ensemble import RandomForestClassifier"
   ]
  },
  {
   "cell_type": "code",
   "execution_count": 60,
   "id": "0998e509",
   "metadata": {},
   "outputs": [],
   "source": [
    "rfc_model = RandomForestClassifier().fit(X_train, y_train)"
   ]
  },
  {
   "cell_type": "code",
   "execution_count": 64,
   "id": "fdbfc558",
   "metadata": {},
   "outputs": [
    {
     "data": {
      "text/plain": [
       "0.7136502641202368"
      ]
     },
     "execution_count": 64,
     "metadata": {},
     "output_type": "execute_result"
    }
   ],
   "source": [
    "rfc_pred = rfc_model.predict_proba(X_test)\n",
    "\n",
    "# checking how well the model performs\n",
    "ndcg_score(y, rfc_pred, k=5)"
   ]
  },
  {
   "cell_type": "code",
   "execution_count": 108,
   "id": "bad34103",
   "metadata": {},
   "outputs": [
    {
     "data": {
      "text/plain": [
       "array([[0.83518299, 0.12237084, 0.        , ..., 0.        , 0.        ,\n",
       "        0.        ],\n",
       "       [1.        , 0.        , 0.        , ..., 0.        , 0.        ,\n",
       "        0.        ],\n",
       "       [0.32904762, 0.        , 0.53095238, ..., 0.        , 0.        ,\n",
       "        0.        ],\n",
       "       ...,\n",
       "       [0.34      , 0.11      , 0.04      , ..., 0.        , 0.        ,\n",
       "        0.        ],\n",
       "       [0.67666667, 0.23333333, 0.05      , ..., 0.        , 0.        ,\n",
       "        0.        ],\n",
       "       [0.19      , 0.62666667, 0.15333333, ..., 0.        , 0.01      ,\n",
       "        0.        ]])"
      ]
     },
     "execution_count": 108,
     "metadata": {},
     "output_type": "execute_result"
    }
   ],
   "source": [
    "rfc_pred"
   ]
  },
  {
   "cell_type": "markdown",
   "id": "93b0016c",
   "metadata": {},
   "source": [
    "**Checking xgboost**"
   ]
  },
  {
   "cell_type": "code",
   "execution_count": 65,
   "id": "13d860ed",
   "metadata": {},
   "outputs": [
    {
     "name": "stderr",
     "output_type": "stream",
     "text": [
      "C:\\Users\\Maish\\anaconda3\\lib\\site-packages\\xgboost\\compat.py:36: FutureWarning: pandas.Int64Index is deprecated and will be removed from pandas in a future version. Use pandas.Index with the appropriate dtype instead.\n",
      "  from pandas import MultiIndex, Int64Index\n"
     ]
    }
   ],
   "source": [
    "from xgboost import XGBClassifier"
   ]
  },
  {
   "cell_type": "code",
   "execution_count": 66,
   "id": "64ec6127",
   "metadata": {},
   "outputs": [
    {
     "name": "stderr",
     "output_type": "stream",
     "text": [
      "C:\\Users\\Maish\\anaconda3\\lib\\site-packages\\xgboost\\sklearn.py:1224: UserWarning: The use of label encoder in XGBClassifier is deprecated and will be removed in a future release. To remove this warning, do the following: 1) Pass option use_label_encoder=False when constructing XGBClassifier object; and 2) Encode your labels (y) as integers starting with 0, i.e. 0, 1, 2, ..., [num_class - 1].\n",
      "  warnings.warn(label_encoder_deprecation_msg, UserWarning)\n",
      "C:\\Users\\Maish\\anaconda3\\lib\\site-packages\\xgboost\\data.py:250: FutureWarning: pandas.Int64Index is deprecated and will be removed from pandas in a future version. Use pandas.Index with the appropriate dtype instead.\n",
      "  elif isinstance(data.columns, (pd.Int64Index, pd.RangeIndex)):\n"
     ]
    },
    {
     "name": "stdout",
     "output_type": "stream",
     "text": [
      "[19:19:47] WARNING: C:\\Windows\\Temp\\abs_557yfx631l\\croots\\recipe\\xgboost-split_1659548953302\\work\\src\\learner.cc:1115: Starting in XGBoost 1.3.0, the default evaluation metric used with the objective 'multi:softprob' was changed from 'merror' to 'mlogloss'. Explicitly set eval_metric if you'd like to restore the old behavior.\n"
     ]
    }
   ],
   "source": [
    "xg_model = XGBClassifier().fit(X_train, y_train)"
   ]
  },
  {
   "cell_type": "code",
   "execution_count": 67,
   "id": "183c2313",
   "metadata": {},
   "outputs": [
    {
     "data": {
      "text/plain": [
       "0.8238845718046796"
      ]
     },
     "execution_count": 67,
     "metadata": {},
     "output_type": "execute_result"
    }
   ],
   "source": [
    "xg_pred = xg_model.predict_proba(X_test)\n",
    "\n",
    "# checking how well the model performs\n",
    "ndcg_score(y_test, xg_pred, k=5)"
   ]
  },
  {
   "cell_type": "code",
   "execution_count": null,
   "id": "281e1648",
   "metadata": {},
   "outputs": [],
   "source": []
  }
 ],
 "metadata": {
  "kernelspec": {
   "display_name": "Python 3 (ipykernel)",
   "language": "python",
   "name": "python3"
  },
  "language_info": {
   "codemirror_mode": {
    "name": "ipython",
    "version": 3
   },
   "file_extension": ".py",
   "mimetype": "text/x-python",
   "name": "python",
   "nbconvert_exporter": "python",
   "pygments_lexer": "ipython3",
   "version": "3.9.12"
  }
 },
 "nbformat": 4,
 "nbformat_minor": 5
}
