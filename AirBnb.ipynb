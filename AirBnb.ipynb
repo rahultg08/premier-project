{
  "cells": [
    {
      "cell_type": "markdown",
      "id": "9b162279",
      "metadata": {
        "id": "9b162279"
      },
      "source": [
        "## Importing libraries"
      ]
    },
    {
      "cell_type": "code",
      "execution_count": 1,
      "id": "1d5d2d50",
      "metadata": {
        "id": "1d5d2d50"
      },
      "outputs": [],
      "source": [
        "import pandas as pd\n",
        "import numpy as np\n",
        "import matplotlib.pyplot as plt\n",
        "import seaborn as sns\n",
        "from datetime import datetime\n",
        "import re\n",
        "%matplotlib inline\n",
        "\n",
        "from scipy.sparse import coo_matrix\n",
        "from scipy.sparse import hstack\n",
        "from scipy.sparse import vstack\n",
        "from scipy import sparse\n",
        "from scipy.sparse import csr_matrix\n",
        "\n",
        "\n",
        "#preprocessing\n",
        "from sklearn.preprocessing import OneHotEncoder\n",
        "from sklearn.compose import ColumnTransformer\n",
        "from sklearn.preprocessing import LabelEncoder, LabelBinarizer\n",
        "from sklearn.feature_extraction.text import TfidfVectorizer, CountVectorizer\n",
        "\n",
        "#models\n",
        "from sklearn.model_selection import train_test_split\n",
        "from sklearn.model_selection import GridSearchCV\n",
        "from sklearn.model_selection import RandomizedSearchCV\n",
        "from sklearn.linear_model import LogisticRegression\n",
        "from sklearn.neighbors import KNeighborsClassifier\n",
        "from sklearn.ensemble import RandomForestClassifier\n",
        "from sklearn.ensemble import GradientBoostingClassifier\n",
        "\n",
        "import xgboost as xgb\n",
        "\n",
        "#metrics\n",
        "from sklearn.metrics import make_scorer\n",
        "from sklearn.metrics import confusion_matrix, classification_report\n",
        "from sklearn.metrics import precision_score, recall_score, f1_score\n",
        "from sklearn.metrics import plot_roc_curve"
      ]
    },
    {
      "cell_type": "markdown",
      "id": "29561504",
      "metadata": {
        "id": "29561504"
      },
      "source": [
        "**Reading the data**"
      ]
    },
    {
      "cell_type": "code",
      "execution_count": 2,
      "id": "4c692d06",
      "metadata": {
        "id": "4c692d06"
      },
      "outputs": [],
      "source": [
        "# train = pd.read_csv('/content/drive/MyDrive/Hamoye/premier/train_users_2.csv', \n",
        "#                     parse_dates=['date_account_created', 'timestamp_first_active', 'date_first_booking'])\n",
        "# test = pd.read_csv('/content/drive/MyDrive/Hamoye/premier/test_users.csv',\n",
        "#                    parse_dates=['date_account_created', 'timestamp_first_active', 'date_first_booking'])\n",
        "\n",
        "train = pd.read_csv('C:\\\\Users\\\\Volker\\\\Documents\\\\2022\\\\Data Science\\\\Hamoye Internship\\\\Stage C - Premier Project\\\\airbnb-recruiting-new-user-bookings\\\\train_users_2.csv')\n",
        "test = pd.read_csv('C:\\\\Users\\\\Volker\\\\Documents\\\\2022\\\\Data Science\\\\Hamoye Internship\\\\Stage C - Premier Project\\\\airbnb-recruiting-new-user-bookings\\\\test_users.csv')\n",
        "sessions = pd.read_csv('C:\\\\Users\\\\Volker\\\\Documents\\\\2022\\\\Data Science\\\\Hamoye Internship\\\\Stage C - Premier Project\\\\airbnb-recruiting-new-user-bookings\\\\sessions.csv')"
      ]
    },
    {
      "cell_type": "code",
      "execution_count": 6,
      "id": "26c6c42b",
      "metadata": {
        "colab": {
          "base_uri": "https://localhost:8080/",
          "height": 217
        },
        "id": "26c6c42b",
        "outputId": "25fd3bd3-750a-40e4-aabb-3c715997ece6"
      },
      "outputs": [],
      "source": [
        "countries = pd.read_csv('C:\\\\Users\\\\Volker\\\\Documents\\\\2022\\\\Data Science\\\\Hamoye Internship\\\\Stage C - Premier Project\\\\airbnb-recruiting-new-user-bookings\\\\countries.csv')\n",
        "age_bracket = pd.read_csv('C:\\\\Users\\\\Volker\\\\Documents\\\\2022\\\\Data Science\\\\Hamoye Internship\\\\Stage C - Premier Project\\\\airbnb-recruiting-new-user-bookings\\\\age_gender_bkts.csv')\n",
        "ss = pd.read_csv('C:\\\\Users\\\\Volker\\\\Documents\\\\2022\\\\Data Science\\\\Hamoye Internship\\\\Stage C - Premier Project\\\\airbnb-recruiting-new-user-bookings\\\\sample_submission_NDF.csv')"
      ]
    },
    {
      "cell_type": "code",
      "execution_count": 7,
      "id": "8aea5704",
      "metadata": {
        "id": "8aea5704"
      },
      "outputs": [
        {
          "data": {
            "text/html": [
              "<div>\n",
              "<style scoped>\n",
              "    .dataframe tbody tr th:only-of-type {\n",
              "        vertical-align: middle;\n",
              "    }\n",
              "\n",
              "    .dataframe tbody tr th {\n",
              "        vertical-align: top;\n",
              "    }\n",
              "\n",
              "    .dataframe thead th {\n",
              "        text-align: right;\n",
              "    }\n",
              "</style>\n",
              "<table border=\"1\" class=\"dataframe\">\n",
              "  <thead>\n",
              "    <tr style=\"text-align: right;\">\n",
              "      <th></th>\n",
              "      <th>id</th>\n",
              "      <th>date_account_created</th>\n",
              "      <th>timestamp_first_active</th>\n",
              "      <th>date_first_booking</th>\n",
              "      <th>gender</th>\n",
              "      <th>age</th>\n",
              "      <th>signup_method</th>\n",
              "      <th>signup_flow</th>\n",
              "      <th>language</th>\n",
              "      <th>affiliate_channel</th>\n",
              "      <th>affiliate_provider</th>\n",
              "      <th>first_affiliate_tracked</th>\n",
              "      <th>signup_app</th>\n",
              "      <th>first_device_type</th>\n",
              "      <th>first_browser</th>\n",
              "      <th>country_destination</th>\n",
              "    </tr>\n",
              "  </thead>\n",
              "  <tbody>\n",
              "    <tr>\n",
              "      <th>0</th>\n",
              "      <td>gxn3p5htnn</td>\n",
              "      <td>2010-06-28</td>\n",
              "      <td>20090319043255</td>\n",
              "      <td>NaN</td>\n",
              "      <td>-unknown-</td>\n",
              "      <td>NaN</td>\n",
              "      <td>facebook</td>\n",
              "      <td>0</td>\n",
              "      <td>en</td>\n",
              "      <td>direct</td>\n",
              "      <td>direct</td>\n",
              "      <td>untracked</td>\n",
              "      <td>Web</td>\n",
              "      <td>Mac Desktop</td>\n",
              "      <td>Chrome</td>\n",
              "      <td>NDF</td>\n",
              "    </tr>\n",
              "    <tr>\n",
              "      <th>1</th>\n",
              "      <td>820tgsjxq7</td>\n",
              "      <td>2011-05-25</td>\n",
              "      <td>20090523174809</td>\n",
              "      <td>NaN</td>\n",
              "      <td>MALE</td>\n",
              "      <td>38.0</td>\n",
              "      <td>facebook</td>\n",
              "      <td>0</td>\n",
              "      <td>en</td>\n",
              "      <td>seo</td>\n",
              "      <td>google</td>\n",
              "      <td>untracked</td>\n",
              "      <td>Web</td>\n",
              "      <td>Mac Desktop</td>\n",
              "      <td>Chrome</td>\n",
              "      <td>NDF</td>\n",
              "    </tr>\n",
              "  </tbody>\n",
              "</table>\n",
              "</div>"
            ],
            "text/plain": [
              "           id date_account_created  timestamp_first_active date_first_booking  \\\n",
              "0  gxn3p5htnn           2010-06-28          20090319043255                NaN   \n",
              "1  820tgsjxq7           2011-05-25          20090523174809                NaN   \n",
              "\n",
              "      gender   age signup_method  signup_flow language affiliate_channel  \\\n",
              "0  -unknown-   NaN      facebook            0       en            direct   \n",
              "1       MALE  38.0      facebook            0       en               seo   \n",
              "\n",
              "  affiliate_provider first_affiliate_tracked signup_app first_device_type  \\\n",
              "0             direct               untracked        Web       Mac Desktop   \n",
              "1             google               untracked        Web       Mac Desktop   \n",
              "\n",
              "  first_browser country_destination  \n",
              "0        Chrome                 NDF  \n",
              "1        Chrome                 NDF  "
            ]
          },
          "execution_count": 7,
          "metadata": {},
          "output_type": "execute_result"
        }
      ],
      "source": [
        "train.head(2)"
      ]
    },
    {
      "cell_type": "code",
      "execution_count": 8,
      "id": "e83a7083",
      "metadata": {
        "colab": {
          "base_uri": "https://localhost:8080/",
          "height": 206
        },
        "id": "e83a7083",
        "outputId": "cca544b6-bc4c-461f-e183-a8712d087ebc"
      },
      "outputs": [
        {
          "data": {
            "text/html": [
              "<div>\n",
              "<style scoped>\n",
              "    .dataframe tbody tr th:only-of-type {\n",
              "        vertical-align: middle;\n",
              "    }\n",
              "\n",
              "    .dataframe tbody tr th {\n",
              "        vertical-align: top;\n",
              "    }\n",
              "\n",
              "    .dataframe thead th {\n",
              "        text-align: right;\n",
              "    }\n",
              "</style>\n",
              "<table border=\"1\" class=\"dataframe\">\n",
              "  <thead>\n",
              "    <tr style=\"text-align: right;\">\n",
              "      <th></th>\n",
              "      <th>country_destination</th>\n",
              "      <th>lat_destination</th>\n",
              "      <th>lng_destination</th>\n",
              "      <th>distance_km</th>\n",
              "      <th>destination_km2</th>\n",
              "      <th>destination_language</th>\n",
              "      <th>language_levenshtein_distance</th>\n",
              "    </tr>\n",
              "  </thead>\n",
              "  <tbody>\n",
              "    <tr>\n",
              "      <th>0</th>\n",
              "      <td>AU</td>\n",
              "      <td>-26.853388</td>\n",
              "      <td>133.275160</td>\n",
              "      <td>15297.7440</td>\n",
              "      <td>7741220.0</td>\n",
              "      <td>eng</td>\n",
              "      <td>0.0</td>\n",
              "    </tr>\n",
              "    <tr>\n",
              "      <th>1</th>\n",
              "      <td>CA</td>\n",
              "      <td>62.393303</td>\n",
              "      <td>-96.818146</td>\n",
              "      <td>2828.1333</td>\n",
              "      <td>9984670.0</td>\n",
              "      <td>eng</td>\n",
              "      <td>0.0</td>\n",
              "    </tr>\n",
              "  </tbody>\n",
              "</table>\n",
              "</div>"
            ],
            "text/plain": [
              "  country_destination  lat_destination  lng_destination  distance_km  \\\n",
              "0                  AU       -26.853388       133.275160   15297.7440   \n",
              "1                  CA        62.393303       -96.818146    2828.1333   \n",
              "\n",
              "   destination_km2 destination_language   language_levenshtein_distance  \n",
              "0        7741220.0                   eng                            0.0  \n",
              "1        9984670.0                   eng                            0.0  "
            ]
          },
          "execution_count": 8,
          "metadata": {},
          "output_type": "execute_result"
        }
      ],
      "source": [
        "countries.head(2)"
      ]
    },
    {
      "cell_type": "code",
      "execution_count": 9,
      "id": "686c9717",
      "metadata": {
        "colab": {
          "base_uri": "https://localhost:8080/",
          "height": 206
        },
        "id": "686c9717",
        "outputId": "4b6cdfad-965e-486f-bacb-9d623732dcca"
      },
      "outputs": [
        {
          "data": {
            "text/html": [
              "<div>\n",
              "<style scoped>\n",
              "    .dataframe tbody tr th:only-of-type {\n",
              "        vertical-align: middle;\n",
              "    }\n",
              "\n",
              "    .dataframe tbody tr th {\n",
              "        vertical-align: top;\n",
              "    }\n",
              "\n",
              "    .dataframe thead th {\n",
              "        text-align: right;\n",
              "    }\n",
              "</style>\n",
              "<table border=\"1\" class=\"dataframe\">\n",
              "  <thead>\n",
              "    <tr style=\"text-align: right;\">\n",
              "      <th></th>\n",
              "      <th>user_id</th>\n",
              "      <th>action</th>\n",
              "      <th>action_type</th>\n",
              "      <th>action_detail</th>\n",
              "      <th>device_type</th>\n",
              "      <th>secs_elapsed</th>\n",
              "    </tr>\n",
              "  </thead>\n",
              "  <tbody>\n",
              "    <tr>\n",
              "      <th>0</th>\n",
              "      <td>d1mm9tcy42</td>\n",
              "      <td>lookup</td>\n",
              "      <td>NaN</td>\n",
              "      <td>NaN</td>\n",
              "      <td>Windows Desktop</td>\n",
              "      <td>319.0</td>\n",
              "    </tr>\n",
              "    <tr>\n",
              "      <th>1</th>\n",
              "      <td>d1mm9tcy42</td>\n",
              "      <td>search_results</td>\n",
              "      <td>click</td>\n",
              "      <td>view_search_results</td>\n",
              "      <td>Windows Desktop</td>\n",
              "      <td>67753.0</td>\n",
              "    </tr>\n",
              "  </tbody>\n",
              "</table>\n",
              "</div>"
            ],
            "text/plain": [
              "      user_id          action action_type        action_detail  \\\n",
              "0  d1mm9tcy42          lookup         NaN                  NaN   \n",
              "1  d1mm9tcy42  search_results       click  view_search_results   \n",
              "\n",
              "       device_type  secs_elapsed  \n",
              "0  Windows Desktop         319.0  \n",
              "1  Windows Desktop       67753.0  "
            ]
          },
          "execution_count": 9,
          "metadata": {},
          "output_type": "execute_result"
        }
      ],
      "source": [
        "sessions.head(2)"
      ]
    },
    {
      "cell_type": "code",
      "execution_count": 11,
      "id": "39878d67",
      "metadata": {
        "colab": {
          "base_uri": "https://localhost:8080/",
          "height": 206
        },
        "id": "39878d67",
        "outputId": "8e5567ff-555c-4ed0-8450-5d5be9147ca4"
      },
      "outputs": [
        {
          "data": {
            "text/html": [
              "<div>\n",
              "<style scoped>\n",
              "    .dataframe tbody tr th:only-of-type {\n",
              "        vertical-align: middle;\n",
              "    }\n",
              "\n",
              "    .dataframe tbody tr th {\n",
              "        vertical-align: top;\n",
              "    }\n",
              "\n",
              "    .dataframe thead th {\n",
              "        text-align: right;\n",
              "    }\n",
              "</style>\n",
              "<table border=\"1\" class=\"dataframe\">\n",
              "  <thead>\n",
              "    <tr style=\"text-align: right;\">\n",
              "      <th></th>\n",
              "      <th>age_bucket</th>\n",
              "      <th>country_destination</th>\n",
              "      <th>gender</th>\n",
              "      <th>population_in_thousands</th>\n",
              "      <th>year</th>\n",
              "    </tr>\n",
              "  </thead>\n",
              "  <tbody>\n",
              "    <tr>\n",
              "      <th>0</th>\n",
              "      <td>100+</td>\n",
              "      <td>AU</td>\n",
              "      <td>male</td>\n",
              "      <td>1.0</td>\n",
              "      <td>2015.0</td>\n",
              "    </tr>\n",
              "    <tr>\n",
              "      <th>1</th>\n",
              "      <td>95-99</td>\n",
              "      <td>AU</td>\n",
              "      <td>male</td>\n",
              "      <td>9.0</td>\n",
              "      <td>2015.0</td>\n",
              "    </tr>\n",
              "    <tr>\n",
              "      <th>2</th>\n",
              "      <td>90-94</td>\n",
              "      <td>AU</td>\n",
              "      <td>male</td>\n",
              "      <td>47.0</td>\n",
              "      <td>2015.0</td>\n",
              "    </tr>\n",
              "    <tr>\n",
              "      <th>3</th>\n",
              "      <td>85-89</td>\n",
              "      <td>AU</td>\n",
              "      <td>male</td>\n",
              "      <td>118.0</td>\n",
              "      <td>2015.0</td>\n",
              "    </tr>\n",
              "    <tr>\n",
              "      <th>4</th>\n",
              "      <td>80-84</td>\n",
              "      <td>AU</td>\n",
              "      <td>male</td>\n",
              "      <td>199.0</td>\n",
              "      <td>2015.0</td>\n",
              "    </tr>\n",
              "  </tbody>\n",
              "</table>\n",
              "</div>"
            ],
            "text/plain": [
              "  age_bucket country_destination gender  population_in_thousands    year\n",
              "0       100+                  AU   male                      1.0  2015.0\n",
              "1      95-99                  AU   male                      9.0  2015.0\n",
              "2      90-94                  AU   male                     47.0  2015.0\n",
              "3      85-89                  AU   male                    118.0  2015.0\n",
              "4      80-84                  AU   male                    199.0  2015.0"
            ]
          },
          "execution_count": 11,
          "metadata": {},
          "output_type": "execute_result"
        }
      ],
      "source": [
        "age_bracket.head()"
      ]
    },
    {
      "cell_type": "code",
      "execution_count": 10,
      "id": "3a78f7b4",
      "metadata": {
        "colab": {
          "base_uri": "https://localhost:8080/"
        },
        "id": "3a78f7b4",
        "outputId": "d4d94a05-345f-46a3-aad9-4be753c9ac31"
      },
      "outputs": [
        {
          "name": "stdout",
          "output_type": "stream",
          "text": [
            "<class 'pandas.core.frame.DataFrame'>\n",
            "RangeIndex: 213451 entries, 0 to 213450\n",
            "Data columns (total 16 columns):\n",
            " #   Column                   Non-Null Count   Dtype  \n",
            "---  ------                   --------------   -----  \n",
            " 0   id                       213451 non-null  object \n",
            " 1   date_account_created     213451 non-null  object \n",
            " 2   timestamp_first_active   213451 non-null  int64  \n",
            " 3   date_first_booking       88908 non-null   object \n",
            " 4   gender                   213451 non-null  object \n",
            " 5   age                      125461 non-null  float64\n",
            " 6   signup_method            213451 non-null  object \n",
            " 7   signup_flow              213451 non-null  int64  \n",
            " 8   language                 213451 non-null  object \n",
            " 9   affiliate_channel        213451 non-null  object \n",
            " 10  affiliate_provider       213451 non-null  object \n",
            " 11  first_affiliate_tracked  207386 non-null  object \n",
            " 12  signup_app               213451 non-null  object \n",
            " 13  first_device_type        213451 non-null  object \n",
            " 14  first_browser            213451 non-null  object \n",
            " 15  country_destination      213451 non-null  object \n",
            "dtypes: float64(1), int64(2), object(13)\n",
            "memory usage: 26.1+ MB\n"
          ]
        }
      ],
      "source": [
        "train.info()"
      ]
    },
    {
      "cell_type": "code",
      "execution_count": 12,
      "id": "3e02cbce",
      "metadata": {
        "colab": {
          "base_uri": "https://localhost:8080/",
          "height": 300
        },
        "id": "3e02cbce",
        "outputId": "26044fb4-8318-4beb-8dd3-9a79d9d5ea8a"
      },
      "outputs": [
        {
          "data": {
            "text/html": [
              "<div>\n",
              "<style scoped>\n",
              "    .dataframe tbody tr th:only-of-type {\n",
              "        vertical-align: middle;\n",
              "    }\n",
              "\n",
              "    .dataframe tbody tr th {\n",
              "        vertical-align: top;\n",
              "    }\n",
              "\n",
              "    .dataframe thead th {\n",
              "        text-align: right;\n",
              "    }\n",
              "</style>\n",
              "<table border=\"1\" class=\"dataframe\">\n",
              "  <thead>\n",
              "    <tr style=\"text-align: right;\">\n",
              "      <th></th>\n",
              "      <th>timestamp_first_active</th>\n",
              "      <th>age</th>\n",
              "      <th>signup_flow</th>\n",
              "    </tr>\n",
              "  </thead>\n",
              "  <tbody>\n",
              "    <tr>\n",
              "      <th>count</th>\n",
              "      <td>2.134510e+05</td>\n",
              "      <td>125461.000000</td>\n",
              "      <td>213451.000000</td>\n",
              "    </tr>\n",
              "    <tr>\n",
              "      <th>mean</th>\n",
              "      <td>2.013085e+13</td>\n",
              "      <td>49.668335</td>\n",
              "      <td>3.267387</td>\n",
              "    </tr>\n",
              "    <tr>\n",
              "      <th>std</th>\n",
              "      <td>9.253717e+09</td>\n",
              "      <td>155.666612</td>\n",
              "      <td>7.637707</td>\n",
              "    </tr>\n",
              "    <tr>\n",
              "      <th>min</th>\n",
              "      <td>2.009032e+13</td>\n",
              "      <td>1.000000</td>\n",
              "      <td>0.000000</td>\n",
              "    </tr>\n",
              "    <tr>\n",
              "      <th>25%</th>\n",
              "      <td>2.012123e+13</td>\n",
              "      <td>28.000000</td>\n",
              "      <td>0.000000</td>\n",
              "    </tr>\n",
              "    <tr>\n",
              "      <th>50%</th>\n",
              "      <td>2.013091e+13</td>\n",
              "      <td>34.000000</td>\n",
              "      <td>0.000000</td>\n",
              "    </tr>\n",
              "    <tr>\n",
              "      <th>75%</th>\n",
              "      <td>2.014031e+13</td>\n",
              "      <td>43.000000</td>\n",
              "      <td>0.000000</td>\n",
              "    </tr>\n",
              "    <tr>\n",
              "      <th>max</th>\n",
              "      <td>2.014063e+13</td>\n",
              "      <td>2014.000000</td>\n",
              "      <td>25.000000</td>\n",
              "    </tr>\n",
              "  </tbody>\n",
              "</table>\n",
              "</div>"
            ],
            "text/plain": [
              "       timestamp_first_active            age    signup_flow\n",
              "count            2.134510e+05  125461.000000  213451.000000\n",
              "mean             2.013085e+13      49.668335       3.267387\n",
              "std              9.253717e+09     155.666612       7.637707\n",
              "min              2.009032e+13       1.000000       0.000000\n",
              "25%              2.012123e+13      28.000000       0.000000\n",
              "50%              2.013091e+13      34.000000       0.000000\n",
              "75%              2.014031e+13      43.000000       0.000000\n",
              "max              2.014063e+13    2014.000000      25.000000"
            ]
          },
          "execution_count": 12,
          "metadata": {},
          "output_type": "execute_result"
        }
      ],
      "source": [
        "train.describe()"
      ]
    },
    {
      "cell_type": "markdown",
      "id": "7ebe5ef5",
      "metadata": {
        "id": "7ebe5ef5"
      },
      "source": [
        "**Checking for missing values**"
      ]
    },
    {
      "cell_type": "code",
      "execution_count": 13,
      "id": "2a5d7c35",
      "metadata": {
        "colab": {
          "base_uri": "https://localhost:8080/"
        },
        "id": "2a5d7c35",
        "outputId": "28b288ba-7dad-462b-ac7b-7f654d196a5e"
      },
      "outputs": [
        {
          "data": {
            "text/plain": [
              "date_first_booking         0.583473\n",
              "age                        0.412226\n",
              "first_affiliate_tracked    0.028414\n",
              "id                         0.000000\n",
              "date_account_created       0.000000\n",
              "timestamp_first_active     0.000000\n",
              "gender                     0.000000\n",
              "signup_method              0.000000\n",
              "signup_flow                0.000000\n",
              "language                   0.000000\n",
              "affiliate_channel          0.000000\n",
              "affiliate_provider         0.000000\n",
              "signup_app                 0.000000\n",
              "first_device_type          0.000000\n",
              "first_browser              0.000000\n",
              "country_destination        0.000000\n",
              "dtype: float64"
            ]
          },
          "execution_count": 13,
          "metadata": {},
          "output_type": "execute_result"
        }
      ],
      "source": [
        "# Percentage of null values\n",
        "train.isna().mean().sort_values(ascending=False)"
      ]
    },
    {
      "cell_type": "code",
      "execution_count": 14,
      "id": "79b40752",
      "metadata": {
        "id": "79b40752"
      },
      "outputs": [],
      "source": [
        "# Splitting the columns\n",
        "cat_cols = ['gender', 'signup_method', 'language', 'affiliate_channel', 'affiliate_provider', 'first_affiliate_tracked',\n",
        "           'signup_app', 'first_browser', 'first_device_type']\n",
        "date_cols = ['date_account_created', 'timestamp_first_active', 'date_first_booking']\n",
        "num_cols = ['age', 'signup_flow']"
      ]
    },
    {
      "cell_type": "markdown",
      "id": "1aa3e7ce",
      "metadata": {
        "id": "1aa3e7ce"
      },
      "source": [
        "## Visualizations"
      ]
    },
    {
      "cell_type": "code",
      "execution_count": 15,
      "id": "5t4NGp6A--px",
      "metadata": {
        "id": "5t4NGp6A--px"
      },
      "outputs": [],
      "source": [
        "plt.style.use('bmh') # to set the chart style"
      ]
    },
    {
      "cell_type": "markdown",
      "id": "ltDdD_j091uz",
      "metadata": {
        "id": "ltDdD_j091uz"
      },
      "source": [
        "### Univariate Exploration"
      ]
    },
    {
      "cell_type": "code",
      "execution_count": 16,
      "id": "ee1c8508",
      "metadata": {
        "colab": {
          "base_uri": "https://localhost:8080/",
          "height": 1000
        },
        "id": "ee1c8508",
        "outputId": "a5edb90e-0e8c-4d85-b2ea-5e58b68e5710",
        "scrolled": true
      },
      "outputs": [
        {
          "name": "stdout",
          "output_type": "stream",
          "text": [
            "gender\n"
          ]
        },
        {
          "data": {
            "image/png": "[encoded data removed]",
            "text/plain": [
              "<Figure size 720x576 with 1 Axes>"
            ]
          },
          "metadata": {
            "needs_background": "dark"
          },
          "output_type": "display_data"
        },
        {
          "name": "stdout",
          "output_type": "stream",
          "text": [
            "signup_method\n"
          ]
        },
        {
          "data": {
            "image/png": "[encoded data removed]",
            "text/plain": [
              "<Figure size 720x576 with 1 Axes>"
            ]
          },
          "metadata": {
            "needs_background": "dark"
          },
          "output_type": "display_data"
        },
        {
          "name": "stdout",
          "output_type": "stream",
          "text": [
            "language\n"
          ]
        },
        {
          "data": {
            "image/png": "[encoded data removed]",
            "text/plain": [
              "<Figure size 720x576 with 1 Axes>"
            ]
          },
          "metadata": {
            "needs_background": "dark"
          },
          "output_type": "display_data"
        },
        {
          "name": "stdout",
          "output_type": "stream",
          "text": [
            "affiliate_channel\n"
          ]
        },
        {
          "data": {
            "image/png": "[encoded data removed]",
            "text/plain": [
              "<Figure size 720x576 with 1 Axes>"
            ]
          },
          "metadata": {
            "needs_background": "dark"
          },
          "output_type": "display_data"
        },
        {
          "name": "stdout",
          "output_type": "stream",
          "text": [
            "affiliate_provider\n"
          ]
        },
        {
          "data": {
            "image/png": "[encoded data removed]",
            "text/plain": [
              "<Figure size 720x576 with 1 Axes>"
            ]
          },
          "metadata": {
            "needs_background": "dark"
          },
          "output_type": "display_data"
        },
        {
          "name": "stdout",
          "output_type": "stream",
          "text": [
            "first_affiliate_tracked\n"
          ]
        },
        {
          "data": {
            "image/png": "[encoded data removed]",
            "text/plain": [
              "<Figure size 720x576 with 1 Axes>"
            ]
          },
          "metadata": {
            "needs_background": "dark"
          },
          "output_type": "display_data"
        },
        {
          "name": "stdout",
          "output_type": "stream",
          "text": [
            "signup_app\n"
          ]
        },
        {
          "data": {
            "image/png": "[encoded data removed]",
            "text/plain": [
              "<Figure size 720x576 with 1 Axes>"
            ]
          },
          "metadata": {
            "needs_background": "dark"
          },
          "output_type": "display_data"
        },
        {
          "name": "stdout",
          "output_type": "stream",
          "text": [
            "first_browser\n"
          ]
        },
        {
          "data": {
            "image/png": "[encoded data removed]",
            "text/plain": [
              "<Figure size 720x576 with 1 Axes>"
            ]
          },
          "metadata": {
            "needs_background": "dark"
          },
          "output_type": "display_data"
        },
        {
          "name": "stdout",
          "output_type": "stream",
          "text": [
            "first_device_type\n"
          ]
        },
        {
          "data": {
            "image/png": "[encoded data removed]",
            "text/plain": [
              "<Figure size 720x576 with 1 Axes>"
            ]
          },
          "metadata": {
            "needs_background": "dark"
          },
          "output_type": "display_data"
        }
      ],
      "source": [
        "# Plotting categorical features\n",
        "for cat in cat_cols:\n",
        "    print(cat)\n",
        "    plt.figure(figsize=(10,8))\n",
        "    sns.countplot(x=cat, data=train)\n",
        "    plt.xticks(rotation=90)\n",
        "    plt.show()"
      ]
    },
    {
      "cell_type": "code",
      "execution_count": 17,
      "id": "31d4f9e8",
      "metadata": {
        "colab": {
          "base_uri": "https://localhost:8080/",
          "height": 542
        },
        "id": "31d4f9e8",
        "outputId": "8da2b82b-7936-4ba3-d819-e1768100e418",
        "scrolled": true
      },
      "outputs": [
        {
          "data": {
            "image/png": "[encoded data removed]",
            "text/plain": [
              "<Figure size 432x288 with 1 Axes>"
            ]
          },
          "metadata": {
            "needs_background": "dark"
          },
          "output_type": "display_data"
        },
        {
          "data": {
            "image/png": "[encoded data removed]",
            "text/plain": [
              "<Figure size 432x288 with 1 Axes>"
            ]
          },
          "metadata": {
            "needs_background": "dark"
          },
          "output_type": "display_data"
        }
      ],
      "source": [
        "# Plotting numerical columns\n",
        "for num in num_cols:\n",
        "    sns.boxplot(x=num, data=train)\n",
        "    plt.show()"
      ]
    },
    {
      "cell_type": "code",
      "execution_count": 18,
      "id": "5a979782",
      "metadata": {
        "colab": {
          "base_uri": "https://localhost:8080/",
          "height": 369
        },
        "id": "5a979782",
        "outputId": "70333e09-7912-4857-da84-75b16c2a79bd"
      },
      "outputs": [
        {
          "data": {
            "image/png": "[encoded data removed]",
            "text/plain": [
              "<Figure size 360x360 with 1 Axes>"
            ]
          },
          "metadata": {
            "needs_background": "dark"
          },
          "output_type": "display_data"
        }
      ],
      "source": [
        "# checking the distribution of signup-flow\n",
        "sns.displot(train['signup_flow']);"
      ]
    },
    {
      "cell_type": "code",
      "execution_count": 19,
      "id": "5cf6b3af",
      "metadata": {
        "colab": {
          "base_uri": "https://localhost:8080/",
          "height": 369
        },
        "id": "5cf6b3af",
        "outputId": "37123426-a5ae-46a5-8da9-62a0ef9a6067"
      },
      "outputs": [
        {
          "data": {
            "image/png": "[encoded data removed]",
            "text/plain": [
              "<Figure size 360x360 with 1 Axes>"
            ]
          },
          "metadata": {
            "needs_background": "dark"
          },
          "output_type": "display_data"
        }
      ],
      "source": [
        "# checking the distribution of age\n",
        "sns.displot(train['age'], bins=30);"
      ]
    },
    {
      "cell_type": "markdown",
      "id": "tKK2PMm0-IDJ",
      "metadata": {
        "id": "tKK2PMm0-IDJ"
      },
      "source": [
        "### Bivariate Exploration"
      ]
    },
    {
      "cell_type": "code",
      "execution_count": 20,
      "id": "XaKYHo0w-SRX",
      "metadata": {
        "colab": {
          "base_uri": "https://localhost:8080/",
          "height": 279
        },
        "id": "XaKYHo0w-SRX",
        "outputId": "12e9c96d-a95e-4e21-fa21-2ca12d293992"
      },
      "outputs": [
        {
          "data": {
            "image/png": "[encoded data removed]",
            "text/plain": [
              "<Figure size 432x288 with 1 Axes>"
            ]
          },
          "metadata": {
            "needs_background": "dark"
          },
          "output_type": "display_data"
        }
      ],
      "source": [
        "sns.boxplot(data = train, x = 'country_destination', y = 'age');"
      ]
    },
    {
      "cell_type": "code",
      "execution_count": 21,
      "id": "6ZlZIiRRAIR0",
      "metadata": {
        "colab": {
          "base_uri": "https://localhost:8080/",
          "height": 283
        },
        "id": "6ZlZIiRRAIR0",
        "outputId": "300be278-6519-4219-866e-2b9c38aa1b68"
      },
      "outputs": [
        {
          "data": {
            "image/png": "[encoded data removed]",
            "text/plain": [
              "<Figure size 432x288 with 1 Axes>"
            ]
          },
          "metadata": {
            "needs_background": "dark"
          },
          "output_type": "display_data"
        }
      ],
      "source": [
        "# zooming to focus on important data\n",
        "sns.boxplot(data = train, x = 'country_destination', y = 'age')\n",
        "plt.ylim((0, 250));"
      ]
    },
    {
      "cell_type": "code",
      "execution_count": 22,
      "id": "6BtJ61CdAb-s",
      "metadata": {
        "colab": {
          "base_uri": "https://localhost:8080/",
          "height": 283
        },
        "id": "6BtJ61CdAb-s",
        "outputId": "e6fd7705-37aa-4577-a8cd-0fd4507b9315"
      },
      "outputs": [
        {
          "data": {
            "image/png": "[encoded data removed]",
            "text/plain": [
              "<Figure size 432x288 with 1 Axes>"
            ]
          },
          "metadata": {
            "needs_background": "dark"
          },
          "output_type": "display_data"
        }
      ],
      "source": [
        "sns.boxplot(data = train, x = 'gender', y = 'age', color = sns.color_palette()[0])\n",
        "plt.ylim((0, 250));"
      ]
    },
    {
      "cell_type": "code",
      "execution_count": 23,
      "id": "YHhWw7aFAyYc",
      "metadata": {
        "colab": {
          "base_uri": "https://localhost:8080/",
          "height": 279
        },
        "id": "YHhWw7aFAyYc",
        "outputId": "ba78440c-2c22-4e99-d8b7-da9ac0bfaf29"
      },
      "outputs": [
        {
          "data": {
            "image/png": "[encoded data removed]",
            "text/plain": [
              "<Figure size 432x288 with 1 Axes>"
            ]
          },
          "metadata": {
            "needs_background": "dark"
          },
          "output_type": "display_data"
        }
      ],
      "source": [
        "sns.countplot(data = train, x = 'country_destination', hue = 'signup_method');"
      ]
    },
    {
      "cell_type": "code",
      "execution_count": 24,
      "id": "PLXQQYIQCqn7",
      "metadata": {
        "colab": {
          "base_uri": "https://localhost:8080/",
          "height": 279
        },
        "id": "PLXQQYIQCqn7",
        "outputId": "05b59205-5423-4ff1-8686-049be966a1d1"
      },
      "outputs": [
        {
          "data": {
            "image/png": "[encoded data removed]",
            "text/plain": [
              "<Figure size 432x288 with 1 Axes>"
            ]
          },
          "metadata": {
            "needs_background": "dark"
          },
          "output_type": "display_data"
        }
      ],
      "source": [
        "sns.countplot(data = train, x = 'country_destination', hue = 'signup_app');"
      ]
    },
    {
      "cell_type": "markdown",
      "id": "osIWpRu9BsBD",
      "metadata": {
        "id": "osIWpRu9BsBD"
      },
      "source": [
        "### Multivariate Exploration"
      ]
    },
    {
      "cell_type": "code",
      "execution_count": 25,
      "id": "eGAEBYOSA6ko",
      "metadata": {
        "colab": {
          "base_uri": "https://localhost:8080/",
          "height": 283
        },
        "id": "eGAEBYOSA6ko",
        "outputId": "3ae1baa0-0c9c-485a-87e1-d666209e6450"
      },
      "outputs": [
        {
          "data": {
            "image/png": "[encoded data removed]",
            "text/plain": [
              "<Figure size 432x288 with 1 Axes>"
            ]
          },
          "metadata": {
            "needs_background": "dark"
          },
          "output_type": "display_data"
        }
      ],
      "source": [
        "sns.boxplot(data = train, x = 'country_destination', y = 'age', hue = 'signup_method')\n",
        "plt.ylim((0, 250));"
      ]
    },
    {
      "cell_type": "code",
      "execution_count": 26,
      "id": "rDz0PvM4CIst",
      "metadata": {
        "colab": {
          "base_uri": "https://localhost:8080/",
          "height": 283
        },
        "id": "rDz0PvM4CIst",
        "outputId": "7b95043b-9128-41f6-c6c9-24d9d4273c24"
      },
      "outputs": [
        {
          "data": {
            "image/png": "[encoded data removed]",
            "text/plain": [
              "<Figure size 432x288 with 1 Axes>"
            ]
          },
          "metadata": {
            "needs_background": "dark"
          },
          "output_type": "display_data"
        }
      ],
      "source": [
        "sns.boxplot(data = train, x = 'country_destination', y = 'age', hue = 'signup_app')\n",
        "plt.ylim((0, 250));"
      ]
    },
    {
      "cell_type": "markdown",
      "id": "afd02b31",
      "metadata": {
        "id": "afd02b31"
      },
      "source": [
        "Age column has outliers\n",
        "\n",
        "Checking the percentage of outliers of Age"
      ]
    },
    {
      "cell_type": "code",
      "execution_count": 27,
      "id": "df040df6",
      "metadata": {
        "colab": {
          "base_uri": "https://localhost:8080/"
        },
        "id": "df040df6",
        "outputId": "5b21dfc1-d47c-4831-dc92-1db7e1717ef5"
      },
      "outputs": [
        {
          "name": "stdout",
          "output_type": "stream",
          "text": [
            "The percentage of age outliers is 2.6207%\n"
          ]
        }
      ],
      "source": [
        "# defining the quartiles\n",
        "q1 = 28\n",
        "q3 = 43\n",
        "\n",
        "iqr = 43 - 28 # interquartile range = 15\n",
        "\n",
        "low_range = q1 - 1.5*iqr\n",
        "high_range = q3 + 1.5*iqr\n",
        "\n",
        "# checking the number of observations and percentage of outliers\n",
        "no_outliers = train[(train['age']<low_range) | (train['age']>high_range)].shape[0]\n",
        "perc_outliers = no_outliers/train.shape[0] * 100\n",
        "\n",
        "print(f'The percentage of age outliers is {round(perc_outliers, 4)}%')"
      ]
    },
    {
      "cell_type": "markdown",
      "id": "040e46ea",
      "metadata": {
        "id": "040e46ea"
      },
      "source": [
        "Suggestion - the outliers could be filled by the median"
      ]
    },
    {
      "cell_type": "markdown",
      "id": "81566631",
      "metadata": {
        "id": "81566631"
      },
      "source": [
        "**How is the country_destination distributed**"
      ]
    },
    {
      "cell_type": "code",
      "execution_count": 29,
      "id": "6413e420",
      "metadata": {
        "colab": {
          "base_uri": "https://localhost:8080/",
          "height": 296
        },
        "id": "6413e420",
        "outputId": "cd0e2424-669c-4cc4-fa6b-a3a68b3274d4"
      },
      "outputs": [
        {
          "data": {
            "image/png": "[encoded data removed]",
            "text/plain": [
              "<Figure size 432x288 with 1 Axes>"
            ]
          },
          "metadata": {
            "needs_background": "dark"
          },
          "output_type": "display_data"
        }
      ],
      "source": [
        "sns.countplot(x='country_destination', data=train);"
      ]
    },
    {
      "cell_type": "markdown",
      "id": "6e73fc4b",
      "metadata": {
        "id": "6e73fc4b"
      },
      "source": [
        "Many people actually didn't make a booking\n",
        "\n",
        "Most people from Travelled from US to US "
      ]
    },
    {
      "cell_type": "code",
      "execution_count": 30,
      "id": "53c7f903",
      "metadata": {
        "colab": {
          "base_uri": "https://localhost:8080/"
        },
        "id": "53c7f903",
        "outputId": "1de05758-b9ca-4a14-d8dd-996e270f4dee"
      },
      "outputs": [
        {
          "data": {
            "text/plain": [
              "NDF      124543\n",
              "US        62376\n",
              "other     10094\n",
              "FR         5023\n",
              "IT         2835\n",
              "GB         2324\n",
              "ES         2249\n",
              "CA         1428\n",
              "DE         1061\n",
              "NL          762\n",
              "AU          539\n",
              "PT          217\n",
              "Name: country_destination, dtype: int64"
            ]
          },
          "execution_count": 30,
          "metadata": {},
          "output_type": "execute_result"
        }
      ],
      "source": [
        "train['country_destination'].value_counts()"
      ]
    },
    {
      "cell_type": "code",
      "execution_count": 31,
      "id": "f7c65613",
      "metadata": {
        "colab": {
          "base_uri": "https://localhost:8080/"
        },
        "id": "f7c65613",
        "outputId": "c30dea77-bd43-4c31-9f75-0b5f5b547875"
      },
      "outputs": [
        {
          "data": {
            "text/plain": [
              "first_browser              52\n",
              "language                   25\n",
              "affiliate_provider         18\n",
              "country_destination        12\n",
              "first_device_type           9\n",
              "affiliate_channel           8\n",
              "first_affiliate_tracked     7\n",
              "gender                      4\n",
              "signup_app                  4\n",
              "signup_method               3\n",
              "dtype: int64"
            ]
          },
          "execution_count": 31,
          "metadata": {},
          "output_type": "execute_result"
        }
      ],
      "source": [
        "# checking how many classes are in each categorical column\n",
        "train[train.columns.difference(num_cols + date_cols + ['id'])].nunique().sort_values(ascending=False)"
      ]
    },
    {
      "cell_type": "code",
      "execution_count": 32,
      "id": "9471b747",
      "metadata": {
        "colab": {
          "base_uri": "https://localhost:8080/",
          "height": 305
        },
        "id": "9471b747",
        "outputId": "1acd1bb5-552c-43b5-8c2a-e7b7d879d07c"
      },
      "outputs": [
        {
          "data": {
            "text/html": [
              "<div>\n",
              "<style scoped>\n",
              "    .dataframe tbody tr th:only-of-type {\n",
              "        vertical-align: middle;\n",
              "    }\n",
              "\n",
              "    .dataframe tbody tr th {\n",
              "        vertical-align: top;\n",
              "    }\n",
              "\n",
              "    .dataframe thead th {\n",
              "        text-align: right;\n",
              "    }\n",
              "</style>\n",
              "<table border=\"1\" class=\"dataframe\">\n",
              "  <thead>\n",
              "    <tr style=\"text-align: right;\">\n",
              "      <th></th>\n",
              "      <th>id</th>\n",
              "      <th>date_account_created</th>\n",
              "      <th>timestamp_first_active</th>\n",
              "      <th>date_first_booking</th>\n",
              "      <th>gender</th>\n",
              "      <th>age</th>\n",
              "      <th>signup_method</th>\n",
              "      <th>signup_flow</th>\n",
              "      <th>language</th>\n",
              "      <th>affiliate_channel</th>\n",
              "      <th>affiliate_provider</th>\n",
              "      <th>first_affiliate_tracked</th>\n",
              "      <th>signup_app</th>\n",
              "      <th>first_device_type</th>\n",
              "      <th>first_browser</th>\n",
              "      <th>country_destination</th>\n",
              "    </tr>\n",
              "  </thead>\n",
              "  <tbody>\n",
              "    <tr>\n",
              "      <th>0</th>\n",
              "      <td>gxn3p5htnn</td>\n",
              "      <td>2010-06-28</td>\n",
              "      <td>20090319043255</td>\n",
              "      <td>NaN</td>\n",
              "      <td>-unknown-</td>\n",
              "      <td>NaN</td>\n",
              "      <td>facebook</td>\n",
              "      <td>0</td>\n",
              "      <td>en</td>\n",
              "      <td>direct</td>\n",
              "      <td>direct</td>\n",
              "      <td>untracked</td>\n",
              "      <td>Web</td>\n",
              "      <td>Mac Desktop</td>\n",
              "      <td>Chrome</td>\n",
              "      <td>NDF</td>\n",
              "    </tr>\n",
              "    <tr>\n",
              "      <th>1</th>\n",
              "      <td>820tgsjxq7</td>\n",
              "      <td>2011-05-25</td>\n",
              "      <td>20090523174809</td>\n",
              "      <td>NaN</td>\n",
              "      <td>MALE</td>\n",
              "      <td>38.0</td>\n",
              "      <td>facebook</td>\n",
              "      <td>0</td>\n",
              "      <td>en</td>\n",
              "      <td>seo</td>\n",
              "      <td>google</td>\n",
              "      <td>untracked</td>\n",
              "      <td>Web</td>\n",
              "      <td>Mac Desktop</td>\n",
              "      <td>Chrome</td>\n",
              "      <td>NDF</td>\n",
              "    </tr>\n",
              "  </tbody>\n",
              "</table>\n",
              "</div>"
            ],
            "text/plain": [
              "           id date_account_created  timestamp_first_active date_first_booking  \\\n",
              "0  gxn3p5htnn           2010-06-28          20090319043255                NaN   \n",
              "1  820tgsjxq7           2011-05-25          20090523174809                NaN   \n",
              "\n",
              "      gender   age signup_method  signup_flow language affiliate_channel  \\\n",
              "0  -unknown-   NaN      facebook            0       en            direct   \n",
              "1       MALE  38.0      facebook            0       en               seo   \n",
              "\n",
              "  affiliate_provider first_affiliate_tracked signup_app first_device_type  \\\n",
              "0             direct               untracked        Web       Mac Desktop   \n",
              "1             google               untracked        Web       Mac Desktop   \n",
              "\n",
              "  first_browser country_destination  \n",
              "0        Chrome                 NDF  \n",
              "1        Chrome                 NDF  "
            ]
          },
          "execution_count": 32,
          "metadata": {},
          "output_type": "execute_result"
        }
      ],
      "source": [
        "train.head(2)"
      ]
    },
    {
      "cell_type": "code",
      "execution_count": 33,
      "id": "nLObcvj8OLTW",
      "metadata": {
        "colab": {
          "base_uri": "https://localhost:8080/"
        },
        "id": "nLObcvj8OLTW",
        "outputId": "03e12786-ef53-40a8-96df-4b5880edbd12"
      },
      "outputs": [
        {
          "name": "stdout",
          "output_type": "stream",
          "text": [
            "<class 'pandas.core.frame.DataFrame'>\n",
            "RangeIndex: 62096 entries, 0 to 62095\n",
            "Data columns (total 15 columns):\n",
            " #   Column                   Non-Null Count  Dtype  \n",
            "---  ------                   --------------  -----  \n",
            " 0   id                       62096 non-null  object \n",
            " 1   date_account_created     62096 non-null  object \n",
            " 2   timestamp_first_active   62096 non-null  int64  \n",
            " 3   date_first_booking       0 non-null      float64\n",
            " 4   gender                   62096 non-null  object \n",
            " 5   age                      33220 non-null  float64\n",
            " 6   signup_method            62096 non-null  object \n",
            " 7   signup_flow              62096 non-null  int64  \n",
            " 8   language                 62096 non-null  object \n",
            " 9   affiliate_channel        62096 non-null  object \n",
            " 10  affiliate_provider       62096 non-null  object \n",
            " 11  first_affiliate_tracked  62076 non-null  object \n",
            " 12  signup_app               62096 non-null  object \n",
            " 13  first_device_type        62096 non-null  object \n",
            " 14  first_browser            62096 non-null  object \n",
            "dtypes: float64(2), int64(2), object(11)\n",
            "memory usage: 7.1+ MB\n"
          ]
        }
      ],
      "source": [
        "test.info()"
      ]
    },
    {
      "cell_type": "markdown",
      "id": "r5gOnWB982tP",
      "metadata": {
        "id": "r5gOnWB982tP"
      },
      "source": [
        "## Data Cleaning"
      ]
    },
    {
      "cell_type": "markdown",
      "id": "CYPYi8PAJ-LL",
      "metadata": {
        "id": "CYPYi8PAJ-LL"
      },
      "source": [
        "### Cleaning Step 1: Filling null values with median as well as replacing the outliers with the median"
      ]
    },
    {
      "cell_type": "code",
      "execution_count": 34,
      "id": "b9dbca43",
      "metadata": {
        "id": "b9dbca43"
      },
      "outputs": [],
      "source": [
        "train['age']=np.where((train['age'].isnull())|(train[\"age\"] > 120) |(train[\"age\"] < 10 ), train['age'].median(), train['age'])"
      ]
    },
    {
      "cell_type": "markdown",
      "id": "T09uUha4NQ1k",
      "metadata": {
        "id": "T09uUha4NQ1k"
      },
      "source": [
        "#### Testing"
      ]
    },
    {
      "cell_type": "code",
      "execution_count": 35,
      "id": "70f92ef9",
      "metadata": {
        "colab": {
          "base_uri": "https://localhost:8080/",
          "height": 279
        },
        "id": "70f92ef9",
        "outputId": "48083aa0-1f9d-4f98-ad02-3bfeed51e0c7",
        "scrolled": true
      },
      "outputs": [
        {
          "data": {
            "image/png": "[encoded data removed]",
            "text/plain": [
              "<Figure size 432x288 with 1 Axes>"
            ]
          },
          "metadata": {
            "needs_background": "dark"
          },
          "output_type": "display_data"
        }
      ],
      "source": [
        "sns.boxplot(x= 'age', data=train);"
      ]
    },
    {
      "cell_type": "code",
      "execution_count": 36,
      "id": "4b10a408",
      "metadata": {},
      "outputs": [],
      "source": [
        "test['age']=np.where((test['age'].isnull())|(test[\"age\"] > 120) |(test[\"age\"] < 10 ), test['age'].median(), test['age'])"
      ]
    },
    {
      "attachments": {},
      "cell_type": "markdown",
      "id": "2c4fa3f9",
      "metadata": {},
      "source": [
        "#### Testing"
      ]
    },
    {
      "cell_type": "code",
      "execution_count": 37,
      "id": "b13e2a3b",
      "metadata": {},
      "outputs": [
        {
          "data": {
            "text/plain": [
              "id                             0\n",
              "date_account_created           0\n",
              "timestamp_first_active         0\n",
              "date_first_booking         62096\n",
              "gender                         0\n",
              "age                            0\n",
              "signup_method                  0\n",
              "signup_flow                    0\n",
              "language                       0\n",
              "affiliate_channel              0\n",
              "affiliate_provider             0\n",
              "first_affiliate_tracked       20\n",
              "signup_app                     0\n",
              "first_device_type              0\n",
              "first_browser                  0\n",
              "dtype: int64"
            ]
          },
          "execution_count": 37,
          "metadata": {},
          "output_type": "execute_result"
        }
      ],
      "source": [
        "test.isna().sum()"
      ]
    },
    {
      "cell_type": "markdown",
      "id": "erVyIHAsMcQz",
      "metadata": {
        "id": "erVyIHAsMcQz"
      },
      "source": [
        "### Cleaning Step 2: Dropping the `date_first_booking` column as the null values represent the users who did not travel"
      ]
    },
    {
      "cell_type": "code",
      "execution_count": 38,
      "id": "_VNcEJkvFg7W",
      "metadata": {
        "id": "_VNcEJkvFg7W"
      },
      "outputs": [],
      "source": [
        "# t = train.dropna(subset=['date_first_booking']) changed this to dropping the whole column\n",
        "\n",
        "train.drop(columns = ['date_first_booking'], inplace = True)"
      ]
    },
    {
      "cell_type": "markdown",
      "id": "BC8xFnW8NVMG",
      "metadata": {
        "id": "BC8xFnW8NVMG"
      },
      "source": [
        "#### Testing"
      ]
    },
    {
      "cell_type": "code",
      "execution_count": 39,
      "id": "dDpVv6kFDP23",
      "metadata": {
        "colab": {
          "base_uri": "https://localhost:8080/"
        },
        "id": "dDpVv6kFDP23",
        "outputId": "05281b68-e067-4ca4-e927-4f05087bbddf"
      },
      "outputs": [
        {
          "data": {
            "text/plain": [
              "id                            0\n",
              "date_account_created          0\n",
              "timestamp_first_active        0\n",
              "gender                        0\n",
              "age                           0\n",
              "signup_method                 0\n",
              "signup_flow                   0\n",
              "language                      0\n",
              "affiliate_channel             0\n",
              "affiliate_provider            0\n",
              "first_affiliate_tracked    6065\n",
              "signup_app                    0\n",
              "first_device_type             0\n",
              "first_browser                 0\n",
              "country_destination           0\n",
              "dtype: int64"
            ]
          },
          "execution_count": 39,
          "metadata": {},
          "output_type": "execute_result"
        }
      ],
      "source": [
        "# t.isna().sum()\n",
        "\n",
        "train.isna().sum()"
      ]
    },
    {
      "cell_type": "code",
      "execution_count": 40,
      "id": "f3a9351f",
      "metadata": {},
      "outputs": [],
      "source": [
        "# t = test.dropna(subset=['date_first_booking']) changed this to dropping the whole column\n",
        "\n",
        "test.drop(columns = ['date_first_booking'], inplace = True)"
      ]
    },
    {
      "attachments": {},
      "cell_type": "markdown",
      "id": "93f2b59d",
      "metadata": {},
      "source": [
        "#### Testing"
      ]
    },
    {
      "cell_type": "code",
      "execution_count": 41,
      "id": "8a0bfa93",
      "metadata": {},
      "outputs": [
        {
          "data": {
            "text/plain": [
              "id                          0\n",
              "date_account_created        0\n",
              "timestamp_first_active      0\n",
              "gender                      0\n",
              "age                         0\n",
              "signup_method               0\n",
              "signup_flow                 0\n",
              "language                    0\n",
              "affiliate_channel           0\n",
              "affiliate_provider          0\n",
              "first_affiliate_tracked    20\n",
              "signup_app                  0\n",
              "first_device_type           0\n",
              "first_browser               0\n",
              "dtype: int64"
            ]
          },
          "execution_count": 41,
          "metadata": {},
          "output_type": "execute_result"
        }
      ],
      "source": [
        "# t.isna().sum()\n",
        "\n",
        "test.isna().sum()"
      ]
    },
    {
      "cell_type": "markdown",
      "id": "PzdtBWRPNbCK",
      "metadata": {
        "id": "PzdtBWRPNbCK"
      },
      "source": [
        "### Cleaning Step 3: Filling missing `first_affiliate_tracked` with forward fill"
      ]
    },
    {
      "cell_type": "code",
      "execution_count": 42,
      "id": "g41QZL6u6Oxa",
      "metadata": {
        "id": "g41QZL6u6Oxa"
      },
      "outputs": [],
      "source": [
        "# train_=t['first_affiliate_tracked'].fillna(method='ffill') changed this\n",
        "#train_\n",
        "\n",
        "train['first_affiliate_tracked'].fillna(method='ffill', inplace = True)"
      ]
    },
    {
      "cell_type": "markdown",
      "id": "8INYScfVN3WJ",
      "metadata": {
        "id": "8INYScfVN3WJ"
      },
      "source": [
        "#### Testing"
      ]
    },
    {
      "cell_type": "code",
      "execution_count": 43,
      "id": "pstHcc837MzO",
      "metadata": {
        "colab": {
          "base_uri": "https://localhost:8080/"
        },
        "id": "pstHcc837MzO",
        "outputId": "e6b35c89-1d8b-40e5-e43c-1738c03bb1d1"
      },
      "outputs": [
        {
          "data": {
            "text/plain": [
              "id                         0\n",
              "date_account_created       0\n",
              "timestamp_first_active     0\n",
              "gender                     0\n",
              "age                        0\n",
              "signup_method              0\n",
              "signup_flow                0\n",
              "language                   0\n",
              "affiliate_channel          0\n",
              "affiliate_provider         0\n",
              "first_affiliate_tracked    0\n",
              "signup_app                 0\n",
              "first_device_type          0\n",
              "first_browser              0\n",
              "country_destination        0\n",
              "dtype: int64"
            ]
          },
          "execution_count": 43,
          "metadata": {},
          "output_type": "execute_result"
        }
      ],
      "source": [
        "# train_.isna().sum()\n",
        "\n",
        "train.isna().sum()"
      ]
    },
    {
      "cell_type": "code",
      "execution_count": 44,
      "id": "696626e9",
      "metadata": {},
      "outputs": [],
      "source": [
        "# test_=t['first_affiliate_tracked'].fillna(method='ffill') changed this\n",
        "#test_\n",
        "\n",
        "test['first_affiliate_tracked'].fillna(method='ffill', inplace = True)"
      ]
    },
    {
      "attachments": {},
      "cell_type": "markdown",
      "id": "bb54eeb0",
      "metadata": {},
      "source": [
        "#### Testing"
      ]
    },
    {
      "cell_type": "code",
      "execution_count": 45,
      "id": "7659039a",
      "metadata": {},
      "outputs": [
        {
          "data": {
            "text/plain": [
              "id                         0\n",
              "date_account_created       0\n",
              "timestamp_first_active     0\n",
              "gender                     0\n",
              "age                        0\n",
              "signup_method              0\n",
              "signup_flow                0\n",
              "language                   0\n",
              "affiliate_channel          0\n",
              "affiliate_provider         0\n",
              "first_affiliate_tracked    0\n",
              "signup_app                 0\n",
              "first_device_type          0\n",
              "first_browser              0\n",
              "dtype: int64"
            ]
          },
          "execution_count": 45,
          "metadata": {},
          "output_type": "execute_result"
        }
      ],
      "source": [
        "# test_.isna().sum()\n",
        "\n",
        "test.isna().sum()"
      ]
    },
    {
      "attachments": {},
      "cell_type": "markdown",
      "id": "4011d8ed",
      "metadata": {},
      "source": [
        "### Cleaning Step 4: Renaming `id` to `user_id`"
      ]
    },
    {
      "cell_type": "code",
      "execution_count": 46,
      "id": "9336f938",
      "metadata": {},
      "outputs": [],
      "source": [
        "train.rename(columns = {'id': 'user_id'}, inplace = True)"
      ]
    },
    {
      "attachments": {},
      "cell_type": "markdown",
      "id": "0b332906",
      "metadata": {},
      "source": [
        "#### Testing"
      ]
    },
    {
      "cell_type": "code",
      "execution_count": 47,
      "id": "51bd727b",
      "metadata": {},
      "outputs": [
        {
          "data": {
            "text/html": [
              "<div>\n",
              "<style scoped>\n",
              "    .dataframe tbody tr th:only-of-type {\n",
              "        vertical-align: middle;\n",
              "    }\n",
              "\n",
              "    .dataframe tbody tr th {\n",
              "        vertical-align: top;\n",
              "    }\n",
              "\n",
              "    .dataframe thead th {\n",
              "        text-align: right;\n",
              "    }\n",
              "</style>\n",
              "<table border=\"1\" class=\"dataframe\">\n",
              "  <thead>\n",
              "    <tr style=\"text-align: right;\">\n",
              "      <th></th>\n",
              "      <th>user_id</th>\n",
              "      <th>date_account_created</th>\n",
              "      <th>timestamp_first_active</th>\n",
              "      <th>gender</th>\n",
              "      <th>age</th>\n",
              "      <th>signup_method</th>\n",
              "      <th>signup_flow</th>\n",
              "      <th>language</th>\n",
              "      <th>affiliate_channel</th>\n",
              "      <th>affiliate_provider</th>\n",
              "      <th>first_affiliate_tracked</th>\n",
              "      <th>signup_app</th>\n",
              "      <th>first_device_type</th>\n",
              "      <th>first_browser</th>\n",
              "      <th>country_destination</th>\n",
              "    </tr>\n",
              "  </thead>\n",
              "  <tbody>\n",
              "    <tr>\n",
              "      <th>31937</th>\n",
              "      <td>in5u57k9lb</td>\n",
              "      <td>2012-07-14</td>\n",
              "      <td>20120714181346</td>\n",
              "      <td>MALE</td>\n",
              "      <td>34.0</td>\n",
              "      <td>basic</td>\n",
              "      <td>0</td>\n",
              "      <td>en</td>\n",
              "      <td>sem-brand</td>\n",
              "      <td>google</td>\n",
              "      <td>omg</td>\n",
              "      <td>Web</td>\n",
              "      <td>Mac Desktop</td>\n",
              "      <td>Safari</td>\n",
              "      <td>US</td>\n",
              "    </tr>\n",
              "  </tbody>\n",
              "</table>\n",
              "</div>"
            ],
            "text/plain": [
              "          user_id date_account_created  timestamp_first_active gender   age  \\\n",
              "31937  in5u57k9lb           2012-07-14          20120714181346   MALE  34.0   \n",
              "\n",
              "      signup_method  signup_flow language affiliate_channel  \\\n",
              "31937         basic            0       en         sem-brand   \n",
              "\n",
              "      affiliate_provider first_affiliate_tracked signup_app first_device_type  \\\n",
              "31937             google                     omg        Web       Mac Desktop   \n",
              "\n",
              "      first_browser country_destination  \n",
              "31937        Safari                  US  "
            ]
          },
          "execution_count": 47,
          "metadata": {},
          "output_type": "execute_result"
        }
      ],
      "source": [
        "train.sample()"
      ]
    },
    {
      "cell_type": "code",
      "execution_count": 48,
      "id": "7de899cf",
      "metadata": {},
      "outputs": [],
      "source": [
        "test.rename(columns = {'id': 'user_id'}, inplace = True)"
      ]
    },
    {
      "attachments": {},
      "cell_type": "markdown",
      "id": "072b1314",
      "metadata": {},
      "source": [
        "#### Testing"
      ]
    },
    {
      "cell_type": "code",
      "execution_count": 49,
      "id": "5cbe0c86",
      "metadata": {},
      "outputs": [
        {
          "data": {
            "text/html": [
              "<div>\n",
              "<style scoped>\n",
              "    .dataframe tbody tr th:only-of-type {\n",
              "        vertical-align: middle;\n",
              "    }\n",
              "\n",
              "    .dataframe tbody tr th {\n",
              "        vertical-align: top;\n",
              "    }\n",
              "\n",
              "    .dataframe thead th {\n",
              "        text-align: right;\n",
              "    }\n",
              "</style>\n",
              "<table border=\"1\" class=\"dataframe\">\n",
              "  <thead>\n",
              "    <tr style=\"text-align: right;\">\n",
              "      <th></th>\n",
              "      <th>user_id</th>\n",
              "      <th>date_account_created</th>\n",
              "      <th>timestamp_first_active</th>\n",
              "      <th>gender</th>\n",
              "      <th>age</th>\n",
              "      <th>signup_method</th>\n",
              "      <th>signup_flow</th>\n",
              "      <th>language</th>\n",
              "      <th>affiliate_channel</th>\n",
              "      <th>affiliate_provider</th>\n",
              "      <th>first_affiliate_tracked</th>\n",
              "      <th>signup_app</th>\n",
              "      <th>first_device_type</th>\n",
              "      <th>first_browser</th>\n",
              "    </tr>\n",
              "  </thead>\n",
              "  <tbody>\n",
              "    <tr>\n",
              "      <th>14931</th>\n",
              "      <td>403q1kipqw</td>\n",
              "      <td>2014-07-23</td>\n",
              "      <td>20140723075627</td>\n",
              "      <td>MALE</td>\n",
              "      <td>22.0</td>\n",
              "      <td>facebook</td>\n",
              "      <td>0</td>\n",
              "      <td>en</td>\n",
              "      <td>direct</td>\n",
              "      <td>direct</td>\n",
              "      <td>linked</td>\n",
              "      <td>Web</td>\n",
              "      <td>Mac Desktop</td>\n",
              "      <td>Safari</td>\n",
              "    </tr>\n",
              "  </tbody>\n",
              "</table>\n",
              "</div>"
            ],
            "text/plain": [
              "          user_id date_account_created  timestamp_first_active gender   age  \\\n",
              "14931  403q1kipqw           2014-07-23          20140723075627   MALE  22.0   \n",
              "\n",
              "      signup_method  signup_flow language affiliate_channel  \\\n",
              "14931      facebook            0       en            direct   \n",
              "\n",
              "      affiliate_provider first_affiliate_tracked signup_app first_device_type  \\\n",
              "14931             direct                  linked        Web       Mac Desktop   \n",
              "\n",
              "      first_browser  \n",
              "14931        Safari  "
            ]
          },
          "execution_count": 49,
          "metadata": {},
          "output_type": "execute_result"
        }
      ],
      "source": [
        "test.sample()"
      ]
    },
    {
      "attachments": {},
      "cell_type": "markdown",
      "id": "0f156e19",
      "metadata": {},
      "source": [
        "## Baseline Model"
      ]
    },
    {
      "attachments": {},
      "cell_type": "markdown",
      "id": "7DsqjqTjOonm",
      "metadata": {
        "id": "7DsqjqTjOonm"
      },
      "source": [
        "### Encoding and Feature Engineering"
      ]
    },
    {
      "cell_type": "code",
      "execution_count": 50,
      "id": "36f8e6c5",
      "metadata": {},
      "outputs": [],
      "source": [
        "trial = pd.get_dummies(data = train, columns = cat_cols, drop_first=True)"
      ]
    },
    {
      "cell_type": "code",
      "execution_count": 52,
      "id": "2b62f74a",
      "metadata": {},
      "outputs": [],
      "source": [
        "trial.set_index('user_id', inplace = True)"
      ]
    },
    {
      "cell_type": "code",
      "execution_count": 53,
      "id": "12d96bb7",
      "metadata": {},
      "outputs": [],
      "source": [
        "trial.drop(labels = ['date_account_created', 'timestamp_first_active'], axis = 1, inplace = True)"
      ]
    },
    {
      "cell_type": "code",
      "execution_count": 54,
      "id": "8ff4e1b6",
      "metadata": {},
      "outputs": [],
      "source": [
        "# setting the mapping for the target variables\n",
        "class_dict = {\n",
        "    'NDF': 0,\n",
        "    'US': 1,\n",
        "    'other': 2,\n",
        "    'FR': 3,\n",
        "    'CA': 4,\n",
        "    'GB': 5,\n",
        "    'ES': 6,\n",
        "    'IT': 7,\n",
        "    'PT': 8,\n",
        "    'NL': 9,\n",
        "    'DE': 10,\n",
        "    'AU': 11\n",
        "}"
      ]
    },
    {
      "cell_type": "code",
      "execution_count": 55,
      "id": "a4f56133",
      "metadata": {},
      "outputs": [],
      "source": [
        "X = trial.drop(labels = ['country_destination'], axis = 1)\n",
        "y = trial.loc[:, 'country_destination'].apply(lambda x: class_dict[x])"
      ]
    },
    {
      "cell_type": "code",
      "execution_count": 56,
      "id": "cc34a314",
      "metadata": {},
      "outputs": [],
      "source": [
        "X_train, X_test, y_train, y_test = train_test_split(X, y, train_size = 0.75, stratify=y)"
      ]
    },
    {
      "cell_type": "code",
      "execution_count": 16,
      "id": "59f7a29b",
      "metadata": {},
      "outputs": [],
      "source": [
        "# classifiers = [KNeighborsClassifier(), RandomForestClassifier(verbose = 1), GradientBoostingClassifier(verbose = 1)]\n",
        "# for classifier in classifiers:\n",
        "#     classifier.fit(X_train, y_train)\n",
        "#     print('Score: ' + str(classifier.score(X_test, y_test)))"
      ]
    },
    {
      "attachments": {},
      "cell_type": "markdown",
      "id": "fe93b760",
      "metadata": {},
      "source": [
        "##### The best performing model was the GradientBoostingClassifier with a 62.9% accuracy score. The least performing was the KNeighborsClassifier with 58.67% accuracy. Thus, we would try to tune the GradientBoostingClassifier"
      ]
    },
    {
      "attachments": {},
      "cell_type": "markdown",
      "id": "2a6b7a6d",
      "metadata": {},
      "source": [
        "### Using randomizedsearchcv to try to improve the model"
      ]
    },
    {
      "cell_type": "code",
      "execution_count": 28,
      "id": "27d68e54",
      "metadata": {},
      "outputs": [],
      "source": [
        "# parameters = {\n",
        "#     'n_estimators' : [100, 200],\n",
        "#     'max_features' : ['auto', 'log2'],\n",
        "#     'max_depth': [3, 5]\n",
        "# }"
      ]
    },
    {
      "cell_type": "code",
      "execution_count": 29,
      "id": "2839c759",
      "metadata": {},
      "outputs": [],
      "source": [
        "# rcv = RandomizedSearchCV(estimator = GradientBoostingClassifier(), param_distributions=parameters, n_iter = 3, n_jobs = 3, verbose = 3)"
      ]
    },
    {
      "cell_type": "code",
      "execution_count": null,
      "id": "316026cb",
      "metadata": {},
      "outputs": [],
      "source": [
        "# rcv.fit(X_train, y_train)"
      ]
    },
    {
      "cell_type": "code",
      "execution_count": null,
      "id": "cf113cf6",
      "metadata": {},
      "outputs": [],
      "source": [
        "# rcv.best_params_\n",
        "# #{'n_estimators': 100, 'max_features': 'auto', 'max_depth': 5}"
      ]
    },
    {
      "cell_type": "code",
      "execution_count": null,
      "id": "0b8a044c",
      "metadata": {},
      "outputs": [],
      "source": [
        "# rcv.best_score_\n",
        "# 0.6300846878356539"
      ]
    },
    {
      "attachments": {},
      "cell_type": "markdown",
      "id": "9a45e184",
      "metadata": {},
      "source": [
        "##### Since our best model still performs slightly above 63%, we would need to apply more feature engineering as we hope to beat our baseline model score"
      ]
    },
    {
      "attachments": {},
      "cell_type": "markdown",
      "id": "4cd8c21e",
      "metadata": {},
      "source": [
        "## Second Model"
      ]
    },
    {
      "attachments": {},
      "cell_type": "markdown",
      "id": "f084381d",
      "metadata": {},
      "source": [
        "### Cleaning & Aggregating sessions data to be merged with train and test datasets"
      ]
    },
    {
      "cell_type": "code",
      "execution_count": 57,
      "id": "b6b82480",
      "metadata": {},
      "outputs": [
        {
          "data": {
            "text/plain": [
              "user_id            34496\n",
              "action             79626\n",
              "action_type      1126204\n",
              "action_detail    1126204\n",
              "device_type            0\n",
              "secs_elapsed      136031\n",
              "dtype: int64"
            ]
          },
          "execution_count": 57,
          "metadata": {},
          "output_type": "execute_result"
        }
      ],
      "source": [
        "sessions.isnull().sum()"
      ]
    },
    {
      "cell_type": "code",
      "execution_count": 58,
      "id": "da909ca9",
      "metadata": {},
      "outputs": [
        {
          "data": {
            "text/html": [
              "<div>\n",
              "<style scoped>\n",
              "    .dataframe tbody tr th:only-of-type {\n",
              "        vertical-align: middle;\n",
              "    }\n",
              "\n",
              "    .dataframe tbody tr th {\n",
              "        vertical-align: top;\n",
              "    }\n",
              "\n",
              "    .dataframe thead th {\n",
              "        text-align: right;\n",
              "    }\n",
              "</style>\n",
              "<table border=\"1\" class=\"dataframe\">\n",
              "  <thead>\n",
              "    <tr style=\"text-align: right;\">\n",
              "      <th></th>\n",
              "      <th>user_id</th>\n",
              "      <th>action</th>\n",
              "      <th>action_type</th>\n",
              "      <th>action_detail</th>\n",
              "      <th>device_type</th>\n",
              "      <th>secs_elapsed</th>\n",
              "    </tr>\n",
              "  </thead>\n",
              "  <tbody>\n",
              "    <tr>\n",
              "      <th>5999288</th>\n",
              "      <td>g2vq6crwb1</td>\n",
              "      <td>show</td>\n",
              "      <td>view</td>\n",
              "      <td>p1</td>\n",
              "      <td>Windows Desktop</td>\n",
              "      <td>163793.0</td>\n",
              "    </tr>\n",
              "  </tbody>\n",
              "</table>\n",
              "</div>"
            ],
            "text/plain": [
              "            user_id action action_type action_detail      device_type  \\\n",
              "5999288  g2vq6crwb1   show        view            p1  Windows Desktop   \n",
              "\n",
              "         secs_elapsed  \n",
              "5999288      163793.0  "
            ]
          },
          "execution_count": 58,
          "metadata": {},
          "output_type": "execute_result"
        }
      ],
      "source": [
        "sessions.sample()"
      ]
    },
    {
      "cell_type": "code",
      "execution_count": 59,
      "id": "22736b7a",
      "metadata": {},
      "outputs": [],
      "source": [
        "# formatting the device type values\n",
        "sessions.device_type = sessions.device_type.str.replace(' ',\"_\")"
      ]
    },
    {
      "cell_type": "code",
      "execution_count": 60,
      "id": "61f5cc2d",
      "metadata": {},
      "outputs": [],
      "source": [
        "#Handing the NaN values repaceing with mode of column\n",
        "sessions['action'].fillna(sessions['action'].mode()[0], inplace=True)\n",
        "sessions['action_type'].fillna(sessions['action_type'].mode()[0], inplace=True)\n",
        "sessions['action_detail'].fillna(sessions['action_detail'].mode()[0], inplace=True)\n",
        "sessions['device_type'].fillna(sessions['device_type'].mode()[0], inplace=True)\n",
        "sessions['secs_elapsed'].fillna(0, inplace=True)"
      ]
    },
    {
      "cell_type": "code",
      "execution_count": 61,
      "id": "7ee27584",
      "metadata": {},
      "outputs": [],
      "source": [
        "new_sessions = sessions.groupby('user_id', as_index = False).agg(lambda x: x.tolist())"
      ]
    },
    {
      "cell_type": "code",
      "execution_count": 62,
      "id": "0b5fb09f",
      "metadata": {},
      "outputs": [],
      "source": [
        "# dropping rows with missing user_id\n",
        "new_sessions.dropna(axis = 0, subset = 'user_id', inplace = True)"
      ]
    },
    {
      "cell_type": "code",
      "execution_count": 63,
      "id": "7cdf4c13",
      "metadata": {},
      "outputs": [
        {
          "data": {
            "text/plain": [
              "(135483, 6)"
            ]
          },
          "execution_count": 63,
          "metadata": {},
          "output_type": "execute_result"
        }
      ],
      "source": [
        "new_sessions.shape"
      ]
    },
    {
      "cell_type": "code",
      "execution_count": 64,
      "id": "4d5e1526",
      "metadata": {},
      "outputs": [
        {
          "data": {
            "text/plain": [
              "user_id          0\n",
              "action           0\n",
              "action_type      0\n",
              "action_detail    0\n",
              "device_type      0\n",
              "secs_elapsed     0\n",
              "dtype: int64"
            ]
          },
          "execution_count": 64,
          "metadata": {},
          "output_type": "execute_result"
        }
      ],
      "source": [
        "new_sessions.isnull().sum()"
      ]
    },
    {
      "cell_type": "code",
      "execution_count": 65,
      "id": "afcc48bd",
      "metadata": {},
      "outputs": [],
      "source": [
        "def convert_to_string(action):\n",
        "    '''\n",
        "    Function to convert each action to a string\n",
        "    '''\n",
        "    action = [str(i) for i in action]\n",
        "    action = [re.sub(\"nan\",\"\",i) for i in action]\n",
        "    action = \",\".join(action)\n",
        "    \n",
        "    return action"
      ]
    },
    {
      "cell_type": "code",
      "execution_count": 66,
      "id": "50616c9f",
      "metadata": {},
      "outputs": [],
      "source": [
        "# applying the function\n",
        "new_sessions[\"action\"] = new_sessions[\"action\"].apply(convert_to_string)\n",
        "new_sessions[\"action_type\"] = new_sessions[\"action_type\"].apply(convert_to_string)\n",
        "new_sessions[\"action_detail\"] = new_sessions[\"action_detail\"].apply(convert_to_string)"
      ]
    },
    {
      "cell_type": "code",
      "execution_count": 67,
      "id": "56fdad0e",
      "metadata": {},
      "outputs": [],
      "source": [
        "def convert_to_set(device):\n",
        "    '''\n",
        "    Function to get the unique device types\n",
        "    '''\n",
        "    device = [str(i) for i in device]\n",
        "    device = [re.sub(\"nan\",\"\",i) for i in device]\n",
        "    device = \",\".join(set(device))\n",
        "    \n",
        "    return device"
      ]
    },
    {
      "cell_type": "code",
      "execution_count": 68,
      "id": "7decc36f",
      "metadata": {},
      "outputs": [],
      "source": [
        "# applying the function\n",
        "new_sessions['device_type'] = new_sessions.device_type.apply(convert_to_set)"
      ]
    },
    {
      "cell_type": "code",
      "execution_count": 69,
      "id": "01b3d945",
      "metadata": {},
      "outputs": [],
      "source": [
        "def convert_the_time(time):\n",
        "    '''\n",
        "    Function to convert the elapsed seconds to time\n",
        "    '''\n",
        "    float_time = []\n",
        "    time = [str(i) for i in time]\n",
        "    time = [re.sub(\"nan\",\"\",i) for i in time]\n",
        "    \n",
        "    for i in time:\n",
        "        try:\n",
        "            float_time.append(float(i))\n",
        "        except ValueError :\n",
        "            continue\n",
        "\n",
        "    time = sum(float_time)\n",
        "    \n",
        "    return time"
      ]
    },
    {
      "cell_type": "code",
      "execution_count": 70,
      "id": "b41cdb40",
      "metadata": {},
      "outputs": [],
      "source": [
        "# applying the function\n",
        "new_sessions['secs_elapsed'] = new_sessions.secs_elapsed.apply(convert_the_time)"
      ]
    },
    {
      "cell_type": "code",
      "execution_count": 71,
      "id": "7098974e",
      "metadata": {},
      "outputs": [
        {
          "name": "stdout",
          "output_type": "stream",
          "text": [
            "<class 'pandas.core.frame.DataFrame'>\n",
            "RangeIndex: 135483 entries, 0 to 135482\n",
            "Data columns (total 6 columns):\n",
            " #   Column         Non-Null Count   Dtype  \n",
            "---  ------         --------------   -----  \n",
            " 0   user_id        135483 non-null  object \n",
            " 1   action         135483 non-null  object \n",
            " 2   action_type    135483 non-null  object \n",
            " 3   action_detail  135483 non-null  object \n",
            " 4   device_type    135483 non-null  object \n",
            " 5   secs_elapsed   135483 non-null  float64\n",
            "dtypes: float64(1), object(5)\n",
            "memory usage: 6.2+ MB\n"
          ]
        }
      ],
      "source": [
        "new_sessions.info()"
      ]
    },
    {
      "attachments": {},
      "cell_type": "markdown",
      "id": "d7b8e925",
      "metadata": {},
      "source": [
        "##### Merging the train and sessions dataframes"
      ]
    },
    {
      "cell_type": "code",
      "execution_count": 72,
      "id": "cdc4b7da",
      "metadata": {},
      "outputs": [],
      "source": [
        "train_merge = train.merge(new_sessions, left_on = 'user_id', right_on = 'user_id', how = 'inner')"
      ]
    },
    {
      "cell_type": "code",
      "execution_count": 73,
      "id": "2d6fc150",
      "metadata": {},
      "outputs": [
        {
          "data": {
            "text/html": [
              "<div>\n",
              "<style scoped>\n",
              "    .dataframe tbody tr th:only-of-type {\n",
              "        vertical-align: middle;\n",
              "    }\n",
              "\n",
              "    .dataframe tbody tr th {\n",
              "        vertical-align: top;\n",
              "    }\n",
              "\n",
              "    .dataframe thead th {\n",
              "        text-align: right;\n",
              "    }\n",
              "</style>\n",
              "<table border=\"1\" class=\"dataframe\">\n",
              "  <thead>\n",
              "    <tr style=\"text-align: right;\">\n",
              "      <th></th>\n",
              "      <th>user_id</th>\n",
              "      <th>date_account_created</th>\n",
              "      <th>timestamp_first_active</th>\n",
              "      <th>gender</th>\n",
              "      <th>age</th>\n",
              "      <th>signup_method</th>\n",
              "      <th>signup_flow</th>\n",
              "      <th>language</th>\n",
              "      <th>affiliate_channel</th>\n",
              "      <th>affiliate_provider</th>\n",
              "      <th>first_affiliate_tracked</th>\n",
              "      <th>signup_app</th>\n",
              "      <th>first_device_type</th>\n",
              "      <th>first_browser</th>\n",
              "      <th>country_destination</th>\n",
              "      <th>action</th>\n",
              "      <th>action_type</th>\n",
              "      <th>action_detail</th>\n",
              "      <th>device_type</th>\n",
              "      <th>secs_elapsed</th>\n",
              "    </tr>\n",
              "  </thead>\n",
              "  <tbody>\n",
              "    <tr>\n",
              "      <th>0</th>\n",
              "      <td>d1mm9tcy42</td>\n",
              "      <td>2014-01-01</td>\n",
              "      <td>20140101000936</td>\n",
              "      <td>MALE</td>\n",
              "      <td>62.0</td>\n",
              "      <td>basic</td>\n",
              "      <td>0</td>\n",
              "      <td>en</td>\n",
              "      <td>sem-non-brand</td>\n",
              "      <td>google</td>\n",
              "      <td>omg</td>\n",
              "      <td>Web</td>\n",
              "      <td>Windows Desktop</td>\n",
              "      <td>Chrome</td>\n",
              "      <td>other</td>\n",
              "      <td>lookup,search_results,lookup,search_results,lo...</td>\n",
              "      <td>view,click,view,click,view,click,view,data,vie...</td>\n",
              "      <td>view_search_results,view_search_results,view_s...</td>\n",
              "      <td>Windows_Desktop,-unknown-</td>\n",
              "      <td>3427529.0</td>\n",
              "    </tr>\n",
              "    <tr>\n",
              "      <th>1</th>\n",
              "      <td>yo8nz8bqcq</td>\n",
              "      <td>2014-01-01</td>\n",
              "      <td>20140101001558</td>\n",
              "      <td>-unknown-</td>\n",
              "      <td>34.0</td>\n",
              "      <td>basic</td>\n",
              "      <td>0</td>\n",
              "      <td>en</td>\n",
              "      <td>direct</td>\n",
              "      <td>direct</td>\n",
              "      <td>untracked</td>\n",
              "      <td>Web</td>\n",
              "      <td>Mac Desktop</td>\n",
              "      <td>Firefox</td>\n",
              "      <td>NDF</td>\n",
              "      <td>dashboard,create,confirm_email,show,show_perso...</td>\n",
              "      <td>view,submit,click,view,data,view,data,data,view</td>\n",
              "      <td>dashboard,create_user,confirm_email_link,p3,us...</td>\n",
              "      <td>Mac_Desktop</td>\n",
              "      <td>207842.0</td>\n",
              "    </tr>\n",
              "  </tbody>\n",
              "</table>\n",
              "</div>"
            ],
            "text/plain": [
              "      user_id date_account_created  timestamp_first_active     gender   age  \\\n",
              "0  d1mm9tcy42           2014-01-01          20140101000936       MALE  62.0   \n",
              "1  yo8nz8bqcq           2014-01-01          20140101001558  -unknown-  34.0   \n",
              "\n",
              "  signup_method  signup_flow language affiliate_channel affiliate_provider  \\\n",
              "0         basic            0       en     sem-non-brand             google   \n",
              "1         basic            0       en            direct             direct   \n",
              "\n",
              "  first_affiliate_tracked signup_app first_device_type first_browser  \\\n",
              "0                     omg        Web   Windows Desktop        Chrome   \n",
              "1               untracked        Web       Mac Desktop       Firefox   \n",
              "\n",
              "  country_destination                                             action  \\\n",
              "0               other  lookup,search_results,lookup,search_results,lo...   \n",
              "1                 NDF  dashboard,create,confirm_email,show,show_perso...   \n",
              "\n",
              "                                         action_type  \\\n",
              "0  view,click,view,click,view,click,view,data,vie...   \n",
              "1    view,submit,click,view,data,view,data,data,view   \n",
              "\n",
              "                                       action_detail  \\\n",
              "0  view_search_results,view_search_results,view_s...   \n",
              "1  dashboard,create_user,confirm_email_link,p3,us...   \n",
              "\n",
              "                 device_type  secs_elapsed  \n",
              "0  Windows_Desktop,-unknown-     3427529.0  \n",
              "1                Mac_Desktop      207842.0  "
            ]
          },
          "execution_count": 73,
          "metadata": {},
          "output_type": "execute_result"
        }
      ],
      "source": [
        "train_merge.head(2)"
      ]
    },
    {
      "cell_type": "code",
      "execution_count": 74,
      "id": "4b0b5a29",
      "metadata": {},
      "outputs": [
        {
          "name": "stdout",
          "output_type": "stream",
          "text": [
            "Train: (213451, 15)\n",
            "Sessions: (10567737, 6)\n",
            "Train_merge: (73815, 20)\n"
          ]
        }
      ],
      "source": [
        "print('Train:', train.shape)\n",
        "print('Sessions:', sessions.shape)\n",
        "print('Train_merge:', train_merge.shape)"
      ]
    },
    {
      "cell_type": "code",
      "execution_count": 75,
      "id": "168ce25c",
      "metadata": {},
      "outputs": [
        {
          "data": {
            "text/plain": [
              "user_id                    0\n",
              "date_account_created       0\n",
              "timestamp_first_active     0\n",
              "gender                     0\n",
              "age                        0\n",
              "signup_method              0\n",
              "signup_flow                0\n",
              "language                   0\n",
              "affiliate_channel          0\n",
              "affiliate_provider         0\n",
              "first_affiliate_tracked    0\n",
              "signup_app                 0\n",
              "first_device_type          0\n",
              "first_browser              0\n",
              "country_destination        0\n",
              "action                     0\n",
              "action_type                0\n",
              "action_detail              0\n",
              "device_type                0\n",
              "secs_elapsed               0\n",
              "dtype: int64"
            ]
          },
          "execution_count": 75,
          "metadata": {},
          "output_type": "execute_result"
        }
      ],
      "source": [
        "train_merge.isnull().sum()"
      ]
    },
    {
      "attachments": {},
      "cell_type": "markdown",
      "id": "a8154256",
      "metadata": {},
      "source": [
        "##### Obs: There are 73815 users with session data"
      ]
    },
    {
      "attachments": {},
      "cell_type": "markdown",
      "id": "a549f54a",
      "metadata": {},
      "source": [
        "#### Performing same for the test dataset"
      ]
    },
    {
      "cell_type": "code",
      "execution_count": 76,
      "id": "09a5ddd8",
      "metadata": {},
      "outputs": [
        {
          "name": "stdout",
          "output_type": "stream",
          "text": [
            "Test: (62096, 14)\n",
            "Sessions: (10567737, 6)\n",
            "Test_merge: (62096, 19)\n"
          ]
        }
      ],
      "source": [
        "test_merge = test.merge(new_sessions, left_on = 'user_id', right_on = 'user_id', how = 'left')\n",
        "\n",
        "print('Test:', test.shape)\n",
        "print('Sessions:', sessions.shape)\n",
        "print('Test_merge:', test_merge.shape)"
      ]
    },
    {
      "cell_type": "code",
      "execution_count": 77,
      "id": "6c0c497a",
      "metadata": {},
      "outputs": [
        {
          "data": {
            "text/plain": [
              "user_id                      0\n",
              "date_account_created         0\n",
              "timestamp_first_active       0\n",
              "gender                       0\n",
              "age                          0\n",
              "signup_method                0\n",
              "signup_flow                  0\n",
              "language                     0\n",
              "affiliate_channel            0\n",
              "affiliate_provider           0\n",
              "first_affiliate_tracked      0\n",
              "signup_app                   0\n",
              "first_device_type            0\n",
              "first_browser                0\n",
              "action                     428\n",
              "action_type                428\n",
              "action_detail              428\n",
              "device_type                428\n",
              "secs_elapsed               428\n",
              "dtype: int64"
            ]
          },
          "execution_count": 77,
          "metadata": {},
          "output_type": "execute_result"
        }
      ],
      "source": [
        "test_merge.isnull().sum()"
      ]
    },
    {
      "cell_type": "code",
      "execution_count": 78,
      "id": "3b0f30e8",
      "metadata": {},
      "outputs": [],
      "source": [
        "test_merge[\"action\"].fillna(\"na\", inplace = True)\n",
        "test_merge[\"action_type\"].fillna(\"na\", inplace = True)\n",
        "test_merge[\"action_detail\"].fillna(\"na\", inplace = True)\n",
        "test_merge[\"device_type\"].fillna(\"na\", inplace = True)\n",
        "test_merge[\"secs_elapsed\"].fillna(0, inplace = True)"
      ]
    },
    {
      "cell_type": "code",
      "execution_count": 79,
      "id": "96166d94",
      "metadata": {},
      "outputs": [
        {
          "data": {
            "text/plain": [
              "user_id                    0\n",
              "date_account_created       0\n",
              "timestamp_first_active     0\n",
              "gender                     0\n",
              "age                        0\n",
              "signup_method              0\n",
              "signup_flow                0\n",
              "language                   0\n",
              "affiliate_channel          0\n",
              "affiliate_provider         0\n",
              "first_affiliate_tracked    0\n",
              "signup_app                 0\n",
              "first_device_type          0\n",
              "first_browser              0\n",
              "action                     0\n",
              "action_type                0\n",
              "action_detail              0\n",
              "device_type                0\n",
              "secs_elapsed               0\n",
              "dtype: int64"
            ]
          },
          "execution_count": 79,
          "metadata": {},
          "output_type": "execute_result"
        }
      ],
      "source": [
        "test_merge.isnull().sum()"
      ]
    },
    {
      "attachments": {},
      "cell_type": "markdown",
      "id": "b495b276",
      "metadata": {},
      "source": [
        "### Date feature engineering"
      ]
    },
    {
      "cell_type": "code",
      "execution_count": 80,
      "id": "51211e63",
      "metadata": {},
      "outputs": [],
      "source": [
        "# for train\n",
        "train_merge[\"date_account_created\"] = pd.to_datetime(train_merge[\"date_account_created\"])\n",
        "train_merge[\"date_account_created_day\"] = train_merge.date_account_created.dt.weekday\n",
        "train_merge[\"date_account_created_month\"] = train_merge.date_account_created.dt.month\n",
        "train_merge[\"date_account_created_year\"] = train_merge.date_account_created.dt.year\n",
        "\n",
        "# for test\n",
        "test_merge[\"date_account_created\"] = pd.to_datetime(test_merge[\"date_account_created\"])\n",
        "test_merge[\"date_account_created_day\"] = test_merge.date_account_created.dt.weekday\n",
        "test_merge[\"date_account_created_month\"] = test_merge.date_account_created.dt.month\n",
        "test_merge[\"date_account_created_year\"] = test_merge.date_account_created.dt.year"
      ]
    },
    {
      "cell_type": "code",
      "execution_count": 81,
      "id": "f094099a",
      "metadata": {},
      "outputs": [],
      "source": [
        "def convert_timestamp_first_active(timestamp):\n",
        "    '''\n",
        "    Function to help convert timestamp entry to timestamp object\n",
        "    '''\n",
        "        \n",
        "    timestamp = str(timestamp)\n",
        "        \n",
        "    timestamp = datetime(year=int(timestamp[0:4]), month=int(timestamp[4:6]), day=int(timestamp[6:8]),\\\n",
        "                             \n",
        "                             hour=int(timestamp[8:10]), minute=int(timestamp[10:12]), second=int(timestamp[12:]))\n",
        "        \n",
        "    return timestamp"
      ]
    },
    {
      "cell_type": "code",
      "execution_count": 82,
      "id": "0afc3d43",
      "metadata": {},
      "outputs": [],
      "source": [
        "# for train\n",
        "train_merge['timestamp_first_active'] = pd.to_datetime(train_merge.timestamp_first_active.apply(convert_timestamp_first_active))\n",
        "train_merge[\"timestamp_first_active_day\"] = train_merge.timestamp_first_active.dt.weekday\n",
        "train_merge[\"timestamp_first_active_month\"] = train_merge.timestamp_first_active.dt.month\n",
        "train_merge[\"timestamp_first_active_year\"] = train_merge.timestamp_first_active.dt.year\n",
        "train_merge[\"timestamp_first_active_hour\"] = train_merge.timestamp_first_active.dt.hour\n",
        "\n",
        "# for test\n",
        "test_merge['timestamp_first_active'] = pd.to_datetime(test_merge.timestamp_first_active.apply(convert_timestamp_first_active))\n",
        "test_merge['timestamp_first_active_day'] = test_merge.timestamp_first_active.dt.weekday\n",
        "test_merge['timestamp_first_active_month'] = test_merge.timestamp_first_active.dt.month\n",
        "test_merge['timestamp_first_active_year'] = test_merge.timestamp_first_active.dt.year\n",
        "test_merge['timestamp_first_active_hour'] = test_merge.timestamp_first_active.dt.hour "
      ]
    },
    {
      "cell_type": "code",
      "execution_count": 83,
      "id": "134d96d5",
      "metadata": {},
      "outputs": [
        {
          "data": {
            "text/plain": [
              "user_id                         0\n",
              "date_account_created            0\n",
              "timestamp_first_active          0\n",
              "gender                          0\n",
              "age                             0\n",
              "signup_method                   0\n",
              "signup_flow                     0\n",
              "language                        0\n",
              "affiliate_channel               0\n",
              "affiliate_provider              0\n",
              "first_affiliate_tracked         0\n",
              "signup_app                      0\n",
              "first_device_type               0\n",
              "first_browser                   0\n",
              "country_destination             0\n",
              "action                          0\n",
              "action_type                     0\n",
              "action_detail                   0\n",
              "device_type                     0\n",
              "secs_elapsed                    0\n",
              "date_account_created_day        0\n",
              "date_account_created_month      0\n",
              "date_account_created_year       0\n",
              "timestamp_first_active_day      0\n",
              "timestamp_first_active_month    0\n",
              "timestamp_first_active_year     0\n",
              "timestamp_first_active_hour     0\n",
              "dtype: int64"
            ]
          },
          "execution_count": 83,
          "metadata": {},
          "output_type": "execute_result"
        }
      ],
      "source": [
        "train_merge.isnull().sum()"
      ]
    },
    {
      "cell_type": "code",
      "execution_count": 84,
      "id": "53f0c258",
      "metadata": {},
      "outputs": [
        {
          "data": {
            "text/html": [
              "<div>\n",
              "<style scoped>\n",
              "    .dataframe tbody tr th:only-of-type {\n",
              "        vertical-align: middle;\n",
              "    }\n",
              "\n",
              "    .dataframe tbody tr th {\n",
              "        vertical-align: top;\n",
              "    }\n",
              "\n",
              "    .dataframe thead th {\n",
              "        text-align: right;\n",
              "    }\n",
              "</style>\n",
              "<table border=\"1\" class=\"dataframe\">\n",
              "  <thead>\n",
              "    <tr style=\"text-align: right;\">\n",
              "      <th></th>\n",
              "      <th>user_id</th>\n",
              "      <th>date_account_created</th>\n",
              "      <th>timestamp_first_active</th>\n",
              "      <th>gender</th>\n",
              "      <th>age</th>\n",
              "      <th>signup_method</th>\n",
              "      <th>signup_flow</th>\n",
              "      <th>language</th>\n",
              "      <th>affiliate_channel</th>\n",
              "      <th>affiliate_provider</th>\n",
              "      <th>...</th>\n",
              "      <th>action_detail</th>\n",
              "      <th>device_type</th>\n",
              "      <th>secs_elapsed</th>\n",
              "      <th>date_account_created_day</th>\n",
              "      <th>date_account_created_month</th>\n",
              "      <th>date_account_created_year</th>\n",
              "      <th>timestamp_first_active_day</th>\n",
              "      <th>timestamp_first_active_month</th>\n",
              "      <th>timestamp_first_active_year</th>\n",
              "      <th>timestamp_first_active_hour</th>\n",
              "    </tr>\n",
              "  </thead>\n",
              "  <tbody>\n",
              "    <tr>\n",
              "      <th>625</th>\n",
              "      <td>asxockumf4</td>\n",
              "      <td>2014-01-03</td>\n",
              "      <td>2014-01-03 13:10:56</td>\n",
              "      <td>-unknown-</td>\n",
              "      <td>34.0</td>\n",
              "      <td>basic</td>\n",
              "      <td>23</td>\n",
              "      <td>en</td>\n",
              "      <td>direct</td>\n",
              "      <td>direct</td>\n",
              "      <td>...</td>\n",
              "      <td>-unknown-,-unknown-,-unknown-,-unknown-,-unkno...</td>\n",
              "      <td>Android_App_Unknown_Phone/Tablet</td>\n",
              "      <td>197335.0</td>\n",
              "      <td>4</td>\n",
              "      <td>1</td>\n",
              "      <td>2014</td>\n",
              "      <td>4</td>\n",
              "      <td>1</td>\n",
              "      <td>2014</td>\n",
              "      <td>13</td>\n",
              "    </tr>\n",
              "  </tbody>\n",
              "</table>\n",
              "<p>1 rows × 27 columns</p>\n",
              "</div>"
            ],
            "text/plain": [
              "        user_id date_account_created timestamp_first_active     gender   age  \\\n",
              "625  asxockumf4           2014-01-03    2014-01-03 13:10:56  -unknown-  34.0   \n",
              "\n",
              "    signup_method  signup_flow language affiliate_channel affiliate_provider  \\\n",
              "625         basic           23       en            direct             direct   \n",
              "\n",
              "     ...                                      action_detail  \\\n",
              "625  ...  -unknown-,-unknown-,-unknown-,-unknown-,-unkno...   \n",
              "\n",
              "                          device_type secs_elapsed date_account_created_day  \\\n",
              "625  Android_App_Unknown_Phone/Tablet     197335.0                        4   \n",
              "\n",
              "    date_account_created_month date_account_created_year  \\\n",
              "625                          1                      2014   \n",
              "\n",
              "    timestamp_first_active_day timestamp_first_active_month  \\\n",
              "625                          4                            1   \n",
              "\n",
              "    timestamp_first_active_year  timestamp_first_active_hour  \n",
              "625                        2014                           13  \n",
              "\n",
              "[1 rows x 27 columns]"
            ]
          },
          "execution_count": 84,
          "metadata": {},
          "output_type": "execute_result"
        }
      ],
      "source": [
        "train_merge.sample()"
      ]
    },
    {
      "attachments": {},
      "cell_type": "markdown",
      "id": "76950a3e",
      "metadata": {},
      "source": [
        "## Encoding"
      ]
    },
    {
      "cell_type": "code",
      "execution_count": 85,
      "id": "244ab3ae",
      "metadata": {},
      "outputs": [],
      "source": [
        "# make one hot encoded columns\n",
        "\n",
        "encoded_list = []\n",
        "ohe = ['gender', 'signup_method', 'language', 'affiliate_channel',\\\n",
        "            'affiliate_provider', 'first_affiliate_tracked', 'signup_app', 'first_device_type', 'first_browser']\n",
        "\n",
        "for col in ohe:\n",
        "    train_ohe = pd.get_dummies(train_merge[col],prefix = col)\n",
        "    train_merge.drop([col], axis = 1, inplace = True)\n",
        "    \n",
        "    test_ohe = pd.get_dummies(test_merge[col], prefix = col)\n",
        "    test_merge.drop([col], axis = 1, inplace = True)\n",
        "    \n",
        "    encoded_list.append(train_ohe.columns)\n",
        "    \n",
        "    # Get missing columns in the training test\n",
        "    \n",
        "    missing_cols = set( train_ohe.columns ) - set( test_ohe.columns )\n",
        "    \n",
        "    # Add a missing column in test set with default value equal to 0\n",
        "    \n",
        "    for c in missing_cols:\n",
        "        test_ohe[c] = 0\n",
        "        \n",
        "    # Ensure the order of column in the test set is in the same order than in train set\n",
        "    test_ohe = test_ohe[train_ohe.columns]\n",
        "    \n",
        "    train_merge = pd.concat((train_merge, train_ohe), axis=1)    \n",
        "        \n",
        "    test_merge = pd.concat((test_merge, test_ohe), axis=1)"
      ]
    },
    {
      "cell_type": "code",
      "execution_count": 86,
      "id": "d7b06822",
      "metadata": {},
      "outputs": [],
      "source": [
        "# OHEfor `device_type` column\n",
        "\n",
        "train_ohe = train_merge['device_type'].str.get_dummies(sep=\",\")\n",
        "train_merge.drop(['device_type'], axis=1, inplace = True)\n",
        "    \n",
        "test_ohe = test_merge['device_type'].str.get_dummies(sep=\",\")\n",
        "test_merge.drop(['device_type'], axis=1, inplace = True)\n",
        "        \n",
        "# Get missing columns in the training test\n",
        "missing_cols = set( train_ohe.columns ) - set( test_ohe.columns )\n",
        "\n",
        "encoded_list.append(train_ohe.columns)\n",
        "    \n",
        "# Add a missing column in test set with default value equal to 0\n",
        "    \n",
        "for c in missing_cols:\n",
        "    test_ohe[c] = 0\n",
        "        \n",
        "# Ensure the order of column in the test set is in the same order than in train set\n",
        "test_ohe = test_ohe[train_ohe.columns]\n",
        "    \n",
        "train_merge = pd.concat((train_merge, train_ohe), axis=1)    \n",
        "        \n",
        "test_merge = pd.concat((test_merge, test_ohe), axis=1)"
      ]
    },
    {
      "cell_type": "code",
      "execution_count": 87,
      "id": "15a32708",
      "metadata": {},
      "outputs": [
        {
          "data": {
            "text/html": [
              "<div>\n",
              "<style scoped>\n",
              "    .dataframe tbody tr th:only-of-type {\n",
              "        vertical-align: middle;\n",
              "    }\n",
              "\n",
              "    .dataframe tbody tr th {\n",
              "        vertical-align: top;\n",
              "    }\n",
              "\n",
              "    .dataframe thead th {\n",
              "        text-align: right;\n",
              "    }\n",
              "</style>\n",
              "<table border=\"1\" class=\"dataframe\">\n",
              "  <thead>\n",
              "    <tr style=\"text-align: right;\">\n",
              "      <th></th>\n",
              "      <th>user_id</th>\n",
              "      <th>date_account_created</th>\n",
              "      <th>timestamp_first_active</th>\n",
              "      <th>age</th>\n",
              "      <th>signup_flow</th>\n",
              "      <th>country_destination</th>\n",
              "      <th>action</th>\n",
              "      <th>action_type</th>\n",
              "      <th>action_detail</th>\n",
              "      <th>secs_elapsed</th>\n",
              "      <th>...</th>\n",
              "      <th>Chromebook</th>\n",
              "      <th>Linux_Desktop</th>\n",
              "      <th>Mac_Desktop</th>\n",
              "      <th>Opera_Phone</th>\n",
              "      <th>Tablet</th>\n",
              "      <th>Windows_Desktop</th>\n",
              "      <th>Windows_Phone</th>\n",
              "      <th>iPad_Tablet</th>\n",
              "      <th>iPhone</th>\n",
              "      <th>iPodtouch</th>\n",
              "    </tr>\n",
              "  </thead>\n",
              "  <tbody>\n",
              "    <tr>\n",
              "      <th>23860</th>\n",
              "      <td>8vdlfqi1uu</td>\n",
              "      <td>2014-03-12</td>\n",
              "      <td>2014-03-12 22:29:27</td>\n",
              "      <td>23.0</td>\n",
              "      <td>0</td>\n",
              "      <td>NDF</td>\n",
              "      <td>header_userpic,authenticate,header_userpic,sea...</td>\n",
              "      <td>data,submit,data,click,click,view,click,submit...</td>\n",
              "      <td>header_userpic,login,header_userpic,view_searc...</td>\n",
              "      <td>39599.0</td>\n",
              "      <td>...</td>\n",
              "      <td>0</td>\n",
              "      <td>0</td>\n",
              "      <td>0</td>\n",
              "      <td>0</td>\n",
              "      <td>0</td>\n",
              "      <td>1</td>\n",
              "      <td>0</td>\n",
              "      <td>0</td>\n",
              "      <td>0</td>\n",
              "      <td>0</td>\n",
              "    </tr>\n",
              "  </tbody>\n",
              "</table>\n",
              "<p>1 rows × 142 columns</p>\n",
              "</div>"
            ],
            "text/plain": [
              "          user_id date_account_created timestamp_first_active   age  \\\n",
              "23860  8vdlfqi1uu           2014-03-12    2014-03-12 22:29:27  23.0   \n",
              "\n",
              "       signup_flow country_destination  \\\n",
              "23860            0                 NDF   \n",
              "\n",
              "                                                  action  \\\n",
              "23860  header_userpic,authenticate,header_userpic,sea...   \n",
              "\n",
              "                                             action_type  \\\n",
              "23860  data,submit,data,click,click,view,click,submit...   \n",
              "\n",
              "                                           action_detail  secs_elapsed  ...  \\\n",
              "23860  header_userpic,login,header_userpic,view_searc...       39599.0  ...   \n",
              "\n",
              "       Chromebook  Linux_Desktop  Mac_Desktop  Opera_Phone  Tablet  \\\n",
              "23860           0              0            0            0       0   \n",
              "\n",
              "       Windows_Desktop  Windows_Phone  iPad_Tablet  iPhone  iPodtouch  \n",
              "23860                1              0            0       0          0  \n",
              "\n",
              "[1 rows x 142 columns]"
            ]
          },
          "execution_count": 87,
          "metadata": {},
          "output_type": "execute_result"
        }
      ],
      "source": [
        "train_merge.sample()"
      ]
    },
    {
      "cell_type": "code",
      "execution_count": 88,
      "id": "5eee8599",
      "metadata": {},
      "outputs": [
        {
          "data": {
            "text/plain": [
              "Index(['user_id', 'date_account_created', 'timestamp_first_active', 'age',\n",
              "       'signup_flow', 'country_destination', 'action', 'action_type',\n",
              "       'action_detail', 'secs_elapsed',\n",
              "       ...\n",
              "       'Chromebook', 'Linux_Desktop', 'Mac_Desktop', 'Opera_Phone', 'Tablet',\n",
              "       'Windows_Desktop', 'Windows_Phone', 'iPad_Tablet', 'iPhone',\n",
              "       'iPodtouch'],\n",
              "      dtype='object', length=142)"
            ]
          },
          "execution_count": 88,
          "metadata": {},
          "output_type": "execute_result"
        }
      ],
      "source": [
        "train_merge.columns"
      ]
    },
    {
      "cell_type": "code",
      "execution_count": 89,
      "id": "7c62ebaa",
      "metadata": {},
      "outputs": [],
      "source": [
        "# setting the target variable\n",
        "y = train_merge['country_destination']"
      ]
    },
    {
      "cell_type": "code",
      "execution_count": 90,
      "id": "15598fe6",
      "metadata": {},
      "outputs": [],
      "source": [
        "# dropping redundant features\n",
        "train_merge.drop(['user_id','date_account_created','timestamp_first_active',\\\n",
        "                  'country_destination','user_id'],axis=1,inplace = True)\n",
        "\n",
        "test_merge.drop(['user_id','date_account_created','timestamp_first_active',\\\n",
        "                  'user_id'],axis=1,inplace = True)"
      ]
    },
    {
      "cell_type": "code",
      "execution_count": 92,
      "id": "e9b3da44",
      "metadata": {},
      "outputs": [
        {
          "name": "stdout",
          "output_type": "stream",
          "text": [
            "(73815, 138)\n",
            "(62096, 138)\n"
          ]
        }
      ],
      "source": [
        "print(train_merge.shape)\n",
        "print(test_merge.shape)"
      ]
    },
    {
      "attachments": {},
      "cell_type": "markdown",
      "id": "121a2e79",
      "metadata": {},
      "source": [
        "### Vectorization"
      ]
    },
    {
      "cell_type": "code",
      "execution_count": 93,
      "id": "4a193c42",
      "metadata": {},
      "outputs": [],
      "source": [
        "def tokens(x):\n",
        "    '''\n",
        "    Custom tokenizer function\n",
        "    '''\n",
        "    return x.split(',')"
      ]
    },
    {
      "cell_type": "code",
      "execution_count": 94,
      "id": "af5ad0f9",
      "metadata": {},
      "outputs": [
        {
          "name": "stderr",
          "output_type": "stream",
          "text": [
            "c:\\Users\\Volker\\anaconda3\\envs\\udacity\\lib\\site-packages\\sklearn\\feature_extraction\\text.py:524: UserWarning: The parameter 'token_pattern' will not be used since 'tokenizer' is not None'\n",
            "  warnings.warn(\n"
          ]
        }
      ],
      "source": [
        "# on `action` feature\n",
        "action_vectorizer = TfidfVectorizer(min_df = 10, max_features = 5000, tokenizer = tokens)\n",
        "\n",
        "action_vectorizer.fit(train_merge['action'].values)\n",
        "\n",
        "train_action_tfidf = action_vectorizer.transform(train_merge.action.values)\n",
        "test_action_tfidf = action_vectorizer.transform(test_merge.action.values)"
      ]
    },
    {
      "cell_type": "code",
      "execution_count": 95,
      "id": "c64ac113",
      "metadata": {},
      "outputs": [
        {
          "name": "stdout",
          "output_type": "stream",
          "text": [
            "(73815, 255)\n",
            "(62096, 255)\n"
          ]
        }
      ],
      "source": [
        "print(train_action_tfidf.shape)\n",
        "print(test_action_tfidf.shape)"
      ]
    },
    {
      "cell_type": "code",
      "execution_count": 96,
      "id": "22a26a9c",
      "metadata": {},
      "outputs": [
        {
          "name": "stderr",
          "output_type": "stream",
          "text": [
            "c:\\Users\\Volker\\anaconda3\\envs\\udacity\\lib\\site-packages\\sklearn\\utils\\deprecation.py:87: FutureWarning: Function get_feature_names is deprecated; get_feature_names is deprecated in 1.0 and will be removed in 1.2. Please use get_feature_names_out instead.\n",
            "  warnings.warn(msg, category=FutureWarning)\n"
          ]
        },
        {
          "data": {
            "text/plain": [
              "['10', '11', '12', '15', 'about_us']"
            ]
          },
          "execution_count": 96,
          "metadata": {},
          "output_type": "execute_result"
        }
      ],
      "source": [
        "# getting a list of some of the feature names\n",
        "action_features = action_vectorizer.get_feature_names()\n",
        "\n",
        "action_features[:5]"
      ]
    },
    {
      "cell_type": "code",
      "execution_count": 97,
      "id": "4045a034",
      "metadata": {},
      "outputs": [],
      "source": [
        "# on `action_type` feature\n",
        "action_type_vectorizer = TfidfVectorizer(min_df = 10, max_features = 5000, tokenizer = tokens)\n",
        "\n",
        "action_type_vectorizer.fit(train_merge['action_type'].values)\n",
        "\n",
        "train_action_type_tfidf = action_type_vectorizer.transform(train_merge.action_type.values)\n",
        "test_action_type_tfidf = action_type_vectorizer.transform(test_merge.action_type.values)"
      ]
    },
    {
      "cell_type": "code",
      "execution_count": 98,
      "id": "b5c76152",
      "metadata": {},
      "outputs": [
        {
          "name": "stdout",
          "output_type": "stream",
          "text": [
            "(73815, 8)\n",
            "(62096, 8)\n"
          ]
        }
      ],
      "source": [
        "print(train_action_type_tfidf.shape)\n",
        "print(test_action_type_tfidf.shape)"
      ]
    },
    {
      "cell_type": "code",
      "execution_count": 99,
      "id": "3a7161ab",
      "metadata": {},
      "outputs": [
        {
          "data": {
            "text/plain": [
              "['-unknown-', 'booking_request', 'click', 'data', 'message_post']"
            ]
          },
          "execution_count": 99,
          "metadata": {},
          "output_type": "execute_result"
        }
      ],
      "source": [
        "# getting a list of some of the feature names\n",
        "action_type_features = action_type_vectorizer.get_feature_names()\n",
        "\n",
        "action_type_features[:5]"
      ]
    },
    {
      "cell_type": "code",
      "execution_count": 100,
      "id": "8c1d644e",
      "metadata": {},
      "outputs": [],
      "source": [
        "# on `action_detail` feature\n",
        "action_detail_vectorizer = TfidfVectorizer(min_df = 10, max_features = 5000, tokenizer = tokens)\n",
        "\n",
        "action_detail_vectorizer.fit(train_merge['action_detail'].values)\n",
        "\n",
        "train_action_detail_tfidf = action_detail_vectorizer.transform(train_merge.action_detail.values)\n",
        "test_action_detail_tfidf = action_detail_vectorizer.transform(test_merge.action_type.values)"
      ]
    },
    {
      "cell_type": "code",
      "execution_count": 101,
      "id": "f0f27f1c",
      "metadata": {},
      "outputs": [
        {
          "name": "stdout",
          "output_type": "stream",
          "text": [
            "(73815, 121)\n",
            "(62096, 121)\n"
          ]
        }
      ],
      "source": [
        "print(train_action_detail_tfidf.shape)\n",
        "print(test_action_detail_tfidf.shape)"
      ]
    },
    {
      "cell_type": "code",
      "execution_count": 102,
      "id": "f028fddb",
      "metadata": {},
      "outputs": [
        {
          "data": {
            "text/plain": [
              "['-unknown-',\n",
              " 'account_notification_settings',\n",
              " 'account_payout_preferences',\n",
              " 'account_privacy_settings',\n",
              " 'account_transaction_history']"
            ]
          },
          "execution_count": 102,
          "metadata": {},
          "output_type": "execute_result"
        }
      ],
      "source": [
        "# getting a list of some of the feature names\n",
        "action_detail_features = action_detail_vectorizer.get_feature_names()\n",
        "\n",
        "action_detail_features[:5]"
      ]
    },
    {
      "cell_type": "code",
      "execution_count": 103,
      "id": "47cd50c9",
      "metadata": {},
      "outputs": [],
      "source": [
        "# drop redundant columns\n",
        "train_merge.drop(['action','action_type','action_detail'],axis=1,inplace = True)\n",
        "\n",
        "test_merge.drop(['action','action_type','action_detail'],axis=1,inplace = True)"
      ]
    },
    {
      "cell_type": "code",
      "execution_count": 104,
      "id": "622f41b2",
      "metadata": {},
      "outputs": [
        {
          "data": {
            "text/plain": [
              "['age',\n",
              " 'signup_flow',\n",
              " 'secs_elapsed',\n",
              " 'date_account_created_day',\n",
              " 'date_account_created_month']"
            ]
          },
          "execution_count": 104,
          "metadata": {},
          "output_type": "execute_result"
        }
      ],
      "source": [
        "col_lst = [i for i in train_merge.columns]\n",
        "\n",
        "col_lst[:5]"
      ]
    },
    {
      "cell_type": "code",
      "execution_count": 105,
      "id": "479db453",
      "metadata": {},
      "outputs": [
        {
          "data": {
            "text/plain": [
              "519"
            ]
          },
          "execution_count": 105,
          "metadata": {},
          "output_type": "execute_result"
        }
      ],
      "source": [
        "# get all feature names\n",
        "col_lst.extend(action_features)\n",
        "\n",
        "col_lst.extend(action_type_features)\n",
        "\n",
        "col_lst.extend(action_detail_features)\n",
        "\n",
        "\n",
        "len(col_lst)"
      ]
    },
    {
      "attachments": {},
      "cell_type": "markdown",
      "id": "16a3ba25",
      "metadata": {},
      "source": [
        "### Combining the data with our train dataframe"
      ]
    },
    {
      "cell_type": "code",
      "execution_count": 106,
      "id": "941c03ba",
      "metadata": {},
      "outputs": [],
      "source": [
        "train_merge_tfidf = hstack((train_merge, train_action_tfidf,train_action_type_tfidf, train_action_detail_tfidf)).tocsr()\n",
        "test_merge_tfidf = hstack((test_merge, test_action_tfidf,test_action_type_tfidf, test_action_detail_tfidf)).tocsr()"
      ]
    },
    {
      "cell_type": "code",
      "execution_count": 107,
      "id": "b53a971e",
      "metadata": {},
      "outputs": [
        {
          "data": {
            "text/plain": [
              "(62096, 519)"
            ]
          },
          "execution_count": 107,
          "metadata": {},
          "output_type": "execute_result"
        }
      ],
      "source": [
        "test_merge_tfidf.shape"
      ]
    },
    {
      "attachments": {},
      "cell_type": "markdown",
      "id": "e17ba9bf",
      "metadata": {},
      "source": [
        "## Training"
      ]
    },
    {
      "cell_type": "code",
      "execution_count": 109,
      "id": "07481a1f",
      "metadata": {},
      "outputs": [
        {
          "data": {
            "text/plain": [
              "scipy.sparse.csr.csr_matrix"
            ]
          },
          "execution_count": 109,
          "metadata": {},
          "output_type": "execute_result"
        }
      ],
      "source": [
        "type(train_merge_tfidf)"
      ]
    },
    {
      "cell_type": "code",
      "execution_count": 110,
      "id": "4672e72d",
      "metadata": {},
      "outputs": [],
      "source": [
        "# encoding the target variables\n",
        "le = LabelEncoder()\n",
        "\n",
        "y = le.fit_transform(y)"
      ]
    },
    {
      "cell_type": "code",
      "execution_count": 111,
      "id": "6e1b324e",
      "metadata": {},
      "outputs": [],
      "source": [
        "# https://www.kaggle.com/davidgasquez/ndcg-scorer\n",
        "# setting the ndcg scorer\n",
        "\n",
        "\n",
        "def dcg_score(y_true, y_score, k=5):\n",
        "    \n",
        "    \"\"\"Discounted cumulative gain (DCG) at rank K.\n",
        "\n",
        "    Parameters\n",
        "    ----------\n",
        "    y_true : array, shape = [n_samples]\n",
        "        Ground truth (true relevance labels).\n",
        "    y_score : array, shape = [n_samples, n_classes]\n",
        "        Predicted scores.\n",
        "    k : int\n",
        "        Rank.\n",
        "\n",
        "    Returns\n",
        "    -------\n",
        "    score : float\n",
        "    \"\"\"\n",
        "    \n",
        "    order = np.argsort(y_score)[::-1]\n",
        "    y_true = np.take(y_true, order[:k])\n",
        "\n",
        "    gain = 2 ** y_true - 1\n",
        "\n",
        "    discounts = np.log2(np.arange(len(y_true)) + 2)\n",
        "    return np.sum(gain / discounts)\n",
        "\n",
        "\n",
        "def ndcg_score(ground_truth, predictions, k=5):\n",
        "    \n",
        "    \"\"\"Normalized discounted cumulative gain (NDCG) at rank K.\n",
        "\n",
        "    Normalized Discounted Cumulative Gain (NDCG) measures the performance of a\n",
        "    recommendation system based on the graded relevance of the recommended\n",
        "    entities. It varies from 0.0 to 1.0, with 1.0 representing the ideal\n",
        "    ranking of the entities.\n",
        "\n",
        "    Parameters\n",
        "    ----------\n",
        "    ground_truth : array, shape = [n_samples]\n",
        "        Ground truth (true labels represended as integers).\n",
        "    predictions : array, shape = [n_samples, n_classes]\n",
        "        Predicted probabilities.\n",
        "    k : int\n",
        "        Rank.\n",
        "\n",
        "    Returns\n",
        "    -------\n",
        "    score : float\n",
        "\n",
        "    Example\n",
        "    -------\n",
        "    >>> ground_truth = [1, 0, 2]\n",
        "    >>> predictions = [[0.15, 0.55, 0.2], [0.7, 0.2, 0.1], [0.06, 0.04, 0.9]]\n",
        "    >>> score = ndcg_score(ground_truth, predictions, k=2)\n",
        "    1.0\n",
        "    >>> predictions = [[0.9, 0.5, 0.8], [0.7, 0.2, 0.1], [0.06, 0.04, 0.9]]\n",
        "    >>> score = ndcg_score(ground_truth, predictions, k=2)\n",
        "    0.6666666666\n",
        "    \"\"\"\n",
        "    \n",
        "    lb = LabelBinarizer()\n",
        "    lb.fit(range(predictions.shape[1] + 1))\n",
        "    T = lb.transform(ground_truth)\n",
        "\n",
        "    scores = []\n",
        "\n",
        "    # Iterate over each y_true and compute the DCG score\n",
        "    for y_true, y_score in zip(T, predictions):\n",
        "        actual = dcg_score(y_true, y_score, k)\n",
        "        best = dcg_score(y_true, y_true, k)\n",
        "        score = float(actual) / float(best)\n",
        "        scores.append(score)\n",
        "\n",
        "    return np.mean(scores)\n",
        "\n",
        "\n",
        "# NDCG Scorer function\n",
        "ndcg_scorer = make_scorer(ndcg_score, needs_proba=True, k=5)"
      ]
    },
    {
      "cell_type": "code",
      "execution_count": 112,
      "id": "45b7f29a",
      "metadata": {},
      "outputs": [],
      "source": [
        "gb = GradientBoostingClassifier()"
      ]
    },
    {
      "cell_type": "code",
      "execution_count": 113,
      "id": "16343274",
      "metadata": {},
      "outputs": [],
      "source": [
        "X_train, X_test, y_train, y_test = train_test_split(train_merge_tfidf,y, test_size =0.25 , random_state = 42)"
      ]
    },
    {
      "cell_type": "code",
      "execution_count": 114,
      "id": "35e5f71e",
      "metadata": {},
      "outputs": [
        {
          "data": {
            "text/html": [
              "<style>#sk-container-id-1 {color: black;background-color: white;}#sk-container-id-1 pre{padding: 0;}#sk-container-id-1 div.sk-toggleable {background-color: white;}#sk-container-id-1 label.sk-toggleable__label {cursor: pointer;display: block;width: 100%;margin-bottom: 0;padding: 0.3em;box-sizing: border-box;text-align: center;}#sk-container-id-1 label.sk-toggleable__label-arrow:before {content: \"▸\";float: left;margin-right: 0.25em;color: #696969;}#sk-container-id-1 label.sk-toggleable__label-arrow:hover:before {color: black;}#sk-container-id-1 div.sk-estimator:hover label.sk-toggleable__label-arrow:before {color: black;}#sk-container-id-1 div.sk-toggleable__content {max-height: 0;max-width: 0;overflow: hidden;text-align: left;background-color: #f0f8ff;}#sk-container-id-1 div.sk-toggleable__content pre {margin: 0.2em;color: black;border-radius: 0.25em;background-color: #f0f8ff;}#sk-container-id-1 input.sk-toggleable__control:checked~div.sk-toggleable__content {max-height: 200px;max-width: 100%;overflow: auto;}#sk-container-id-1 input.sk-toggleable__control:checked~label.sk-toggleable__label-arrow:before {content: \"▾\";}#sk-container-id-1 div.sk-estimator input.sk-toggleable__control:checked~label.sk-toggleable__label {background-color: #d4ebff;}#sk-container-id-1 div.sk-label input.sk-toggleable__control:checked~label.sk-toggleable__label {background-color: #d4ebff;}#sk-container-id-1 input.sk-hidden--visually {border: 0;clip: rect(1px 1px 1px 1px);clip: rect(1px, 1px, 1px, 1px);height: 1px;margin: -1px;overflow: hidden;padding: 0;position: absolute;width: 1px;}#sk-container-id-1 div.sk-estimator {font-family: monospace;background-color: #f0f8ff;border: 1px dotted black;border-radius: 0.25em;box-sizing: border-box;margin-bottom: 0.5em;}#sk-container-id-1 div.sk-estimator:hover {background-color: #d4ebff;}#sk-container-id-1 div.sk-parallel-item::after {content: \"\";width: 100%;border-bottom: 1px solid gray;flex-grow: 1;}#sk-container-id-1 div.sk-label:hover label.sk-toggleable__label {background-color: #d4ebff;}#sk-container-id-1 div.sk-serial::before {content: \"\";position: absolute;border-left: 1px solid gray;box-sizing: border-box;top: 0;bottom: 0;left: 50%;z-index: 0;}#sk-container-id-1 div.sk-serial {display: flex;flex-direction: column;align-items: center;background-color: white;padding-right: 0.2em;padding-left: 0.2em;position: relative;}#sk-container-id-1 div.sk-item {position: relative;z-index: 1;}#sk-container-id-1 div.sk-parallel {display: flex;align-items: stretch;justify-content: center;background-color: white;position: relative;}#sk-container-id-1 div.sk-item::before, #sk-container-id-1 div.sk-parallel-item::before {content: \"\";position: absolute;border-left: 1px solid gray;box-sizing: border-box;top: 0;bottom: 0;left: 50%;z-index: -1;}#sk-container-id-1 div.sk-parallel-item {display: flex;flex-direction: column;z-index: 1;position: relative;background-color: white;}#sk-container-id-1 div.sk-parallel-item:first-child::after {align-self: flex-end;width: 50%;}#sk-container-id-1 div.sk-parallel-item:last-child::after {align-self: flex-start;width: 50%;}#sk-container-id-1 div.sk-parallel-item:only-child::after {width: 0;}#sk-container-id-1 div.sk-dashed-wrapped {border: 1px dashed gray;margin: 0 0.4em 0.5em 0.4em;box-sizing: border-box;padding-bottom: 0.4em;background-color: white;}#sk-container-id-1 div.sk-label label {font-family: monospace;font-weight: bold;display: inline-block;line-height: 1.2em;}#sk-container-id-1 div.sk-label-container {text-align: center;}#sk-container-id-1 div.sk-container {/* jupyter's `normalize.less` sets `[hidden] { display: none; }` but bootstrap.min.css set `[hidden] { display: none !important; }` so we also need the `!important` here to be able to override the default hidden behavior on the sphinx rendered scikit-learn.org. See: https://github.com/scikit-learn/scikit-learn/issues/21755 */display: inline-block !important;position: relative;}#sk-container-id-1 div.sk-text-repr-fallback {display: none;}</style><div id=\"sk-container-id-1\" class=\"sk-top-container\"><div class=\"sk-text-repr-fallback\"><pre>GradientBoostingClassifier()</pre><b>In a Jupyter environment, please rerun this cell to show the HTML representation or trust the notebook. <br />On GitHub, the HTML representation is unable to render, please try loading this page with nbviewer.org.</b></div><div class=\"sk-container\" hidden><div class=\"sk-item\"><div class=\"sk-estimator sk-toggleable\"><input class=\"sk-toggleable__control sk-hidden--visually\" id=\"sk-estimator-id-1\" type=\"checkbox\" checked><label for=\"sk-estimator-id-1\" class=\"sk-toggleable__label sk-toggleable__label-arrow\">GradientBoostingClassifier</label><div class=\"sk-toggleable__content\"><pre>GradientBoostingClassifier()</pre></div></div></div></div></div>"
            ],
            "text/plain": [
              "GradientBoostingClassifier()"
            ]
          },
          "execution_count": 114,
          "metadata": {},
          "output_type": "execute_result"
        }
      ],
      "source": [
        "gb.fit(X_train, y_train)"
      ]
    },
    {
      "cell_type": "code",
      "execution_count": null,
      "id": "bf81a954",
      "metadata": {},
      "outputs": [],
      "source": [
        "gb.get_params()\n",
        "\n",
        "# {'ccp_alpha': 0.0,\n",
        "#  'criterion': 'friedman_mse',\n",
        "#  'init': None,\n",
        "#  'learning_rate': 0.1,\n",
        "#  'loss': 'log_loss',\n",
        "#  'max_depth': 3,\n",
        "#  'max_features': None,\n",
        "#  'max_leaf_nodes': None,\n",
        "#  'min_impurity_decrease': 0.0,\n",
        "#  'min_samples_leaf': 1,\n",
        "#  'min_samples_split': 2,\n",
        "#  'min_weight_fraction_leaf': 0.0,\n",
        "#  'n_estimators': 100,\n",
        "#  'n_iter_no_change': None,\n",
        "#  'random_state': None,\n",
        "#  'subsample': 1.0,\n",
        "#  'tol': 0.0001,\n",
        "#  'validation_fraction': 0.1,\n",
        "#  'verbose': 0,\n",
        "#  'warm_start': False}"
      ]
    },
    {
      "cell_type": "code",
      "execution_count": 115,
      "id": "1fb06fbe",
      "metadata": {},
      "outputs": [],
      "source": [
        "y_pred = gb.predict_proba(train_merge_tfidf)\n",
        "\n",
        "scored = ndcg_score(y, y_pred)"
      ]
    },
    {
      "cell_type": "code",
      "execution_count": 117,
      "id": "4b511198",
      "metadata": {},
      "outputs": [
        {
          "data": {
            "text/plain": [
              "87.24310137425141"
            ]
          },
          "execution_count": 117,
          "metadata": {},
          "output_type": "execute_result"
        }
      ],
      "source": [
        "scored * 100"
      ]
    },
    {
      "cell_type": "code",
      "execution_count": 131,
      "id": "68573a44",
      "metadata": {},
      "outputs": [
        {
          "data": {
            "image/png": "[encoded data removed]",
            "text/plain": [
              "<Figure size 720x864 with 1 Axes>"
            ]
          },
          "metadata": {
            "needs_background": "dark"
          },
          "output_type": "display_data"
        }
      ],
      "source": [
        "features = col_lst\n",
        "importances = gb.feature_importances_\n",
        "\n",
        "indices = (np.argsort(importances))[-25:]\n",
        "plt.figure(figsize = (10, 12))\n",
        "plt.title('Feature Importances')\n",
        "plt.barh(range(len(indices)), importances[indices], align = 'center')\n",
        "\n",
        "plt.yticks(ticks = range(len(indices)), labels = [features[i] for i in indices])\n",
        "plt.xlabel('Importances (relative)')\n",
        "plt.show()"
      ]
    },
    {
      "attachments": {},
      "cell_type": "markdown",
      "id": "5bd81706",
      "metadata": {},
      "source": [
        "#### Top features"
      ]
    },
    {
      "cell_type": "code",
      "execution_count": 132,
      "id": "8b89fc69",
      "metadata": {},
      "outputs": [],
      "source": [
        "top_80 = int(len(gb.feature_importances_)*0.8)\n",
        "\n",
        "indices = (np.argsort(importances))[::-1][:top_80]"
      ]
    },
    {
      "cell_type": "code",
      "execution_count": 133,
      "id": "02f3f822",
      "metadata": {},
      "outputs": [
        {
          "data": {
            "text/plain": [
              "415"
            ]
          },
          "execution_count": 133,
          "metadata": {},
          "output_type": "execute_result"
        }
      ],
      "source": [
        "top_80"
      ]
    },
    {
      "attachments": {},
      "cell_type": "markdown",
      "id": "9d6d1c0a",
      "metadata": {},
      "source": [
        "#### Reducing features based on important features"
      ]
    },
    {
      "cell_type": "code",
      "execution_count": 134,
      "id": "c9627aff",
      "metadata": {},
      "outputs": [],
      "source": [
        "cols = []\n",
        "\n",
        "for i in indices:\n",
        "    \n",
        "    cols.append(train_merge_tfidf[:,i])\n",
        "    \n",
        "train_merge_tfidf_new = hstack(cols)\n",
        "\n",
        "cols = []\n",
        "\n",
        "for i in indices:\n",
        "    \n",
        "    cols.append(test_merge_tfidf[:,i])\n",
        "    \n",
        "test_merge_tfidf_new = hstack(cols)\n",
        "\n",
        "col_lst_new = []\n",
        "\n",
        "for i in indices:\n",
        "    \n",
        "     col_lst_new.append(col_lst[i])"
      ]
    },
    {
      "cell_type": "code",
      "execution_count": 136,
      "id": "8a5480b8",
      "metadata": {},
      "outputs": [
        {
          "data": {
            "text/html": [
              "<style>#sk-container-id-2 {color: black;background-color: white;}#sk-container-id-2 pre{padding: 0;}#sk-container-id-2 div.sk-toggleable {background-color: white;}#sk-container-id-2 label.sk-toggleable__label {cursor: pointer;display: block;width: 100%;margin-bottom: 0;padding: 0.3em;box-sizing: border-box;text-align: center;}#sk-container-id-2 label.sk-toggleable__label-arrow:before {content: \"▸\";float: left;margin-right: 0.25em;color: #696969;}#sk-container-id-2 label.sk-toggleable__label-arrow:hover:before {color: black;}#sk-container-id-2 div.sk-estimator:hover label.sk-toggleable__label-arrow:before {color: black;}#sk-container-id-2 div.sk-toggleable__content {max-height: 0;max-width: 0;overflow: hidden;text-align: left;background-color: #f0f8ff;}#sk-container-id-2 div.sk-toggleable__content pre {margin: 0.2em;color: black;border-radius: 0.25em;background-color: #f0f8ff;}#sk-container-id-2 input.sk-toggleable__control:checked~div.sk-toggleable__content {max-height: 200px;max-width: 100%;overflow: auto;}#sk-container-id-2 input.sk-toggleable__control:checked~label.sk-toggleable__label-arrow:before {content: \"▾\";}#sk-container-id-2 div.sk-estimator input.sk-toggleable__control:checked~label.sk-toggleable__label {background-color: #d4ebff;}#sk-container-id-2 div.sk-label input.sk-toggleable__control:checked~label.sk-toggleable__label {background-color: #d4ebff;}#sk-container-id-2 input.sk-hidden--visually {border: 0;clip: rect(1px 1px 1px 1px);clip: rect(1px, 1px, 1px, 1px);height: 1px;margin: -1px;overflow: hidden;padding: 0;position: absolute;width: 1px;}#sk-container-id-2 div.sk-estimator {font-family: monospace;background-color: #f0f8ff;border: 1px dotted black;border-radius: 0.25em;box-sizing: border-box;margin-bottom: 0.5em;}#sk-container-id-2 div.sk-estimator:hover {background-color: #d4ebff;}#sk-container-id-2 div.sk-parallel-item::after {content: \"\";width: 100%;border-bottom: 1px solid gray;flex-grow: 1;}#sk-container-id-2 div.sk-label:hover label.sk-toggleable__label {background-color: #d4ebff;}#sk-container-id-2 div.sk-serial::before {content: \"\";position: absolute;border-left: 1px solid gray;box-sizing: border-box;top: 0;bottom: 0;left: 50%;z-index: 0;}#sk-container-id-2 div.sk-serial {display: flex;flex-direction: column;align-items: center;background-color: white;padding-right: 0.2em;padding-left: 0.2em;position: relative;}#sk-container-id-2 div.sk-item {position: relative;z-index: 1;}#sk-container-id-2 div.sk-parallel {display: flex;align-items: stretch;justify-content: center;background-color: white;position: relative;}#sk-container-id-2 div.sk-item::before, #sk-container-id-2 div.sk-parallel-item::before {content: \"\";position: absolute;border-left: 1px solid gray;box-sizing: border-box;top: 0;bottom: 0;left: 50%;z-index: -1;}#sk-container-id-2 div.sk-parallel-item {display: flex;flex-direction: column;z-index: 1;position: relative;background-color: white;}#sk-container-id-2 div.sk-parallel-item:first-child::after {align-self: flex-end;width: 50%;}#sk-container-id-2 div.sk-parallel-item:last-child::after {align-self: flex-start;width: 50%;}#sk-container-id-2 div.sk-parallel-item:only-child::after {width: 0;}#sk-container-id-2 div.sk-dashed-wrapped {border: 1px dashed gray;margin: 0 0.4em 0.5em 0.4em;box-sizing: border-box;padding-bottom: 0.4em;background-color: white;}#sk-container-id-2 div.sk-label label {font-family: monospace;font-weight: bold;display: inline-block;line-height: 1.2em;}#sk-container-id-2 div.sk-label-container {text-align: center;}#sk-container-id-2 div.sk-container {/* jupyter's `normalize.less` sets `[hidden] { display: none; }` but bootstrap.min.css set `[hidden] { display: none !important; }` so we also need the `!important` here to be able to override the default hidden behavior on the sphinx rendered scikit-learn.org. See: https://github.com/scikit-learn/scikit-learn/issues/21755 */display: inline-block !important;position: relative;}#sk-container-id-2 div.sk-text-repr-fallback {display: none;}</style><div id=\"sk-container-id-2\" class=\"sk-top-container\"><div class=\"sk-text-repr-fallback\"><pre>GradientBoostingClassifier()</pre><b>In a Jupyter environment, please rerun this cell to show the HTML representation or trust the notebook. <br />On GitHub, the HTML representation is unable to render, please try loading this page with nbviewer.org.</b></div><div class=\"sk-container\" hidden><div class=\"sk-item\"><div class=\"sk-estimator sk-toggleable\"><input class=\"sk-toggleable__control sk-hidden--visually\" id=\"sk-estimator-id-2\" type=\"checkbox\" checked><label for=\"sk-estimator-id-2\" class=\"sk-toggleable__label sk-toggleable__label-arrow\">GradientBoostingClassifier</label><div class=\"sk-toggleable__content\"><pre>GradientBoostingClassifier()</pre></div></div></div></div></div>"
            ],
            "text/plain": [
              "GradientBoostingClassifier()"
            ]
          },
          "execution_count": 136,
          "metadata": {},
          "output_type": "execute_result"
        }
      ],
      "source": [
        "gb.fit(train_merge_tfidf_new, y)"
      ]
    },
    {
      "cell_type": "code",
      "execution_count": 167,
      "id": "f7f4d64d",
      "metadata": {},
      "outputs": [
        {
          "name": "stdout",
          "output_type": "stream",
          "text": [
            "72.68034952245479\n"
          ]
        }
      ],
      "source": [
        "# standard accuracy score\n",
        "print(gb.score(train_merge_tfidf_new, y) * 100)"
      ]
    },
    {
      "cell_type": "code",
      "execution_count": 138,
      "id": "aa961230",
      "metadata": {},
      "outputs": [
        {
          "data": {
            "text/plain": [
              "0.8756574675712561"
            ]
          },
          "execution_count": 138,
          "metadata": {},
          "output_type": "execute_result"
        }
      ],
      "source": [
        "new_pred = gb.predict_proba(train_merge_tfidf_new)\n",
        "\n",
        "scored = ndcg_score(y, new_pred, k = 5)\n",
        "scored"
      ]
    },
    {
      "attachments": {},
      "cell_type": "markdown",
      "id": "86c2fe99",
      "metadata": {},
      "source": [
        "#### New feature importances"
      ]
    },
    {
      "cell_type": "code",
      "execution_count": 139,
      "id": "0bbd7a3e",
      "metadata": {},
      "outputs": [
        {
          "data": {
            "image/png": "[encoded data removed]",
            "text/plain": [
              "<Figure size 720x864 with 1 Axes>"
            ]
          },
          "metadata": {
            "needs_background": "dark"
          },
          "output_type": "display_data"
        }
      ],
      "source": [
        "features = col_lst_new\n",
        "importances = gb.feature_importances_\n",
        "indices = (np.argsort(importances))[-25:]\n",
        "plt.figure(figsize=(10,12))\n",
        "plt.title('Feature Importances')\n",
        "plt.barh(range(len(indices)), importances[indices], color='r', align='center')\n",
        "plt.yticks(range(len(indices)), [features[i] for i in indices])\n",
        "plt.xlabel('Relative Importance')\n",
        "plt.show()"
      ]
    },
    {
      "cell_type": "code",
      "execution_count": 145,
      "id": "dbec1ef2",
      "metadata": {},
      "outputs": [
        {
          "data": {
            "text/plain": [
              "array(['5uwns89zht', 'jtl0dijy2j', 'xx0ulgorjt', ..., 'fa6260ziny',\n",
              "       '87k0fy4ugm', '9uqfg8txu3'], dtype=object)"
            ]
          },
          "execution_count": 145,
          "metadata": {},
          "output_type": "execute_result"
        }
      ],
      "source": [
        "test_id = test.user_id.values\n",
        "test_id"
      ]
    },
    {
      "attachments": {},
      "cell_type": "markdown",
      "id": "bc40a87a",
      "metadata": {},
      "source": [
        "## Predictions"
      ]
    },
    {
      "cell_type": "code",
      "execution_count": 146,
      "id": "181bc0e9",
      "metadata": {},
      "outputs": [],
      "source": [
        "test_pred = gb.predict_proba(test_merge_tfidf_new)"
      ]
    },
    {
      "cell_type": "code",
      "execution_count": 154,
      "id": "36aaf2f2",
      "metadata": {},
      "outputs": [
        {
          "data": {
            "text/plain": [
              "(62096, 12)"
            ]
          },
          "execution_count": 154,
          "metadata": {},
          "output_type": "execute_result"
        }
      ],
      "source": [
        "test_pred.shape"
      ]
    },
    {
      "attachments": {},
      "cell_type": "markdown",
      "id": "99ac17a3",
      "metadata": {},
      "source": [
        "### Creating submissions file"
      ]
    },
    {
      "cell_type": "code",
      "execution_count": 163,
      "id": "a93736a5",
      "metadata": {},
      "outputs": [],
      "source": [
        "#Taking the 5 classes with highest probabilities\n",
        "ids = []  #list of ids\n",
        "countries = []  #list of countries\n",
        "for i in range(len(test_id)):\n",
        "    idx = test_id[i]\n",
        "    ids += [idx] * 5\n",
        "    countries += le.inverse_transform(np.argsort(test_pred[i])[::-1])[:5].tolist()\n",
        "# Generate submission\n",
        "sub = pd.DataFrame(np.column_stack((ids, countries)), columns=['id', 'country'])\n",
        "sub.to_csv('random_forest_submission.csv',index=False)"
      ]
    },
    {
      "cell_type": "code",
      "execution_count": 160,
      "id": "c9289871",
      "metadata": {},
      "outputs": [
        {
          "data": {
            "text/plain": [
              "['NDF', 'US', 'other', 'FR', 'GB', 'US', 'NDF', 'other', 'FR', 'IT']"
            ]
          },
          "execution_count": 160,
          "metadata": {},
          "output_type": "execute_result"
        }
      ],
      "source": [
        "countries[:10]"
      ]
    },
    {
      "cell_type": "code",
      "execution_count": 164,
      "id": "013b157f",
      "metadata": {},
      "outputs": [
        {
          "data": {
            "text/html": [
              "<div>\n",
              "<style scoped>\n",
              "    .dataframe tbody tr th:only-of-type {\n",
              "        vertical-align: middle;\n",
              "    }\n",
              "\n",
              "    .dataframe tbody tr th {\n",
              "        vertical-align: top;\n",
              "    }\n",
              "\n",
              "    .dataframe thead th {\n",
              "        text-align: right;\n",
              "    }\n",
              "</style>\n",
              "<table border=\"1\" class=\"dataframe\">\n",
              "  <thead>\n",
              "    <tr style=\"text-align: right;\">\n",
              "      <th></th>\n",
              "      <th>id</th>\n",
              "      <th>country</th>\n",
              "    </tr>\n",
              "  </thead>\n",
              "  <tbody>\n",
              "    <tr>\n",
              "      <th>0</th>\n",
              "      <td>5uwns89zht</td>\n",
              "      <td>NDF</td>\n",
              "    </tr>\n",
              "    <tr>\n",
              "      <th>1</th>\n",
              "      <td>5uwns89zht</td>\n",
              "      <td>US</td>\n",
              "    </tr>\n",
              "    <tr>\n",
              "      <th>2</th>\n",
              "      <td>5uwns89zht</td>\n",
              "      <td>other</td>\n",
              "    </tr>\n",
              "    <tr>\n",
              "      <th>3</th>\n",
              "      <td>5uwns89zht</td>\n",
              "      <td>FR</td>\n",
              "    </tr>\n",
              "    <tr>\n",
              "      <th>4</th>\n",
              "      <td>5uwns89zht</td>\n",
              "      <td>GB</td>\n",
              "    </tr>\n",
              "    <tr>\n",
              "      <th>5</th>\n",
              "      <td>jtl0dijy2j</td>\n",
              "      <td>US</td>\n",
              "    </tr>\n",
              "    <tr>\n",
              "      <th>6</th>\n",
              "      <td>jtl0dijy2j</td>\n",
              "      <td>NDF</td>\n",
              "    </tr>\n",
              "    <tr>\n",
              "      <th>7</th>\n",
              "      <td>jtl0dijy2j</td>\n",
              "      <td>other</td>\n",
              "    </tr>\n",
              "    <tr>\n",
              "      <th>8</th>\n",
              "      <td>jtl0dijy2j</td>\n",
              "      <td>FR</td>\n",
              "    </tr>\n",
              "    <tr>\n",
              "      <th>9</th>\n",
              "      <td>jtl0dijy2j</td>\n",
              "      <td>IT</td>\n",
              "    </tr>\n",
              "  </tbody>\n",
              "</table>\n",
              "</div>"
            ],
            "text/plain": [
              "           id country\n",
              "0  5uwns89zht     NDF\n",
              "1  5uwns89zht      US\n",
              "2  5uwns89zht   other\n",
              "3  5uwns89zht      FR\n",
              "4  5uwns89zht      GB\n",
              "5  jtl0dijy2j      US\n",
              "6  jtl0dijy2j     NDF\n",
              "7  jtl0dijy2j   other\n",
              "8  jtl0dijy2j      FR\n",
              "9  jtl0dijy2j      IT"
            ]
          },
          "execution_count": 164,
          "metadata": {},
          "output_type": "execute_result"
        }
      ],
      "source": [
        "sub.head(10)"
      ]
    },
    {
      "cell_type": "code",
      "execution_count": null,
      "id": "e60483b1",
      "metadata": {},
      "outputs": [],
      "source": []
    }
  ],
  "metadata": {
    "colab": {
      "provenance": []
    },
    "kernelspec": {
      "display_name": "udacity",
      "language": "python",
      "name": "python3"
    },
    "language_info": {
      "codemirror_mode": {
        "name": "ipython",
        "version": 3
      },
      "file_extension": ".py",
      "mimetype": "text/x-python",
      "name": "python",
      "nbconvert_exporter": "python",
      "pygments_lexer": "ipython3",
      "version": "3.8.13"
    },
    "vscode": {
      "interpreter": {
        "hash": "9c26bc8910bde2d57c0a6ca9c8857c627c389b25f72a522a8cbfd042891232d7"
      }
    }
  },
  "nbformat": 4,
  "nbformat_minor": 5
}
